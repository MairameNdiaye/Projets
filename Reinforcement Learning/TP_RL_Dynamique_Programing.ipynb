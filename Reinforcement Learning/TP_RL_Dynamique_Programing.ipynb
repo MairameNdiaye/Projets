{
 "cells": [
  {
   "attachments": {},
   "cell_type": "markdown",
   "metadata": {},
   "source": [
    "Ce TP a été réalisé en binôme par NDIAYE Maïrame et VED Olesia en M2 IASD en apprentissage. "
   ]
  },
  {
   "cell_type": "markdown",
   "metadata": {
    "id": "GqDAHSx_XFh9"
   },
   "source": [
    "# Value Iteration & Policy Iteration"
   ]
  },
  {
   "cell_type": "markdown",
   "metadata": {
    "id": "BeCbCndGXPr_"
   },
   "source": [
    "On va utiliser l'exemple du monde grille simple. \n",
    "\n",
    "![Grid World](https://www.lamsade.dauphine.fr/~airiau/Teaching/M2-IASDapp-RL/gridworld.png)\n",
    "\n",
    "\n",
    "\n",
    "On va numéroter les états comme suit:\n",
    "\n",
    "| 7 | 8 | 9 | 10 |\n",
    "|---|---|----|---|\n",
    "| **4** |  - | **5** | **6**  |\n",
    "| **0** | **1** | **2** | **3**  |\n",
    "\n",
    "Les états finaux sont donc les états 6 et 10.\n",
    "\n",
    "On a 4 actions disponibles, on les encode de la façon suivante:\n",
    "* $\\uparrow$: 0 \n",
    "* $\\leftarrow$ : 1\n",
    "* $\\downarrow$: 2\n",
    "* $\\rightarrow$ : 3\n",
    "\n",
    "Ci-dessous, on a entré pour vous la matrice de transition $T$ et la matrice de récompense $R$. Ainsi $T[s_1,a,s_2]$ donne la probabilité d'atteindre l'état $s_2$ en ayant pris l'action $a$ dans l'état $s_1$ et $R[s,a]$ donne la récompense immédiate reçue après avoir pris l'action $a$ dans l'état $s$.\n",
    "\n",
    "Vous pouvez facilement changer la pénalité pour avancer d'une case en changeant la valeur de la variable `penalty` ci-dessous.\n",
    "\n",
    "Ce n'est peut-être pas la manière la plus élégante, mais cela suffira pour l'exercice!\n",
    "\n"
   ]
  },
  {
   "cell_type": "code",
   "execution_count": 158,
   "metadata": {
    "id": "AGGujRrVXEe3"
   },
   "outputs": [
    {
     "name": "stdout",
     "output_type": "stream",
     "text": [
      "Matrice de Transition : \n",
      "[[[0.1 0.1 0.  0.  0.8 0.  0.  0.  0.  0.  0. ]\n",
      "  [0.9 0.  0.  0.  0.1 0.  0.  0.  0.  0.  0. ]\n",
      "  [0.9 0.1 0.  0.  0.  0.  0.  0.  0.  0.  0. ]\n",
      "  [0.1 0.8 0.  0.  0.1 0.  0.  0.  0.  0.  0. ]]\n",
      "\n",
      " [[0.1 0.8 0.1 0.  0.  0.  0.  0.  0.  0.  0. ]\n",
      "  [0.8 0.2 0.  0.  0.  0.  0.  0.  0.  0.  0. ]\n",
      "  [0.1 0.8 0.1 0.  0.  0.  0.  0.  0.  0.  0. ]\n",
      "  [0.  0.2 0.8 0.  0.  0.  0.  0.  0.  0.  0. ]]\n",
      "\n",
      " [[0.  0.1 0.  0.1 0.  0.8 0.  0.  0.  0.  0. ]\n",
      "  [0.  0.8 0.1 0.  0.  0.1 0.  0.  0.  0.  0. ]\n",
      "  [0.  0.1 0.8 0.1 0.  0.  0.  0.  0.  0.  0. ]\n",
      "  [0.  0.  0.1 0.8 0.  0.1 0.  0.  0.  0.  0. ]]\n",
      "\n",
      " [[0.  0.  0.1 0.1 0.  0.  0.8 0.  0.  0.  0. ]\n",
      "  [0.  0.  0.8 0.1 0.  0.  0.1 0.  0.  0.  0. ]\n",
      "  [0.  0.  0.1 0.9 0.  0.  0.  0.  0.  0.  0. ]\n",
      "  [0.  0.  0.  0.9 0.  0.  0.1 0.  0.  0.  0. ]]\n",
      "\n",
      " [[0.  0.  0.  0.  0.2 0.  0.  0.8 0.  0.  0. ]\n",
      "  [0.1 0.  0.  0.  0.8 0.  0.  0.1 0.  0.  0. ]\n",
      "  [0.8 0.  0.  0.  0.2 0.  0.  0.  0.  0.  0. ]\n",
      "  [0.1 0.  0.  0.  0.8 0.  0.  0.1 0.  0.  0. ]]\n",
      "\n",
      " [[0.  0.  0.  0.  0.  0.1 0.1 0.  0.  0.8 0. ]\n",
      "  [0.  0.  0.1 0.  0.  0.8 0.  0.  0.  0.1 0. ]\n",
      "  [0.  0.  0.8 0.  0.  0.1 0.1 0.  0.  0.  0. ]\n",
      "  [0.  0.  0.1 0.  0.  0.  0.8 0.  0.  0.1 0. ]]\n",
      "\n",
      " [[0.  0.  0.  0.  0.  0.  0.  0.  0.  0.  0. ]\n",
      "  [0.  0.  0.  0.  0.  0.  0.  0.  0.  0.  0. ]\n",
      "  [0.  0.  0.  0.  0.  0.  0.  0.  0.  0.  0. ]\n",
      "  [0.  0.  0.  0.  0.  0.  0.  0.  0.  0.  0. ]]\n",
      "\n",
      " [[0.  0.  0.  0.  0.  0.  0.  0.9 0.1 0.  0. ]\n",
      "  [0.  0.  0.  0.  0.1 0.  0.  0.9 0.  0.  0. ]\n",
      "  [0.  0.  0.  0.  0.8 0.  0.  0.1 0.1 0.  0. ]\n",
      "  [0.  0.  0.  0.  0.1 0.  0.  0.1 0.8 0.  0. ]]\n",
      "\n",
      " [[0.  0.  0.  0.  0.  0.  0.  0.1 0.8 0.1 0. ]\n",
      "  [0.  0.  0.  0.  0.  0.  0.  0.8 0.2 0.  0. ]\n",
      "  [0.  0.  0.  0.  0.  0.  0.  0.1 0.8 0.1 0. ]\n",
      "  [0.  0.  0.  0.  0.  0.  0.  0.  0.2 0.8 0. ]]\n",
      "\n",
      " [[0.  0.  0.  0.  0.  0.  0.  0.  0.1 0.8 0.1]\n",
      "  [0.  0.  0.  0.  0.  0.1 0.  0.  0.8 0.1 0. ]\n",
      "  [0.  0.  0.  0.  0.  0.  0.  0.  0.1 0.8 0.1]\n",
      "  [0.  0.  0.  0.  0.  0.1 0.  0.  0.  0.1 0.8]]\n",
      "\n",
      " [[0.  0.  0.  0.  0.  0.  0.  0.  0.  0.  0. ]\n",
      "  [0.  0.  0.  0.  0.  0.  0.  0.  0.  0.  0. ]\n",
      "  [0.  0.  0.  0.  0.  0.  0.  0.  0.  0.  0. ]\n",
      "  [0.  0.  0.  0.  0.  0.  0.  0.  0.  0.  0. ]]]\n",
      "\n",
      "Vecteur de récompenses : \n",
      "[[ 0.  0.  0.  0.]\n",
      " [ 0.  0.  0.  0.]\n",
      " [ 0.  0.  0.  0.]\n",
      " [ 0.  0.  0.  0.]\n",
      " [ 0.  0.  0.  0.]\n",
      " [ 0.  0.  0.  0.]\n",
      " [-1. -1. -1. -1.]\n",
      " [ 0.  0.  0.  0.]\n",
      " [ 0.  0.  0.  0.]\n",
      " [ 0.  0.  0.  0.]\n",
      " [ 1.  1.  1.  1.]]\n"
     ]
    }
   ],
   "source": [
    "import numpy as np\n",
    "import matplotlib.pyplot as plt\n",
    "\n",
    "\n",
    "l=0.8\n",
    "s = 0.1\n",
    "v_win = 1\n",
    "v_lose = -1\n",
    "\n",
    "T = np.zeros((11, 4, 11))\n",
    "#UP\n",
    "\n",
    "T[0,0,:]=[s, s, 0, 0, l, 0, 0, 0, 0, 0, 0 ] \n",
    "T[1,0,:]=[s, l, s, 0, 0, 0, 0, 0, 0, 0, 0 ]\n",
    "T[2,0,:]=[0, s, 0, s, 0, l, 0, 0, 0, 0, 0 ]\n",
    "T[3,0,:]=[0, 0, s, s, 0, 0, l, 0, 0, 0, 0 ]\n",
    "T[4,0,:]=[0, 0, 0, 0, 2*s, 0, 0, l, 0, 0, 0 ]\n",
    "T[5,0,:]=[0, 0, 0, 0, 0, s, s, 0, 0, l, 0 ]\n",
    "T[6,0,:]=[0, 0, 0, 0, 0, 0, 0, 0, 0, 0, 0 ]\n",
    "T[7,0,:]=[0, 0, 0, 0, 0, 0, 0, s+l, s, 0, 0 ]\n",
    "T[8,0,:]=[0, 0, 0, 0, 0, 0, 0, s, l, s, 0 ]\n",
    "T[9,0,:]=[0, 0, 0, 0, 0, 0, 0, 0, s, l, s ]\n",
    "T[10,0,:]=[0, 0, 0, 0, 0, 0, 0, 0, 0, 0,0 ]\n",
    "#LEFT\n",
    "T[0,1,:]=[s+l, 0, 0, 0, s, 0, 0, 0, 0, 0, 0 ] \n",
    "T[1,1,:]=[l, 2*s, 0, 0, 0, 0, 0, 0, 0, 0, 0 ]\n",
    "T[2,1,:]=[0, l, s, 0, 0, s, 0, 0, 0, 0, 0 ]\n",
    "T[3,1,:]=[0, 0, l, s, 0, 0, s, 0, 0, 0, 0 ]\n",
    "T[4,1,:]=[s, 0, 0, 0, l, 0, 0, s, 0, 0, 0 ]\n",
    "T[5,1,:]=[0, 0, s, 0, 0, l, 0, 0, 0, s, 0 ]\n",
    "T[6,1,:]=[0, 0, 0, 0, 0, 0, 0, 0, 0, 0, 0 ]\n",
    "T[7,1,:]=[0, 0, 0, 0, s, 0, 0, s+l, 0, 0, 0 ]\n",
    "T[8,1,:]=[0, 0, 0, 0, 0, 0, 0, l, 2*s, 0, 0 ]\n",
    "T[9,1,:]=[0, 0, 0, 0, 0, s, 0, 0, l, s, 0 ]\n",
    "T[10,1,:]=[0, 0, 0, 0, 0, 0, 0, 0, 0, 0,0 ]\n",
    "# DOWN\n",
    "T[0,2,:]=[s+l, s, 0, 0, 0, 0, 0, 0, 0, 0, 0 ] \n",
    "T[1,2,:]=[s, l, s, 0, 0, 0, 0, 0, 0, 0, 0 ]\n",
    "T[2,2,:]=[0, s, l, s, 0, 0, 0, 0, 0, 0, 0 ]\n",
    "T[3,2,:]=[0, 0, s, l+s, 0, 0, 0, 0, 0, 0, 0 ]\n",
    "T[4,2,:]=[l, 0, 0, 0, 2*s, 0, 0, 0, 0, 0, 0 ]\n",
    "T[5,2,:]=[0, 0, l, 0, 0, s, s, 0, 0, 0, 0 ]\n",
    "T[6,2,:]=[0, 0, 0, 0, 0, 0, 0, 0, 0, 0, 0 ]\n",
    "T[7,2,:]=[0, 0, 0, 0, l, 0, 0, s, s, 0, 0 ]\n",
    "T[8,2,:]=[0, 0, 0, 0, 0, 0, 0, s, l, s, 0 ]\n",
    "T[9,2,:]=[0, 0, 0, 0, 0, 0, 0, 0, s, l, s ]\n",
    "T[10,2,:]=[0, 0, 0, 0, 0, 0, 0, 0, 0, 0,0 ]\n",
    "#RIGHT\n",
    "T[0,3,:]=[s, l, 0, 0, s, 0, 0, 0, 0, 0, 0 ] \n",
    "T[1,3,:]=[0, 2*s, l, 0, 0, 0, 0, 0, 0, 0, 0 ]\n",
    "T[2,3,:]=[0, 0, s, l, 0, s, 0, 0, 0, 0, 0 ]\n",
    "T[3,3,:]=[0, 0, 0, s+l, 0, 0, s, 0, 0, 0, 0 ]\n",
    "T[4,3,:]=[s, 0, 0, 0, l, 0, 0, s, 0, 0, 0 ]\n",
    "T[5,3,:]=[0, 0, s, 0, 0, 0, l, 0, 0, s, 0 ]\n",
    "T[6,3,:]=[0, 0, 0, 0, 0, 0, 0, 0, 0, 0, 0 ]\n",
    "T[7,3,:]=[0, 0, 0, 0, s, 0, 0, s, l, 0, 0 ]\n",
    "T[8,3,:]=[0, 0, 0, 0, 0, 0, 0, 0, 2*s, l, 0 ]\n",
    "T[9,3,:]=[0, 0, 0, 0, 0, s, 0, 0, 0, s, l ]\n",
    "T[10,3,:]=[0, 0, 0, 0, 0, 0, 0, 0, 0, 0,0 ]\n",
    "\n",
    "penalty= 0.00\n",
    "R = penalty*np.ones((11,4))\n",
    "R[10,:]= np.ones(4)*v_win\n",
    "R[6,:]= np.ones(4)*v_lose\n",
    "\n",
    "print(\"Matrice de Transition : \")\n",
    "print(T)\n",
    "print(\"\")\n",
    "print(\"Vecteur de récompenses : \")\n",
    "print(R)\n"
   ]
  },
  {
   "cell_type": "markdown",
   "metadata": {
    "id": "10zkeVqGtFpO"
   },
   "source": [
    "## Value Iteration\n",
    "Implémentez l'algorithme d'itération sur les valeurs. Pour ce faire, implémentez une fonction qui prend en paramètre:\n",
    "* $\\epsilon$ le paramètre pour le test d'arrêt (dans un premier temps, vous pouvez remplacer ce paramètre par un nombre d'itérations maximal, comme dans l'appel ci-dessou)\n",
    "* $\\gamma$ le taux d'escompte (i.e. la valeur à l'instant t d'obtenir une unité de récompense à l'instant t+1)\n",
    "* $T$ la matrice de transition\n",
    "* $R$ la matrice de récompense\n",
    "\n",
    "La méthode retourne le vecteur $v: S \\rightarrow {\\mathbb R}$ qui associe à chaque état la valeur optimale de cet état.\n",
    "\n",
    "La fonction $printV$ ci-dessous affichera les valeurs de $v$ pour le problème du gridworld.\n",
    "\n",
    "Vous pourrez ainsi tester si vous retrouvez les valeurs de l'exemple montré en cours. "
   ]
  },
  {
   "cell_type": "code",
   "execution_count": 159,
   "metadata": {},
   "outputs": [],
   "source": [
    "def valueIteration(nbIterations: int, gamma: float, T, R):\n",
    "    v = [0]*11\n",
    "    \n",
    "    for k in range(nbIterations):\n",
    "        for i in range(11):\n",
    "            v[i] = max_action(i,gamma,R, T, v)\n",
    "    return(v)\n",
    "\n",
    "#Fonction qui determine l'action qui maximise  \n",
    "\n",
    "def max_action(state:int,gamma:float, R, T, V):\n",
    "    liste_valeurs = [0]*4 #on va stocker la valeur que nous apporte chaque action\n",
    "    for i in range(4):\n",
    "        somme_valeur = 0\n",
    "        for j in range(11):\n",
    "            somme_valeur = somme_valeur + ((T[state][i][j])*V[j])\n",
    "        liste_valeurs[i] = R[state][i] + gamma*somme_valeur\n",
    "    return(max(liste_valeurs))"
   ]
  },
  {
   "cell_type": "code",
   "execution_count": 160,
   "metadata": {
    "id": "y2iqnIKhlg2k"
   },
   "outputs": [],
   "source": [
    "def printV(v):\n",
    "  print('| {:03.2f} | {:03.2f} | {:03.2f} | {:03.2f} |'.format(v[7], v[8], v[9], v[10]))\n",
    "  print('| {:03.2f} | ---- | {:03.2f} | {:03.1f} |'.format(v[4], v[5], v[6]))\n",
    "  print('| {:03.2f} | {:03.2f} | {:03.2f} | {:03.2f} |'.format(v[0], v[1], v[2], v[3]))\n",
    "  "
   ]
  },
  {
   "cell_type": "code",
   "execution_count": 161,
   "metadata": {
    "colab": {
     "base_uri": "https://localhost:8080/",
     "height": 68
    },
    "id": "ai_RjaGylVnM",
    "outputId": "1f9a38f0-392b-40e4-f34e-704b422546e6"
   },
   "outputs": [
    {
     "name": "stdout",
     "output_type": "stream",
     "text": [
      "| 0.64 | 0.74 | 0.85 | 1.00 |\n",
      "| 0.57 | ---- | 0.57 | -1.0 |\n",
      "| 0.49 | 0.43 | 0.48 | 0.28 |\n"
     ]
    }
   ],
   "source": [
    "w = valueIteration(100, 0.9, T, R)\n",
    "printV(w)"
   ]
  },
  {
   "cell_type": "code",
   "execution_count": 162,
   "metadata": {
    "id": "jvibNWnFzAQO"
   },
   "outputs": [],
   "source": [
    "# plot the best policy given the value function v:\n",
    "# i.e. plot the best action for each state given the value function v.\n",
    "\n",
    "def plotBestPolicy(v, gamma):\n",
    "  bestV=np.zeros(11)\n",
    "  bestA=np.zeros(11)\n",
    "  fig, ax = plt.subplots()\n",
    "  # policy extraction\n",
    "  for s1 in range(11):\n",
    "    val=[]\n",
    "    for a in range(4):\n",
    "      va=0\n",
    "      for s2 in range(11):\n",
    "        va += T[s1,a,s2]*v[s2]\n",
    "      val= val+[ R[s1,a]+gamma*va ]\n",
    "    bestV[s1]=np.max(val)\n",
    "    bestA[s1]=np.argmax(val)\n",
    "\n",
    "    matV= np.array( [[bestV[7], bestV[8], bestV[9], bestV[10]],\n",
    "                    [bestV[4],   -1 , bestV[5], bestV[6]],\n",
    "                    [bestV[0], bestV[1], bestV[2], bestV[3]]]\n",
    "                    )\n",
    "    matA = np.array([\n",
    "                    [bestA[7], bestA[8], bestA[9], -1],\n",
    "                    [bestA[4],   -1 , bestA[5], -1],\n",
    "                    [bestA[0], bestA[1], bestA[2], bestA[3]]])\n",
    "\n",
    "    im = ax.imshow(matV)\n",
    "\n",
    "\n",
    "  for i in range(matV.shape[0]):\n",
    "      for j in range(matV.shape[1]):\n",
    "          if matA[i][j]==-1:\n",
    "              arrow = ''\n",
    "          elif matA[i, j] == 0:\n",
    "              arrow = '^'\n",
    "          elif matA[i, j] == 1:\n",
    "              arrow = '<'\n",
    "          elif matA[i, j] == 2:\n",
    "              arrow = 'v'\n",
    "          elif matA[i, j] == 3:\n",
    "              arrow = '>'\n",
    "          text = ax.text(j, i, arrow, ha = \"center\", va = \"center\",\n",
    "                         color = \"black\")\n",
    "            \n",
    "  cbar = ax.figure.colorbar(im, ax = ax)\n",
    "    \n",
    "  fig.tight_layout()\n",
    "  plt.show() "
   ]
  },
  {
   "cell_type": "code",
   "execution_count": 163,
   "metadata": {
    "colab": {
     "base_uri": "https://localhost:8080/",
     "height": 295
    },
    "id": "4AMDenr44UCt",
    "outputId": "f158214b-8e40-4340-d1dd-8e113d627385"
   },
   "outputs": [
    {
     "data": {
      "image/png": "[encoded data removed]",
      "text/plain": [
       "<Figure size 432x288 with 2 Axes>"
      ]
     },
     "metadata": {
      "needs_background": "light"
     },
     "output_type": "display_data"
    }
   ],
   "source": [
    "plotBestPolicy(w, 0.9)"
   ]
  },
  {
   "cell_type": "markdown",
   "metadata": {
    "id": "iOUAug-46kNB"
   },
   "source": [
    "Vous pouvez modifier la matrice de récompenses pour observer les différentes politiques optimales vues en cours. Peut-être en avons nous oublié?\n"
   ]
  },
  {
   "cell_type": "markdown",
   "metadata": {
    "id": "j6Gh1rWu6SLI"
   },
   "source": [
    "## Policy Iteration\n",
    "\n",
    "Implémentez l'algorithme d'itération sur les politiques. Pour débugger, vous pouvez dessiner la politique avec les fonctions ci-dessus (pour voir la fonction de valeur et/ou la politique associée).\n"
   ]
  },
  {
   "cell_type": "code",
   "execution_count": 164,
   "metadata": {
    "id": "iWL-jnqxCUIP"
   },
   "outputs": [],
   "source": [
    "#Itération sur les politiques \n",
    "\n",
    "#Fonctions utiles \n",
    "\n",
    "def construct_Tpi(politique,T): #Construit la matrice de transitions\n",
    "    Tpi = np.zeros((11,11))\n",
    "    for s1 in range(11):\n",
    "        for s2 in range(11):\n",
    "            somme = 0\n",
    "            for p in range(4):\n",
    "                somme = somme + politique[s1,p]*T[s1,p,s2]\n",
    "            Tpi[s1,s2] = somme\n",
    "    return(Tpi)\n",
    "\n",
    "\n",
    "def construct_Rpi(politique,R): #Construit la matrice de récompenses\n",
    "    Rpi = np.zeros(11)\n",
    "    for s1 in range(11):\n",
    "        somme = 0\n",
    "        for p in range(4):\n",
    "            somme = somme +politique[s1,p]*R[s1,p]\n",
    "        \n",
    "        Rpi[s1] = somme\n",
    "    return(Rpi)\n",
    "\n",
    "def construct_Qpi(Vpi,T,R,gamma,s1): #Construit Q\n",
    "    Qpi = np.zeros(4)\n",
    "    for a in range(4):\n",
    "        somme = 0\n",
    "        for s2 in range(11):\n",
    "            somme = somme+T[s1,a,s2]*Vpi[s2]\n",
    "        Qpi[a] = R[s1,a] + gamma*somme\n",
    "    return(Qpi)\n"
   ]
  },
  {
   "cell_type": "code",
   "execution_count": 165,
   "metadata": {},
   "outputs": [],
   "source": [
    "def politiqueIteration(gamma: float, T, R, politique):\n",
    "    Tpi = construct_Tpi(politique,T)\n",
    "    Rpi = construct_Rpi(politique,R)\n",
    "    I = np.identity(11)\n",
    "    Vpi = np.linalg.inv(I-0.9*Tpi).dot(Rpi)\n",
    "    \n",
    "    while(True):\n",
    "        prec_Vpi = Vpi.copy() #On stocke une copie des anciennes valeurs\n",
    "        \n",
    "        for s1 in range(11):\n",
    "            Qpi = construct_Qpi(prec_Vpi,T,R,gamma,s1)\n",
    "            maxi = Qpi[0]\n",
    "            arg_maxi = 0\n",
    "            improved = False\n",
    "\n",
    "            for a in range(4):\n",
    "                if(Qpi[a]>prec_Vpi[s1]):\n",
    "                    improved = True\n",
    "                    if(Qpi[a]>maxi):\n",
    "                        maxi = Qpi[a]\n",
    "                        arg_maxi = a\n",
    "            if(improved==True):\n",
    "                politique[s1] = 0\n",
    "                politique[s1,arg_maxi] = 1\n",
    "        \n",
    "        Tpi = construct_Tpi(politique,T)\n",
    "        Rpi = construct_Rpi(politique,R)\n",
    "        I = np.identity(11)\n",
    "        Vpi = np.linalg.inv(I-0.9*Tpi).dot(Rpi)\n",
    "        \n",
    "        if((Vpi==prec_Vpi).all()):\n",
    "            print(\"Politique trouvée : \")\n",
    "            print(politique)\n",
    "            print(\"\")\n",
    "            print(\"Valeurs trouvées : \")\n",
    "            print(Vpi)\n",
    "            break\n",
    "    \n",
    "    return(Vpi)\n",
    "         "
   ]
  },
  {
   "cell_type": "code",
   "execution_count": 166,
   "metadata": {},
   "outputs": [
    {
     "name": "stdout",
     "output_type": "stream",
     "text": [
      "Politique initiale : \n",
      "[[0. 0. 1. 0.]\n",
      " [1. 0. 0. 0.]\n",
      " [1. 0. 0. 0.]\n",
      " [1. 0. 0. 0.]\n",
      " [1. 0. 0. 0.]\n",
      " [0. 0. 1. 0.]\n",
      " [1. 0. 0. 0.]\n",
      " [0. 0. 0. 1.]\n",
      " [0. 0. 0. 1.]\n",
      " [0. 0. 0. 1.]\n",
      " [1. 0. 0. 0.]]\n",
      "\n",
      "Politique trouvée : \n",
      "[[1. 0. 0. 0.]\n",
      " [0. 1. 0. 0.]\n",
      " [1. 0. 0. 0.]\n",
      " [0. 1. 0. 0.]\n",
      " [1. 0. 0. 0.]\n",
      " [1. 0. 0. 0.]\n",
      " [1. 0. 0. 0.]\n",
      " [0. 0. 0. 1.]\n",
      " [0. 0. 0. 1.]\n",
      " [0. 0. 0. 1.]\n",
      " [1. 0. 0. 0.]]\n",
      "\n",
      "Valeurs trouvées : \n",
      "[ 0.49068396  0.43084446  0.47547113  0.27729584  0.56631445  0.57185903\n",
      " -1.          0.64496924  0.74438015  0.84776628  1.        ]\n"
     ]
    }
   ],
   "source": [
    "politique_init = np.zeros((11,4))\n",
    "politique_init[0,2]= 1\n",
    "politique_init[1,0]= 1\n",
    "politique_init[2,0]= 1\n",
    "politique_init[3,0]= 1\n",
    "politique_init[4,0]= 1\n",
    "politique_init[5,2]= 1\n",
    "politique_init[6,0]= 1\n",
    "politique_init[7,3]= 1\n",
    "politique_init[8,3]= 1\n",
    "politique_init[9,3]= 1\n",
    "politique_init[10,0]= 1\n",
    "\n",
    "print(\"Politique initiale : \")\n",
    "print(politique_init)\n",
    "print(\"\")\n",
    "\n",
    "Vpi = politiqueIteration(0.9,T,R,politique_init)"
   ]
  },
  {
   "cell_type": "code",
   "execution_count": 167,
   "metadata": {},
   "outputs": [
    {
     "data": {
      "image/png": "[encoded data removed]",
      "text/plain": [
       "<Figure size 432x288 with 2 Axes>"
      ]
     },
     "metadata": {
      "needs_background": "light"
     },
     "output_type": "display_data"
    }
   ],
   "source": [
    "plotBestPolicy(Vpi, 0.9)"
   ]
  },
  {
   "attachments": {},
   "cell_type": "markdown",
   "metadata": {},
   "source": [
    "Ainsi, dans ce TP, nous avons implementé les deux algorithmes vus en cours sur la programmation dynamiques. Les fonctions de valeurs renvoyés par les deux algorithmes sont bien les mêmes et correspondent bien aux résultats dans l'exemple du cours. "
   ]
  }
 ],
 "metadata": {
  "colab": {
   "provenance": []
  },
  "kernelspec": {
   "display_name": "Python 3 (ipykernel)",
   "language": "python",
   "name": "python3"
  },
  "language_info": {
   "codemirror_mode": {
    "name": "ipython",
    "version": 3
   },
   "file_extension": ".py",
   "mimetype": "text/x-python",
   "name": "python",
   "nbconvert_exporter": "python",
   "pygments_lexer": "ipython3",
   "version": "3.9.12"
  }
 },
 "nbformat": 4,
 "nbformat_minor": 1
}
