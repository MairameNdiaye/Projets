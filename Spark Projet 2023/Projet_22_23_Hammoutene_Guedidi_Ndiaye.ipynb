{
  "cells": [
    {
      "attachments": {},
      "cell_type": "markdown",
      "metadata": {
        "id": "AUmlC6PVHSgo"
      },
      "source": [
        "### Projet done by :   \n",
        "\n",
        "1.   **Guedidi Hedi**\n",
        "2.   **Hammoutène Rafik** \n",
        "3.   **Ndiaye Mairame** "
      ]
    },
    {
      "attachments": {},
      "cell_type": "markdown",
      "metadata": {
        "id": "5nMdnOrdauzb"
      },
      "source": [
        "# Introduction\n",
        "The goal of this exam is to validate your skills with the Spark distributed computing software. You will build and test several more or less simple implementations of recommendation systems.\n",
        "\n",
        "In the first part of the notebook, you will build a first set of algorithms to infer rules from a dataset. They are known as 'Association Rules':\n",
        "\n",
        "- \"if I observe this, then it is very likely that there is also that.\"\n",
        "- \"if John is buying potatoes and bread, he's likely to cook burgers tonight. He might be interested in salad and steak too...)\n",
        "\n",
        "In the second part of the notebook, we will implement the PLSI algorithm (\"Probabilistic Latent Semantic Indexing\"), which is one way to create embeddings from a dataset. These embeddings can be used to fuel a recommendation engine."
      ]
    },
    {
      "attachments": {},
      "cell_type": "markdown",
      "metadata": {
        "id": "69sUuh3EEEBw"
      },
      "source": [
        "# Setup"
      ]
    },
    {
      "attachments": {},
      "cell_type": "markdown",
      "metadata": {
        "id": "yxRuqODPWgYM"
      },
      "source": [
        "## Install Spark Environment\n",
        "Since we are not running on databricks, we will need to install Spark by ourselves, every time we run the session.  \n",
        "We need to install Spark, as well as a Java Runtime Environment.  \n",
        "Then we need to setup a few environment variables."
      ]
    },
    {
      "cell_type": "code",
      "execution_count": 1,
      "metadata": {
        "colab": {
          "base_uri": "https://localhost:8080/"
        },
        "id": "u89WlZmhWPgW",
        "outputId": "6fab002c-d9c5-4c11-d687-144d17dadb4d"
      },
      "outputs": [
        {
          "name": "stdout",
          "output_type": "stream",
          "text": [
            "  % Total    % Received % Xferd  Average Speed   Time    Time     Time  Current\n",
            "                                 Dload  Upload   Total   Spent    Left  Speed\n",
            "100  287M  100  287M    0     0   181M      0  0:00:01  0:00:01 --:--:--  181M\n"
          ]
        }
      ],
      "source": [
        "!apt-get install openjdk-8-jdk-headless -qq > /dev/null\n",
        "!curl -O https://dlcdn.apache.org/spark/spark-3.2.3/spark-3.2.3-bin-hadoop3.2.tgz\n",
        "!tar xf spark-3.2.3-bin-hadoop3.2.tgz\n",
        "!pip install -q findspark"
      ]
    },
    {
      "cell_type": "code",
      "execution_count": 2,
      "metadata": {
        "id": "aBvZzpjsYsYq"
      },
      "outputs": [],
      "source": [
        "import os\n",
        "os.environ[\"JAVA_HOME\"] = \"/usr/lib/jvm/java-8-openjdk-amd64\"\n",
        "os.environ[\"SPARK_HOME\"] = \"/content/spark-3.2.3-bin-hadoop3.2\""
      ]
    },
    {
      "cell_type": "code",
      "execution_count": 3,
      "metadata": {
        "id": "RKP62k6BW5Xz"
      },
      "outputs": [],
      "source": [
        "import findspark\n",
        "findspark.init()\n",
        "import pyspark\n",
        "from pyspark.sql import SparkSession\n",
        "from pyspark import SparkContext, SparkConf\n",
        "\n",
        "conf = SparkConf().set('spark.ui.port', '4050')\n",
        "sc = SparkContext(conf=conf)\n",
        "spark = SparkSession.builder.master('local[*]').getOrCreate()"
      ]
    },
    {
      "attachments": {},
      "cell_type": "markdown",
      "metadata": {
        "id": "p5yHDm0vXkIQ"
      },
      "source": [
        "## Optional step : Enable SparkUI through secure tunnel\n",
        "This step is useful if you want to look at Spark UI.\n",
        "First, you need to create a free ngrok account : https://dashboard.ngrok.com/login.  \n",
        "Then connect on the website and copy your AuthToken."
      ]
    },
    {
      "cell_type": "code",
      "execution_count": 4,
      "metadata": {
        "colab": {
          "base_uri": "https://localhost:8080/"
        },
        "id": "eCerOlcLXmgj",
        "outputId": "842f02c7-b51d-4f54-b571-db522110eff9"
      },
      "outputs": [
        {
          "name": "stdout",
          "output_type": "stream",
          "text": [
            "--2023-02-05 21:11:49--  https://bin.equinox.io/c/4VmDzA7iaHb/ngrok-stable-linux-amd64.zip\n",
            "Resolving bin.equinox.io (bin.equinox.io)... 18.205.222.128, 54.161.241.46, 54.237.133.81, ...\n",
            "Connecting to bin.equinox.io (bin.equinox.io)|18.205.222.128|:443... connected.\n",
            "HTTP request sent, awaiting response... 200 OK\n",
            "Length: 13832437 (13M) [application/octet-stream]\n",
            "Saving to: ‘ngrok-stable-linux-amd64.zip’\n",
            "\n",
            "ngrok-stable-linux- 100%[===================>]  13.19M  5.96MB/s    in 2.2s    \n",
            "\n",
            "2023-02-05 21:11:52 (5.96 MB/s) - ‘ngrok-stable-linux-amd64.zip’ saved [13832437/13832437]\n",
            "\n",
            "Archive:  ngrok-stable-linux-amd64.zip\n",
            "  inflating: ngrok                   \n",
            "Authtoken saved to configuration file: /root/.ngrok2/ngrok.yml\n"
          ]
        }
      ],
      "source": [
        "# this step downloads ngrok, configures your AuthToken, then starts the tunnel\n",
        "!wget https://bin.equinox.io/c/4VmDzA7iaHb/ngrok-stable-linux-amd64.zip\n",
        "!unzip ngrok-stable-linux-amd64.zip\n",
        "!./ngrok authtoken 2IdKT3Yj1aSsHraZF1LWHlikeVP_81hkUdgjcr9YnmNiy6CW # <-------------- change this line !\n",
        "get_ipython().system_raw('./ngrok http 4050 &')"
      ]
    },
    {
      "attachments": {},
      "cell_type": "markdown",
      "metadata": {
        "id": "ZSX0QbniXqdR"
      },
      "source": [
        "## Other Imports"
      ]
    },
    {
      "cell_type": "code",
      "execution_count": 66,
      "metadata": {
        "id": "vb4tXmFUWMVr"
      },
      "outputs": [],
      "source": [
        "import matplotlib.pyplot as plt\n",
        "import urllib.request as req\n",
        "import pandas as pd\n",
        "import numpy as np\n",
        "import zipfile\n",
        "import sys\n",
        "import glob\n",
        "import math\n",
        "\n",
        "\n",
        "\n",
        "from pyspark.sql.types import ArrayType, StructType, StructField, StringType\n",
        "from pyspark.sql.functions import udf,row_number,col,explode,split,hash,lit,array_except\n",
        "from pyspark.sql.types import ArrayType, IntegerType\n",
        "from datetime import datetime\n",
        "from pyspark.sql import (\n",
        "    functions as F,\n",
        "    Row\n",
        ")\n",
        "from IPython.lib.display import exists\n",
        "from pyspark.sql.window import Window\n",
        "from pyspark import StorageLevel\n",
        "\n",
        "\n",
        "\n",
        "%matplotlib inline\n"
      ]
    },
    {
      "attachments": {},
      "cell_type": "markdown",
      "metadata": {
        "id": "TFUvUg2ufEkJ"
      },
      "source": [
        "# Part A - Dataset"
      ]
    },
    {
      "attachments": {},
      "cell_type": "markdown",
      "metadata": {
        "id": "ZGC6YNJm8wh2"
      },
      "source": [
        "## Loading the dataset"
      ]
    },
    {
      "cell_type": "code",
      "execution_count": 6,
      "metadata": {
        "id": "r_d9HFUnfPYY"
      },
      "outputs": [],
      "source": [
        "url = 'http://files.grouplens.org/datasets/movielens/ml-20m.zip'\n",
        "filehandle, _ = req.urlretrieve(url)\n",
        "zip_file_object = zipfile.ZipFile(filehandle, 'r')\n",
        "zip_file_object.namelist()\n",
        "zip_file_object.extractall()"
      ]
    },
    {
      "cell_type": "code",
      "execution_count": 7,
      "metadata": {
        "colab": {
          "base_uri": "https://localhost:8080/"
        },
        "id": "f3lK0389fXkK",
        "outputId": "ea8debb6-0df4-412f-ca2a-d332f9daac19"
      },
      "outputs": [
        {
          "name": "stdout",
          "output_type": "stream",
          "text": [
            "ml-20m\tngrok-stable-linux-amd64.zip  spark-3.2.3-bin-hadoop3.2\n",
            "ngrok\tsample_data\t\t      spark-3.2.3-bin-hadoop3.2.tgz\n"
          ]
        }
      ],
      "source": [
        "!ls"
      ]
    },
    {
      "cell_type": "code",
      "execution_count": 8,
      "metadata": {
        "id": "Uwruo0oIfaop"
      },
      "outputs": [],
      "source": [
        "movies_path = \"ml-20m/movies.csv\"\n",
        "ratings_path = \"ml-20m/ratings.csv\""
      ]
    },
    {
      "cell_type": "code",
      "execution_count": 9,
      "metadata": {
        "id": "hWQSjOtYWMVx"
      },
      "outputs": [],
      "source": [
        "ratings_df = spark.read.options(header=True, inferSchema=True).csv(ratings_path)\n",
        "movies_df = spark.read.options(header=True, inferSchema=True).csv(movies_path)"
      ]
    },
    {
      "attachments": {},
      "cell_type": "markdown",
      "metadata": {
        "id": "8THAkC5houTI"
      },
      "source": [
        "#### Toy dataframe "
      ]
    },
    {
      "cell_type": "code",
      "execution_count": 10,
      "metadata": {
        "id": "F96S6HGxox2r"
      },
      "outputs": [],
      "source": [
        "toy_rating_df=ratings_df.sample(0.05)\n",
        "toy_movies_df=movies_df.sample(0.05)"
      ]
    },
    {
      "attachments": {},
      "cell_type": "markdown",
      "metadata": {
        "id": "PtR77Ttq8zT-"
      },
      "source": [
        "## Preprocessing\n",
        "In the following sections, we will work with algorithms that may scale more or less well with the size of the dataset. In this section we will develop several functions that will allow you to sample the dataset. Then in the next part of the notebook, it will be up to you to choose which tools you want to apply to your dataset in order to train your models, knowing that we want to have reasonable processing times (in the order of a minute), while having models that 'work' well.\n",
        "\n",
        "**Test all the functions that process the dataframe on a toy example, like what is done in first data processing question.**"
      ]
    },
    {
      "attachments": {},
      "cell_type": "markdown",
      "metadata": {
        "id": "g1zW1MHjDZnu"
      },
      "source": [
        "### Question\n",
        "Write the *ratings_df* and *movies_df* and movies datasets in parquet.\n",
        "\n",
        "Reload them from parquet, to make next computations faster."
      ]
    },
    {
      "cell_type": "code",
      "execution_count": 11,
      "metadata": {
        "id": "8jPlF0Cfatse"
      },
      "outputs": [],
      "source": [
        "#writing ratings in parquet \n",
        "ratings_parquet_path = \"ml-20m/ratings.parquet\"\n",
        "ratings_df.write.mode(\"ignore\").parquet(ratings_parquet_path)\n",
        "\n",
        "#writing movies in parquet\n",
        "movies_parquet_path = \"ml-20m/movies.parquet\"\n",
        "movies_df.write.mode(\"ignore\").parquet(movies_parquet_path)"
      ]
    },
    {
      "cell_type": "code",
      "execution_count": 12,
      "metadata": {
        "colab": {
          "base_uri": "https://localhost:8080/"
        },
        "id": "CPAKhYLXanWP",
        "outputId": "92e2fa25-9f1b-47c1-d81a-2db366981473"
      },
      "outputs": [
        {
          "name": "stdout",
          "output_type": "stream",
          "text": [
            "+------+-------+------+----------+\n",
            "|userId|movieId|rating| timestamp|\n",
            "+------+-------+------+----------+\n",
            "|     1|      2|   3.5|1112486027|\n",
            "|     1|     29|   3.5|1112484676|\n",
            "|     1|     32|   3.5|1112484819|\n",
            "+------+-------+------+----------+\n",
            "only showing top 3 rows\n",
            "\n"
          ]
        }
      ],
      "source": [
        "#read rating_parquet_path\n",
        "ratings_df=spark.read.parquet(ratings_parquet_path)\n",
        "ratings_df.show(3)"
      ]
    },
    {
      "cell_type": "code",
      "execution_count": 13,
      "metadata": {
        "colab": {
          "base_uri": "https://localhost:8080/"
        },
        "id": "zBBFdHQOWIS8",
        "outputId": "16ff00de-116b-4a4c-b0cf-60a3fbcc8a01"
      },
      "outputs": [
        {
          "name": "stdout",
          "output_type": "stream",
          "text": [
            "+-------+--------------------+--------------------+\n",
            "|movieId|               title|              genres|\n",
            "+-------+--------------------+--------------------+\n",
            "|      1|    Toy Story (1995)|Adventure|Animati...|\n",
            "|      2|      Jumanji (1995)|Adventure|Childre...|\n",
            "|      3|Grumpier Old Men ...|      Comedy|Romance|\n",
            "+-------+--------------------+--------------------+\n",
            "only showing top 3 rows\n",
            "\n"
          ]
        }
      ],
      "source": [
        "#read movies_parquet_path \n",
        "movies_df=spark.read.parquet(movies_parquet_path)\n",
        "movies_df.show(3)"
      ]
    },
    {
      "attachments": {},
      "cell_type": "markdown",
      "metadata": {
        "id": "stqYh6SJGTCa"
      },
      "source": [
        "### Question\n",
        "Compute an estimation of the whole *ratings_df* dataset size in memory. To do this, you can collect 1000 lines of the dataframe, then apply *sys.getsizeof* to it. Then you can extrapolate to the whole dataset.\n",
        "\n",
        "Find the amount of partitions used by *ratings_df*.\n",
        "\n",
        "We try to have partitions not too big (in order not to crash our executors), and not to small (dealing with too many small partitions can lead to issues, on driver side for example). For this reason, a rule of thumb to have partitions of 128MB is okay. Given this, what do you think of the dataframe ? Is the amount of partitions okay ? Or should we repartition it ? What would be the function to use if we need to repartition the dataframe ?"
      ]
    },
    {
      "cell_type": "code",
      "execution_count": 90,
      "metadata": {
        "colab": {
          "base_uri": "https://localhost:8080/"
        },
        "id": "xK_OI4UuEuOe",
        "outputId": "839e3174-673e-4202-bdee-1ac82f5734e0"
      },
      "outputs": [
        {
          "name": "stdout",
          "output_type": "stream",
          "text": [
            "estimation of the whole ratings_df :  170722244.968  octets\n"
          ]
        }
      ],
      "source": [
        "rating_parquet=spark.read.parquet(ratings_parquet_path)\n",
        "size_sample_1000=sys.getsizeof(rating_parquet.take(1000))\n",
        "size_per_sample=size_sample_1000/1000\n",
        "\n",
        "global_size = size_per_sample*rating_parquet.count()\n",
        "print(\"estimation of the whole ratings_df : \", global_size, \" octets\")"
      ]
    },
    {
      "cell_type": "code",
      "execution_count": 91,
      "metadata": {
        "colab": {
          "base_uri": "https://localhost:8080/"
        },
        "id": "6bcwIy1Ka6bR",
        "outputId": "cc4fe9af-e559-49f2-accc-02dbc196b1eb"
      },
      "outputs": [
        {
          "name": "stdout",
          "output_type": "stream",
          "text": [
            "estimation of the whole ratings_df :  170.72224496799998  MB\n"
          ]
        }
      ],
      "source": [
        "rating_parquet.rdd.getNumPartitions()\n",
        "print(\"estimation of the whole ratings_df : \", global_size/1e6, \" MB\")"
      ]
    },
    {
      "cell_type": "code",
      "execution_count": 92,
      "metadata": {
        "colab": {
          "base_uri": "https://localhost:8080/"
        },
        "id": "aLMTFz2ybCV8",
        "outputId": "49839c47-b1e5-4760-914a-5f8515d3c906"
      },
      "outputs": [
        {
          "name": "stdout",
          "output_type": "stream",
          "text": [
            "estimation of the whole ratings_df :  170.72224496799998  MB\n"
          ]
        }
      ],
      "source": [
        "global_size_in_mb=global_size/1e6\n",
        "print(\"estimation of the whole ratings_df : \", global_size_in_mb, \" MB\")"
      ]
    },
    {
      "attachments": {},
      "cell_type": "markdown",
      "metadata": {
        "id": "-ImAX1bGbRp3"
      },
      "source": [
        "**We have got 4 partitions and an estimation of the whole dataset of around 170 MB. 2 partitions seem more appropriate for this case. We can use the repartition function.**"
      ]
    },
    {
      "cell_type": "code",
      "execution_count": 93,
      "metadata": {
        "colab": {
          "base_uri": "https://localhost:8080/"
        },
        "id": "zvxtd4dlbHIp",
        "outputId": "f64c0409-5195-4feb-9efd-ec7f7f9e37cb"
      },
      "outputs": [
        {
          "name": "stdout",
          "output_type": "stream",
          "text": [
            "Ideal number of partitions :  2\n"
          ]
        }
      ],
      "source": [
        "number_of_partition_wanted=math.ceil(global_size_in_mb/128)\n",
        "print(\"Ideal number of partitions : \", number_of_partition_wanted)"
      ]
    },
    {
      "cell_type": "code",
      "execution_count": 94,
      "metadata": {
        "colab": {
          "base_uri": "https://localhost:8080/"
        },
        "id": "Op-LJAkxbVrJ",
        "outputId": "7b475e7f-9953-4866-c976-0582efbce877"
      },
      "outputs": [
        {
          "data": {
            "text/plain": [
              "DataFrame[userId: int, movieId: int, rating: double, timestamp: int]"
            ]
          },
          "execution_count": 94,
          "metadata": {},
          "output_type": "execute_result"
        }
      ],
      "source": [
        "rating_parquet.repartition(2)"
      ]
    },
    {
      "cell_type": "code",
      "execution_count": 95,
      "metadata": {
        "colab": {
          "base_uri": "https://localhost:8080/"
        },
        "id": "O3E-Q0tFba-5",
        "outputId": "e23064d0-ea06-46d1-d61f-37c5fc9e3c26"
      },
      "outputs": [
        {
          "data": {
            "text/plain": [
              "2"
            ]
          },
          "execution_count": 95,
          "metadata": {},
          "output_type": "execute_result"
        }
      ],
      "source": [
        "rating_parquet.rdd.getNumPartitions()"
      ]
    },
    {
      "attachments": {},
      "cell_type": "markdown",
      "metadata": {
        "id": "IESUqOGp_rDf"
      },
      "source": [
        "### Question\n",
        "Create a function named *remove_bad_ratings* that takes a rating dataframe as an argument, and returns a dataframe whose ratings are greater or equals to a rating_threshold, with default value of *3.5*."
      ]
    },
    {
      "cell_type": "code",
      "execution_count": 96,
      "metadata": {
        "colab": {
          "base_uri": "https://localhost:8080/"
        },
        "id": "_3BT4ZaAAwBX",
        "outputId": "fac30b46-776b-4153-b678-fd797c82b849"
      },
      "outputs": [
        {
          "name": "stdout",
          "output_type": "stream",
          "text": [
            "+------+-------+------+----------+\n",
            "|userId|movieId|rating| timestamp|\n",
            "+------+-------+------+----------+\n",
            "|     1|      2|   3.5|1112486027|\n",
            "|     1|     29|   3.5|1112484676|\n",
            "|     1|     32|   3.5|1112484819|\n",
            "|     1|     47|   3.5|1112484727|\n",
            "|     1|     50|   3.5|1112484580|\n",
            "+------+-------+------+----------+\n",
            "only showing top 5 rows\n",
            "\n"
          ]
        }
      ],
      "source": [
        "def remove_bad_ratings(rating_dataframe, rating_threshold = 3.5):\n",
        "  \"\"\"Filter ratings according to a given threshold \n",
        "  Args:\n",
        "    rating_dataframe: DataFrame\n",
        "    rating_threshold:flaot \n",
        "  Returns:\n",
        "    DataFrame\n",
        "  \"\"\"\n",
        "\n",
        "  return(rating_dataframe.filter(\"rating>=%s\"%rating_threshold))\n",
        "\n",
        "df = remove_bad_ratings(ratings_df,3.5)\n",
        "df.show(5)"
      ]
    },
    {
      "attachments": {},
      "cell_type": "markdown",
      "metadata": {
        "id": "nMKLPBXaI0TA"
      },
      "source": [
        "### Question\n",
        "Create a function named *sample_users* that takes a rating dataframe as an argument, and returns a dataframe with only a *ratio* of users (we want to keep all ratings from users that we keep) ; default value of *ratio* parameter is *0.1*. Function should be deterministic."
      ]
    },
    {
      "attachments": {},
      "cell_type": "markdown",
      "metadata": {
        "id": "JMTvWu6hiofb"
      },
      "source": [
        "#### Avec le take "
      ]
    },
    {
      "cell_type": "code",
      "execution_count": 97,
      "metadata": {
        "colab": {
          "base_uri": "https://localhost:8080/"
        },
        "id": "8T1XKQgAJYO5",
        "outputId": "5b0fbcc4-da18-48ef-e589-ccbae4252e3c"
      },
      "outputs": [
        {
          "name": "stdout",
          "output_type": "stream",
          "text": [
            "+------+-------+------+---------+\n",
            "|userId|movieId|rating|timestamp|\n",
            "+------+-------+------+---------+\n",
            "|    26|     10|   3.0|839270709|\n",
            "|    26|     19|   3.0|839270773|\n",
            "|    26|     21|   4.0|839270773|\n",
            "|    26|     22|   3.0|839270953|\n",
            "|    26|     39|   4.0|839270792|\n",
            "+------+-------+------+---------+\n",
            "only showing top 5 rows\n",
            "\n"
          ]
        }
      ],
      "source": [
        "def sample_users(rating_dataframe, ratio = 0.1):\n",
        "  \"\"\"Sample of users \n",
        "  Args:\n",
        "    ration: float \n",
        "    rating_dataframe: DataFrame\n",
        "  \"\"\"\n",
        "\n",
        "  only_users = rating_dataframe.select(\"userId\").distinct()\n",
        "  size_new_dataframe = ratio * only_users.count()\n",
        "  taken_users = spark.createDataFrame(only_users.take(int(size_new_dataframe)))\n",
        "  new_df = rating_dataframe.join(taken_users,\"userId\",\"inner\")\n",
        "\n",
        "  return new_df\n",
        "\n",
        "df = sample_users(ratings_df)\n",
        "df.show(5)"
      ]
    },
    {
      "attachments": {},
      "cell_type": "markdown",
      "metadata": {
        "id": "S7t1pP3BisUB"
      },
      "source": [
        "#### Sans le take "
      ]
    },
    {
      "cell_type": "code",
      "execution_count": 98,
      "metadata": {
        "colab": {
          "base_uri": "https://localhost:8080/"
        },
        "id": "M0PTMLYyh33B",
        "outputId": "c4b1d03e-09a7-4b5a-a7c5-a92e85cc7a00"
      },
      "outputs": [
        {
          "name": "stdout",
          "output_type": "stream",
          "text": [
            "+------+-------+------+---------+\n",
            "|userId|movieId|rating|timestamp|\n",
            "+------+-------+------+---------+\n",
            "|    12|      1|   4.0|859063718|\n",
            "|    12|      3|   3.0|859063774|\n",
            "|    12|      5|   2.0|859063774|\n",
            "|    12|      6|   3.0|859063774|\n",
            "|    12|      7|   3.0|859063774|\n",
            "+------+-------+------+---------+\n",
            "only showing top 5 rows\n",
            "\n"
          ]
        }
      ],
      "source": [
        "def sample_users(rating_dataframe, ratio = 0.1):\n",
        "  \"\"\"Sample of users \n",
        "  Args:\n",
        "    ration: float \n",
        "    rating_dataframe: DataFrame\n",
        "  \"\"\"\n",
        "\n",
        "  only_users = rating_dataframe.select(\"userId\").distinct()\n",
        "  only_users=only_users.sample(ratio)\n",
        "  new_df = rating_dataframe.join(only_users,\"userId\",\"inner\")\n",
        "  \n",
        "  return new_df\n",
        "df = sample_users(ratings_df)\n",
        "df.show(5)"
      ]
    },
    {
      "attachments": {},
      "cell_type": "markdown",
      "metadata": {
        "id": "yJV6UbAiLGiv"
      },
      "source": [
        "### Question\n",
        "Create a function named *remove_exotic_movies*, taking a rating dataframe as argument, and that removes all movies which have less than *nb_min_ratings* ; *nb_min_ratings* parameter has a default value of *1000*."
      ]
    },
    {
      "cell_type": "code",
      "execution_count": 99,
      "metadata": {
        "colab": {
          "base_uri": "https://localhost:8080/"
        },
        "id": "M0dRE4mCkA7T",
        "outputId": "860c151f-e5cb-4d60-f087-524fb887ce9f"
      },
      "outputs": [
        {
          "name": "stdout",
          "output_type": "stream",
          "text": [
            "+-------+------+------+----------+\n",
            "|movieId|userId|rating| timestamp|\n",
            "+-------+------+------+----------+\n",
            "|   3997|     1|   3.5|1112486192|\n",
            "|   1580|     2|   4.0| 974820748|\n",
            "|   3918|     2|   3.0| 974820943|\n",
            "|   2366|     3|   4.0| 944918310|\n",
            "|   1580|     7|   3.0|1011206832|\n",
            "+-------+------+------+----------+\n",
            "only showing top 5 rows\n",
            "\n",
            "Number of rows of exotics movies after being removed is 17765516\n",
            "Number of rows of ratings_df is  20000263\n"
          ]
        }
      ],
      "source": [
        "def remove_exotic_movies(rating_dataframe, nb_min_ratings = 1000):\n",
        "  \"\"\"Remove exotic movies \n",
        "  Args:\n",
        "    rating_dataframe : DataFrame\n",
        "    nb_min_ratings: int \n",
        "  \"\"\"\n",
        "  movies_to_keep=rating_dataframe.groupby(\"movieId\").agg({\"userId\": \"count\"}).filter(\"count(userId)>=%s\"%nb_min_ratings).select(\"movieId\")\n",
        "  exotic_removed=rating_dataframe.join(movies_to_keep, \"movieId\",\"inner\")\n",
        "\n",
        "  return exotic_removed\n",
        "\n",
        "\n",
        "exotic_movies_removed_df=remove_exotic_movies(ratings_df)\n",
        "exotic_movies_removed_df.show(5)\n",
        "\n",
        "print(\"Number of rows of exotics movies after being removed is\",exotic_movies_removed_df.count())\n",
        "print(\"Number of rows of ratings_df is \",ratings_df.count())"
      ]
    },
    {
      "attachments": {},
      "cell_type": "markdown",
      "metadata": {
        "id": "iTKUFM95pAwP"
      },
      "source": [
        "### Question\n",
        "Compute the following stats on the dataset:\n",
        "- Amount of distinct users\n",
        "- Amount of distinct movies\n",
        "- Total amount of ratings\n",
        "- Let r_u be the amount of ratings made by user u. Study the distribution of r_u over all users (quantiles, histogram...)"
      ]
    },
    {
      "cell_type": "code",
      "execution_count": 100,
      "metadata": {
        "colab": {
          "base_uri": "https://localhost:8080/",
          "height": 403
        },
        "id": "jPCAc6DRpCc-",
        "outputId": "34e81174-b384-4f86-a3dd-f8f0b686ebcc"
      },
      "outputs": [
        {
          "name": "stdout",
          "output_type": "stream",
          "text": [
            "Amount of distinct users :  138493\n",
            "Amount of distinct movies :  27278\n",
            "Total amount of ratings :  20000263\n"
          ]
        },
        {
          "data": {
            "text/plain": [
              "<matplotlib.axes._subplots.AxesSubplot at 0x7f09a9f49220>"
            ]
          },
          "execution_count": 100,
          "metadata": {},
          "output_type": "execute_result"
        },
        {
          "data": {
            "image/png": "[encoded data removed]",
            "text/plain": [
              "<Figure size 432x288 with 1 Axes>"
            ]
          },
          "metadata": {
            "needs_background": "light"
          },
          "output_type": "display_data"
        }
      ],
      "source": [
        "#Amount of distinct users \n",
        "number_of_distinct_users=ratings_df.select(\"userId\").distinct().count()\n",
        "print(\"Amount of distinct users : \",number_of_distinct_users)\n",
        "\n",
        "\n",
        "#Amount of distinct movies \n",
        "number_of_distinct_movies=movies_df.select(\"movieId\").distinct().count()\n",
        "print(\"Amount of distinct movies : \",number_of_distinct_movies)\n",
        "\n",
        "\n",
        "#Total amount of ratings\n",
        "number_of_ratings=ratings_df.count()\n",
        "print(\"Total amount of ratings : \",number_of_ratings)\n",
        "\n",
        "\n",
        "\n",
        "#We assume that a user can only rate a movie once\n",
        "count_per_user=ratings_df.groupby(\"userId\").agg({\"movieId\": \"count\"})\n",
        "count_per_number_of_reviews=count_per_user.groupby(\"count(movieId)\").agg({\"userId\": \"count\"})\n",
        "count_per_number_of_reviews = count_per_number_of_reviews.sort('count(movieId)')\n",
        "count_per_number_of_reviews_pd=pd.DataFrame(count_per_number_of_reviews.collect(),columns=['count(movieId)', 'count(userId)']).reset_index(drop=True)\n",
        "count_per_number_of_reviews_pd[\"freq\"]=count_per_number_of_reviews_pd[\"count(userId)\"] / count_per_number_of_reviews_pd[\"count(userId)\"].sum()\n",
        "bins = range(0,1500,50)\n",
        "df = count_per_number_of_reviews_pd.groupby(pd.cut(count_per_number_of_reviews_pd['count(movieId)'], bins=bins)).sum(\"freq\")\n",
        "df[\"freq\"].plot(kind='bar')"
      ]
    },
    {
      "cell_type": "code",
      "execution_count": 101,
      "metadata": {
        "colab": {
          "base_uri": "https://localhost:8080/"
        },
        "id": "2143RE87cdPZ",
        "outputId": "ddb2f2a7-0cce-47e5-b9bd-e94c47263ed4"
      },
      "outputs": [
        {
          "name": "stdout",
          "output_type": "stream",
          "text": [
            "25% .........\n",
            "+-------+------+--------------+\n",
            "|summary|userId|count(movieId)|\n",
            "+-------+------+--------------+\n",
            "|    25%| 34621|            35|\n",
            "+-------+------+--------------+\n",
            "\n",
            "50% .........\n",
            "+-------+------+--------------+\n",
            "|summary|userId|count(movieId)|\n",
            "+-------+------+--------------+\n",
            "|    50%| 69239|            68|\n",
            "+-------+------+--------------+\n",
            "\n",
            "75% .........\n",
            "+-------+------+--------------+\n",
            "|summary|userId|count(movieId)|\n",
            "+-------+------+--------------+\n",
            "|    75%|103861|           155|\n",
            "+-------+------+--------------+\n",
            "\n"
          ]
        }
      ],
      "source": [
        "#QUANTILES\n",
        "count_per_user_sorted=count_per_user.sort('count(movieId)')\n",
        "print(\"25% .........\")\n",
        "count_per_user_sorted.summary(\"25%\").show()\n",
        "print(\"50% .........\")\n",
        "count_per_user_sorted.summary(\"50%\").show()\n",
        "print(\"75% .........\")\n",
        "count_per_user_sorted.summary(\"75%\").show()"
      ]
    },
    {
      "attachments": {},
      "cell_type": "markdown",
      "metadata": {
        "id": "HFjZb6tFmEPt"
      },
      "source": [
        "### Question\n",
        "Create a function named *remove_old_movies_in_timelines*, that takes a ratings dataframe as parameter, and only keeps the *nb_max_movies* most recent movies seen by each user ; *nb_max_movies* parameter is defaulted at 100."
      ]
    },
    {
      "cell_type": "code",
      "execution_count": 102,
      "metadata": {
        "colab": {
          "base_uri": "https://localhost:8080/"
        },
        "id": "WgrtgXbDnLgz",
        "outputId": "494c224e-42dc-4843-ff5b-b40571cd3889"
      },
      "outputs": [
        {
          "name": "stdout",
          "output_type": "stream",
          "text": [
            "+-------+------+-----+-----------+\n",
            "|movieId|userId|annee|rank_movies|\n",
            "+-------+------+-----+-----------+\n",
            "|31696  |1     |2005 |1          |\n",
            "|7438   |1     |2004 |2          |\n",
            "|7449   |1     |2004 |3          |\n",
            "|7454   |1     |2004 |4          |\n",
            "|8368   |1     |2004 |5          |\n",
            "|2448   |3     |1999 |1          |\n",
            "|2505   |3     |1999 |2          |\n",
            "|2541   |3     |1999 |3          |\n",
            "|2567   |3     |1999 |4          |\n",
            "|2571   |3     |1999 |5          |\n",
            "|104    |5     |1996 |1          |\n",
            "|140    |5     |1996 |2          |\n",
            "|141    |5     |1996 |3          |\n",
            "|608    |5     |1996 |4          |\n",
            "|631    |5     |1996 |5          |\n",
            "|135    |6     |1996 |1          |\n",
            "|140    |6     |1996 |2          |\n",
            "|141    |6     |1996 |3          |\n",
            "|494    |6     |1996 |4          |\n",
            "|628    |6     |1996 |5          |\n",
            "+-------+------+-----+-----------+\n",
            "only showing top 20 rows\n",
            "\n"
          ]
        }
      ],
      "source": [
        "def remove_old_movies_in_timelines(movies_df,ratings_df,nb_max_movies=100):\n",
        "  \"\"\"Remove old movies in timelines \n",
        "  Args:\n",
        "    movies_df: Dataframe \n",
        "    ratings_df: DataFrame\n",
        "    nb_max_movies: int \n",
        "  \"\"\"\n",
        "  years_df = movies_df.withColumn(\"annee\",F.regexp_extract(\"title\", '\\((\\d+)\\)',1))\n",
        "  ratings_df=ratings_df.select(\"userId\",\"movieId\")\n",
        "  years_df=years_df.select(\"movieId\",\"annee\")\n",
        "  users_year=ratings_df.join(years_df,\"movieId\",\"inner\")\n",
        "  window_spec=Window.partitionBy(\"userId\").orderBy(col(\"annee\").desc())\n",
        "  df=users_year.withColumn(\"rank_movies\",row_number().over(window_spec))\n",
        "  dff=df.filter(df['rank_movies']<=nb_max_movies)\n",
        "\n",
        "  return dff\n",
        "\n",
        "remove_old_movies_in_timelines(movies_df,ratings_df,nb_max_movies=5).show(truncate=False)"
      ]
    },
    {
      "attachments": {},
      "cell_type": "markdown",
      "metadata": {
        "id": "HTveqlrl_T8u"
      },
      "source": [
        "# Part B - Association Rules"
      ]
    },
    {
      "attachments": {},
      "cell_type": "markdown",
      "metadata": {
        "id": "fukr5HVii2BG"
      },
      "source": [
        "## Recurring pairs\n",
        "This approach is simple and not efficient but gives you a baseline and intuition for the next steps.\n",
        "\n",
        "Morally, what we want to do is:\n",
        "\n",
        "- for each user, regroup all the movies they have liked inside a single row. We will call this the 'user timeline'\n",
        "- for each user, generate all pairs of movies across their list of movies.\n",
        "- for each pair of movies, count the amount of distinct users with this pair.\n",
        "\n"
      ]
    },
    {
      "attachments": {},
      "cell_type": "markdown",
      "metadata": {
        "id": "XKvQ69TpwF_N"
      },
      "source": [
        "### Question\n",
        "Create a function named *compute_timeline*, that takes a ratings dataframe as parameter, and returns the 'user timeline', a dataframe following this schema:\n",
        "- userId : integer\n",
        "- movies : list[integer] (list of movieId seen by user)\n",
        "\n",
        "Test it on a toy example."
      ]
    },
    {
      "cell_type": "code",
      "execution_count": 103,
      "metadata": {
        "id": "qP6GcseQrl2G"
      },
      "outputs": [],
      "source": [
        "def compute_timeline(ratings_df):\n",
        "  \"\"\"Compute timeline function \n",
        "  Args:\n",
        "    ratings_df: DataFrames\n",
        "    Creates a user timeline\n",
        "  \"\"\"\n",
        "  user_timeline = ratings_df.groupBy(\"userId\").agg(F.collect_list(\"movieId\").alias(\"movies\"))\n",
        "\n",
        "  return user_timeline"
      ]
    },
    {
      "attachments": {},
      "cell_type": "markdown",
      "metadata": {
        "id": "cAL_UEwOqVDK"
      },
      "source": [
        "### Test on the toy example "
      ]
    },
    {
      "cell_type": "code",
      "execution_count": 104,
      "metadata": {
        "colab": {
          "base_uri": "https://localhost:8080/"
        },
        "id": "RKG6dsALqYMr",
        "outputId": "fd7f2abf-6c92-44c2-cc42-1e55113ee769"
      },
      "outputs": [
        {
          "name": "stdout",
          "output_type": "stream",
          "text": [
            "+------+--------------------+\n",
            "|userId|              movies|\n",
            "+------+--------------------+\n",
            "|     1|[47, 924, 1090, 1...|\n",
            "|     3|[589, 1094, 1215,...|\n",
            "|     5|[316, 368, 480, 5...|\n",
            "|     9|        [4369, 4502]|\n",
            "+------+--------------------+\n",
            "only showing top 4 rows\n",
            "\n"
          ]
        }
      ],
      "source": [
        "user_timeline=compute_timeline(toy_rating_df)\n",
        "user_timeline.show(4)"
      ]
    },
    {
      "attachments": {},
      "cell_type": "markdown",
      "metadata": {
        "id": "JvYayBsHqgZu"
      },
      "source": [
        "#### on the original data "
      ]
    },
    {
      "cell_type": "code",
      "execution_count": 105,
      "metadata": {
        "colab": {
          "base_uri": "https://localhost:8080/"
        },
        "id": "wev4E9lIRQco",
        "outputId": "b97318f5-7387-479c-ab60-3a6992e4f1b4"
      },
      "outputs": [
        {
          "name": "stdout",
          "output_type": "stream",
          "text": [
            "+------+--------------------+\n",
            "|userId|              movies|\n",
            "+------+--------------------+\n",
            "|     1|[2, 29, 32, 47, 5...|\n",
            "|     3|[1, 24, 32, 50, 1...|\n",
            "|     5|[2, 11, 17, 60, 6...|\n",
            "|     6|[1, 3, 7, 17, 52,...|\n",
            "+------+--------------------+\n",
            "only showing top 4 rows\n",
            "\n"
          ]
        }
      ],
      "source": [
        "ct=compute_timeline(ratings_df)\n",
        "ct.show(4)"
      ]
    },
    {
      "attachments": {},
      "cell_type": "markdown",
      "metadata": {
        "id": "AGO98KnLxKpe"
      },
      "source": [
        "### Question\n",
        "Let's imagine that all of our executors have 4GB of memory. If we consider that dataset where movie ratings are greater or equal than 3.5, is it okay to store list of movie ids inside rows, as far as memory is concerned ?"
      ]
    },
    {
      "cell_type": "code",
      "execution_count": 73,
      "metadata": {
        "colab": {
          "base_uri": "https://localhost:8080/"
        },
        "id": "s2VR4eANub9R",
        "outputId": "5f91f757-1ad1-47c2-d71e-6e4d954a47d0"
      },
      "outputs": [
        {
          "data": {
            "text/plain": [
              "12195566"
            ]
          },
          "execution_count": 73,
          "metadata": {},
          "output_type": "execute_result"
        }
      ],
      "source": [
        "more_equal_three_pointhalf= remove_bad_ratings(ratings_df,3.5)\n",
        "more_equal_three_pointhalf.count()"
      ]
    },
    {
      "attachments": {},
      "cell_type": "markdown",
      "metadata": {
        "id": "dXS8ZfKlRojQ"
      },
      "source": [
        "**The answer would be no, because, the executor needs to \n",
        "acces the whole values, which surpass the memory of the executor\n",
        "The memory needed to store its rows of the new dataframe is big, so the execution isn't optimized**\n"
      ]
    },
    {
      "attachments": {},
      "cell_type": "markdown",
      "metadata": {
        "id": "_rSlT9Rd3w23"
      },
      "source": [
        "### Question\n",
        "Create a function named *compute_pairs*, that takes a user timeline dataframe as parameter, and returns a dataframe of movie pairs (generated across all movies of their timeline) following this schema:\n",
        "- userId : integer\n",
        "- movieId1 : integer\n",
        "- movieId2 : integer\n",
        "\n",
        "You can rely on an udf to generate list of pair of movies from a list of movies.\n",
        "\n",
        "Test it on a toy example."
      ]
    },
    {
      "cell_type": "code",
      "execution_count": 106,
      "metadata": {
        "id": "Al23gsgGNxPc"
      },
      "outputs": [],
      "source": [
        "def all_pairs(l):\n",
        "    res=[[i,j] for i in l for j in l if i<j]\n",
        "    return res\n",
        "\n",
        "generate_all_pairs = udf(lambda x: all_pairs(x), ArrayType(ArrayType(IntegerType())))\n",
        "\n",
        "def compute_pairs(user_timeline_df):\n",
        "    df = user_timeline_df.withColumn(\"all_pairs_movieId\", generate_all_pairs(user_timeline_df[\"movies\"])).select(\"userId\",\"all_pairs_movieId\")\n",
        "    df=df.select(\"userId\",explode(df.all_pairs_movieId))\n",
        "    df=df.select(\"userId\",df.col[0].alias(\"movieid1\"),df.col[1].alias(\"movieid2\"))\n",
        "    return df"
      ]
    },
    {
      "cell_type": "code",
      "execution_count": 107,
      "metadata": {
        "colab": {
          "base_uri": "https://localhost:8080/"
        },
        "id": "j9nkP0cGWNid",
        "outputId": "b2977702-6607-4459-c842-4b1cfac0e804"
      },
      "outputs": [
        {
          "name": "stdout",
          "output_type": "stream",
          "text": [
            "+------+--------+--------+\n",
            "|userId|movieid1|movieid2|\n",
            "+------+--------+--------+\n",
            "|     1|      47|     924|\n",
            "|     1|      47|    1090|\n",
            "|     1|      47|    1097|\n",
            "|     1|      47|    1222|\n",
            "|     1|      47|    1358|\n",
            "|     1|      47|    2194|\n",
            "|     1|      47|    2959|\n",
            "|     1|      47|    2968|\n",
            "|     1|      47|    3479|\n",
            "|     1|      47|    4941|\n",
            "|     1|      47|    5679|\n",
            "|     1|     924|    1090|\n",
            "|     1|     924|    1097|\n",
            "|     1|     924|    1222|\n",
            "|     1|     924|    1358|\n",
            "|     1|     924|    2194|\n",
            "|     1|     924|    2959|\n",
            "|     1|     924|    2968|\n",
            "|     1|     924|    3479|\n",
            "|     1|     924|    4941|\n",
            "+------+--------+--------+\n",
            "only showing top 20 rows\n",
            "\n"
          ]
        }
      ],
      "source": [
        "computed_pairs=compute_pairs(user_timeline)\n",
        "computed_pairs.show(20)"
      ]
    },
    {
      "attachments": {},
      "cell_type": "markdown",
      "metadata": {
        "id": "PD-P_FNL8yEk"
      },
      "source": [
        "### Question\n",
        "Let's imagine that all of our executors have 4GB of memory. \n",
        "\n",
        "If we consider that dataset where movie ratings are greater or equal than 3.5, what will happen when we generate pairs dataframe for this dataset ?\n",
        "\n",
        "You need to consider:\n",
        "- amount of bytes retained by lists of pairs\n",
        "- amount of partitions we have in user timeline\n",
        "\n",
        "Also, consider what may happen because of skew. We may have all big user timelines inside same partition."
      ]
    },
    {
      "attachments": {},
      "cell_type": "markdown",
      "metadata": {
        "id": "Y7ddncES6Jsy"
      },
      "source": [
        "**we consider that dataset where movie ratings are greater or equal than 3.5, what will happen when we generate pairs dataframe for this ?**\n",
        "\n",
        "**If we generate all possible pairs from a list of size $n$, we will have $n^2$ pairs, therefore the storage space needed to store this pairs, is the storage needed to store all the pairs will be proportional to the size of the initial list to the power of 2, in our case, $(3.5)^2=12.25$ which is way bigger than the 4GB capacity of all our executors.**\n",
        "\n",
        "**Regarding Skewness, the executors that already have a larger data stored will be much more impacted when $n^2$ is applied (with the n being the number of the data locally stored by the executor)**\n",
        "\n",
        "**If you had 3.5 GB for the entire dataset, and we wanted a partition of size 170 MB, we would have 21 partitions; If we generate all pairs, we would have 12.25 GB, if you want to keep the partition size of 170, we will need 72 partitions. The number of partitions has largely increased by around 3.5 times**"
      ]
    },
    {
      "attachments": {},
      "cell_type": "markdown",
      "metadata": {
        "id": "eBrwHceR9wmF"
      },
      "source": [
        "#### If we try with the \"more_equal_three_pointhalf_pair\" which is a dataframe having ratings which are greater or equal than 3.5, will will have this following error "
      ]
    },
    {
      "cell_type": "code",
      "execution_count": null,
      "metadata": {
        "id": "GZbP0nE2Gny-"
      },
      "outputs": [],
      "source": [
        "more_equal_three_pointhalf_pair=compute_pairs(more_equal_three_pointhalf)\n",
        "more_equal_three_pointhalf_pair.show(3)"
      ]
    },
    {
      "attachments": {},
      "cell_type": "markdown",
      "metadata": {
        "id": "m_Woxgm0Onz4"
      },
      "source": [
        "![failute.png](data:image/png;base64,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)"
      ]
    },
    {
      "attachments": {},
      "cell_type": "markdown",
      "metadata": {
        "id": "4YhKxZd6BdWx"
      },
      "source": [
        "### Question\n",
        "Create a function named *compute_pair_frequencies*, that takes a movie pair dataframe as parameter, and returns a dataframe of movie pairs and their user count, following this schema:\n",
        "- movieId1 : integer\n",
        "- movieId2 : integer\n",
        "- count : integer\n",
        "\n",
        "Dataframe should be **ordered**, with most frequent pairs first.\n",
        "\n",
        "Test it on a toy example."
      ]
    },
    {
      "cell_type": "code",
      "execution_count": 108,
      "metadata": {
        "id": "5LF5oJDJCEDZ"
      },
      "outputs": [],
      "source": [
        "def compute_pair_frequencies(movie_pairs_df):\n",
        "  df=movie_pairs_df.groupBy(\"movieid1\",\"movieid2\").count()\n",
        "  return df "
      ]
    },
    {
      "cell_type": "code",
      "execution_count": 109,
      "metadata": {
        "colab": {
          "base_uri": "https://localhost:8080/"
        },
        "id": "P-c0vTnFrfVQ",
        "outputId": "f708ae99-530d-4e7c-8de9-dfd10ea7efd4"
      },
      "outputs": [
        {
          "name": "stdout",
          "output_type": "stream",
          "text": [
            "+--------+--------+-----+\n",
            "|movieid1|movieid2|count|\n",
            "+--------+--------+-----+\n",
            "|    4299|    4896|   11|\n",
            "|     292|    1347|    7|\n",
            "+--------+--------+-----+\n",
            "only showing top 2 rows\n",
            "\n"
          ]
        }
      ],
      "source": [
        "cpf=compute_pair_frequencies(computed_pairs)\n",
        "cpf.show(2)"
      ]
    },
    {
      "attachments": {},
      "cell_type": "markdown",
      "metadata": {
        "id": "d81d3Thf6DPD"
      },
      "source": [
        "### Question\n",
        "Quickly test the whole algorithm on *ratings_df* or a subset of it.\n",
        "\n",
        "How many shuffles for the whole algorithm ?"
      ]
    },
    {
      "attachments": {},
      "cell_type": "markdown",
      "metadata": {
        "id": "WNPNocbPFDIU"
      },
      "source": [
        "###### It takes a lot of time executing. Uncomment if you want to. "
      ]
    },
    {
      "cell_type": "code",
      "execution_count": null,
      "metadata": {
        "id": "CiZfGfshztLZ"
      },
      "outputs": [],
      "source": [
        "## aplying cpf for the rating_df\n",
        "# pairfreq_df=compute_pairs(ct)\n",
        "# pair_freq_all=compute_pair_frequencies(pairfreq_df)\n",
        "# pair_freq_all.show(3)"
      ]
    },
    {
      "attachments": {},
      "cell_type": "markdown",
      "metadata": {
        "id": "KRSIXOfWO7So"
      },
      "source": [
        "In our code here are the following used shuffles :     \n",
        "  1. .groupBy() in compute_pair_frequencies \n",
        "  2. .groupBy() in compute_timeline\n",
        "\n",
        "Therefore, the number of shuffle used is **2**"
      ]
    },
    {
      "attachments": {},
      "cell_type": "markdown",
      "metadata": {
        "id": "kuqp0Y6ky8ed"
      },
      "source": [
        "## A priori  \n",
        "You can find a good description of A priori here :\n",
        "\n",
        "https://towardsdatascience.com/apriori-association-rule-mining-explanation-and-python-implementation-290b42afdfc6"
      ]
    },
    {
      "attachments": {},
      "cell_type": "markdown",
      "metadata": {
        "id": "p0E8hbjPFLgd"
      },
      "source": [
        "### Question\n",
        "Implement your own version of A priori to compute most frequent pairs and quickly test it on *ratings_df* or a subset of it.\n",
        "\n",
        "You may want to rely on *F.explode* as an alternative to udf."
      ]
    },
    {
      "cell_type": "code",
      "execution_count": 111,
      "metadata": {
        "id": "408tONXR22X2"
      },
      "outputs": [],
      "source": [
        "def scan(rdd):\n",
        "    #generate all pairs after pruning !! (number of pairs generate is less than the whole number of pairs because the pairs where prune before)\n",
        "    res_rdd=rdd.flatMap(lambda x : [(i,1) for i in x[1]]).reduceByKey(lambda x,y:x+y)\n",
        "    return res_rdd\n",
        "\n",
        "def filter_with_limit(rdd,minSup):\n",
        "    discarded_items=rdd.filter(lambda x: x[1]<minSup).map(lambda x : x[0])\n",
        "    kept_items=rdd.filter(lambda x: x[1]>=minSup)\n",
        "    return discarded_items,kept_items\n",
        "\n",
        "def local_union(list_movies,number_to_keep):    \n",
        "    res=[]\n",
        "    for i in range(len(list_movies)):\n",
        "        for j in range(i+1,len(list_movies)):\n",
        "            if(type(list_movies[i])==int):\n",
        "                set_i=set([list_movies[i]])\n",
        "                set_j=set([list_movies[j]])\n",
        "            else:\n",
        "                set_i=set(list_movies[i])\n",
        "                set_j=set(list_movies[j])\n",
        "            union=set_i.union(set_j)\n",
        "            to_add_candidat=tuple(sorted(union))\n",
        "            if(len(to_add_candidat)==number_to_keep):\n",
        "                res.append(to_add_candidat)\n",
        "    return sorted(list(set(res)))\n",
        "\n",
        "def getUnion(ratings_rdd,number_of_items_in_itemset):\n",
        "    rdd_rating_res=ratings_rdd.map(lambda x : (x[0],local_union(x[1],number_of_items_in_itemset)))\n",
        "    rdd_rating_res=rdd_rating_res.filter(lambda x : len(x[1])>0)\n",
        "    return rdd_rating_res\n",
        "\n",
        "def prune_unfrequent_items(ratings_rdd,discarded_item_list):\n",
        "    res_rdd=ratings_rdd.map(lambda x : (x[0], [i for i in x[1] if i not in discarded_item_list]))\n",
        "    res_rdd=res_rdd.filter(lambda x : len(x[1])>0)\n",
        "    return res_rdd\n",
        "\n",
        "def apriori(ratings_df,minSup,stop_at_length=2):\n",
        "    ratings_rdd_to_modify=ratings_df.rdd\n",
        "    #C1\n",
        "    c=scan(ratings_rdd_to_modify)\n",
        "    l_discraded_items,l=filter_with_limit(c,minSup)\n",
        "    for k in range(2,stop_at_length+1) :\n",
        "        l_discraded_items_list=l_discraded_items.collect()\n",
        "        ratings_rdd_to_modify=prune_unfrequent_items(ratings_rdd_to_modify,l_discraded_items_list)      \n",
        "        #We didn't find a way to avoid the collect bellow as storing the frequent items  in an RDD or DataFrame will lead to a lot of costly joins (thus shuffle and sort) down the line. We suppose that the discarded item list is small enough compared to the whole list so it can be store locally in a list.\n",
        "        ratings_rdd_to_modify=getUnion(ratings_rdd_to_modify,k)\n",
        "        #Next C\n",
        "        c=scan(ratings_rdd_to_modify)\n",
        "        l_discraded_items,l=filter_with_limit(c,minSup)\n",
        "    frequent_nuplets_df=spark.createDataFrame(l,[\"Itemset\",\"sup\"])\n",
        "    return frequent_nuplets_df"
      ]
    },
    {
      "cell_type": "code",
      "execution_count": 112,
      "metadata": {
        "id": "MDAQcq6RBKio"
      },
      "outputs": [],
      "source": [
        "simple_data = [(\"1\",[1,4,6,9]), (\"2\",[4,6,9]), (\"3\",[1,6]),(\"4\",[1,9])]\n",
        "simple_data_df = spark.createDataFrame(data=simple_data, schema = [\"userId\",\"movieId\"])"
      ]
    },
    {
      "cell_type": "code",
      "execution_count": null,
      "metadata": {
        "id": "Ygf6KH5eGUyO"
      },
      "outputs": [],
      "source": [
        "apriori(simple_data_df,minSup=2,stop_at_length=2).show(4)"
      ]
    },
    {
      "cell_type": "code",
      "execution_count": 74,
      "metadata": {
        "colab": {
          "base_uri": "https://localhost:8080/"
        },
        "id": "l_KN-8AZBXLA",
        "outputId": "e2034d3b-080e-4db2-fb01-0ace9df4dbdf"
      },
      "outputs": [
        {
          "name": "stdout",
          "output_type": "stream",
          "text": [
            "+-------------+---+\n",
            "|      Itemset|sup|\n",
            "+-------------+---+\n",
            "|{1597, 79695}|  2|\n",
            "| {4034, 5378}| 15|\n",
            "| {2447, 3841}|  2|\n",
            "|{1136, 54732}|  2|\n",
            "+-------------+---+\n",
            "only showing top 4 rows\n",
            "\n"
          ]
        }
      ],
      "source": [
        "apriori(user_timeline,minSup=2,stop_at_length=2).show(4)"
      ]
    },
    {
      "attachments": {},
      "cell_type": "markdown",
      "metadata": {
        "id": "fYjT4dDVFSGv"
      },
      "source": [
        "### Question\n",
        "Implement your own version of A priori to compute most frequent triplets.\n",
        "\n",
        "A this stage of the 'A priori' section, you are probably doing the same thing multiple times. \n",
        "\n",
        "Maybe it's time to factorize your code..."
      ]
    },
    {
      "cell_type": "code",
      "execution_count": 75,
      "metadata": {
        "colab": {
          "base_uri": "https://localhost:8080/"
        },
        "id": "8HEdaQFgIqpz",
        "outputId": "b365318b-2a7c-4e23-d9ff-675418a5b4d4"
      },
      "outputs": [
        {
          "name": "stdout",
          "output_type": "stream",
          "text": [
            "+---------+---+\n",
            "|  Itemset|sup|\n",
            "+---------+---+\n",
            "|{4, 6, 9}|  2|\n",
            "+---------+---+\n",
            "\n"
          ]
        }
      ],
      "source": [
        "apriori(simple_data_df,minSup=2,stop_at_length=3).show(4)"
      ]
    },
    {
      "cell_type": "code",
      "execution_count": null,
      "metadata": {
        "id": "Kw-39rzLBkih"
      },
      "outputs": [],
      "source": [
        "#takes considerate time :\n",
        "#apriori(ct_df_from_parquet,minSup=3,stop_at_length=3).show(4)"
      ]
    },
    {
      "attachments": {},
      "cell_type": "markdown",
      "metadata": {
        "id": "2oydlvafPizm"
      },
      "source": [
        "**The written code doesn't seem to be optimized, it works well on small data, but struggles with larger data because it takes quite a lot of time, maybe if we've used dataframes instead of RDD, would have made the code execution faster**\n",
        "\n",
        "**The code works well for pairs and struggles for finding triplets**"
      ]
    },
    {
      "attachments": {},
      "cell_type": "markdown",
      "metadata": {
        "id": "uRUB_yQA7I-m"
      },
      "source": [
        "## 3. FP-Growth"
      ]
    },
    {
      "attachments": {},
      "cell_type": "markdown",
      "metadata": {
        "id": "2a5CJmMyFW9Q"
      },
      "source": [
        "### Question\n",
        "Use the Spark version of fpgrowth:\n",
        "\n",
        "https://spark.apache.org/docs/2.3.0/ml-frequent-pattern-mining.html"
      ]
    },
    {
      "cell_type": "code",
      "execution_count": 77,
      "metadata": {
        "colab": {
          "base_uri": "https://localhost:8080/"
        },
        "id": "YJZzePpi-OJy",
        "outputId": "2dc20356-85db-4b2e-b6da-595014fdcb30"
      },
      "outputs": [
        {
          "name": "stderr",
          "output_type": "stream",
          "text": [
            "/content/spark-3.2.3-bin-hadoop3.2/python/pyspark/sql/context.py:125: FutureWarning: Deprecated in 3.0.0. Use SparkSession.builder.getOrCreate() instead.\n",
            "  warnings.warn(\n"
          ]
        },
        {
          "name": "stdout",
          "output_type": "stream",
          "text": [
            "+-------+----+\n",
            "|  items|freq|\n",
            "+-------+----+\n",
            "| [3653]|  38|\n",
            "|[78105]|  55|\n",
            "| [3446]|  16|\n",
            "| [3197]|  54|\n",
            "+-------+----+\n",
            "only showing top 4 rows\n",
            "\n",
            "+----------+----------+-------------------+------------------+--------------------+\n",
            "|antecedent|consequent|         confidence|              lift|             support|\n",
            "+----------+----------+-------------------+------------------+--------------------+\n",
            "|    [1010]|     [586]|0.10869565217391304| 9.322263714768383|1.192207730274923E-4|\n",
            "|    [1542]|    [1196]|0.11016949152542373| 5.933730700023218|  1.0332466995716E-4|\n",
            "|    [7256]|    [2858]| 0.1320754716981132| 7.215518724551241|1.112727214923261...|\n",
            "|    [4994]|    [3114]|             0.1625|18.320127688172047|  1.0332466995716E-4|\n",
            "+----------+----------+-------------------+------------------+--------------------+\n",
            "only showing top 4 rows\n",
            "\n"
          ]
        }
      ],
      "source": [
        "from pyspark.ml.fpm import FPGrowth\n",
        "fpGrowth = FPGrowth(itemsCol=\"movies\", minSupport=0.0001, minConfidence=0.1)\n",
        "model = fpGrowth.fit(user_timeline)\n",
        "# Display frequent itemsets.\n",
        "model.freqItemsets.show(4)\n",
        "model.associationRules.show(4)"
      ]
    },
    {
      "attachments": {},
      "cell_type": "markdown",
      "metadata": {
        "id": "Zj1HcZkRGRRs"
      },
      "source": [
        "# Part C - Probabilistic Latent Semantic Model\n",
        "Aim of this section is to implement a Probabilistic Latent Semantic Model.\n",
        "\n",
        "We will use an expectation maximization algorithm to learn its parameters.\n",
        "\n",
        "In the first set of questions you will implement some utility functions to deal with matrix manipulations.\n",
        "\n",
        "In the second set of questions, you will implement the algorithm itself."
      ]
    },
    {
      "attachments": {},
      "cell_type": "markdown",
      "metadata": {
        "id": "papRtCuWJxho"
      },
      "source": [
        "## Matrix manipulation functions\n",
        "We will implement matrix operations that will be usefull to run the PLSI algorithm afterwards."
      ]
    },
    {
      "attachments": {},
      "cell_type": "markdown",
      "metadata": {
        "id": "dzVkNoL4KQ0L"
      },
      "source": [
        "#### `matrix_sum_rows` \n",
        "Takes a matrix (a column containing arrays of fixed length) and returns the sum of each row."
      ]
    },
    {
      "cell_type": "code",
      "execution_count": 22,
      "metadata": {
        "colab": {
          "base_uri": "https://localhost:8080/"
        },
        "id": "P1VyUs79KUeg",
        "outputId": "cf25101d-21d4-4563-ba09-cc697b361354"
      },
      "outputs": [
        {
          "name": "stdout",
          "output_type": "stream",
          "text": [
            "Input array\n",
            "[[ 1.  2.  3.  4.]\n",
            " [40. 30. 20. 10.]]\n",
            "Expected output\n",
            "[ 10. 100.]\n",
            "Obtained output\n",
            "+------------------------+-------+\n",
            "|matrix                  |row_sum|\n",
            "+------------------------+-------+\n",
            "|[1.0, 2.0, 3.0, 4.0]    |10.0   |\n",
            "|[40.0, 30.0, 20.0, 10.0]|100.0  |\n",
            "+------------------------+-------+\n",
            "\n"
          ]
        }
      ],
      "source": [
        "# Hint: https://stackoverflow.com/a/57448698/2015762\n",
        "def matrix_sum_rows(col_name, length_of_array):\n",
        "  sum_rows =  sum([F.col(col_name).getItem(i) for i in range(length_of_array)])\n",
        "  \n",
        "  return sum_rows\n",
        "\n",
        "input_array = np.array([[1, 2, 3, 4], [40, 30, 20, 10]], dtype=float)\n",
        "expected_output = input_array.sum(axis=1)\n",
        "print('Input array')\n",
        "print(input_array)\n",
        "print('Expected output')\n",
        "print(expected_output)\n",
        "print('Obtained output')\n",
        "(\n",
        "    spark.sparkContext.parallelize(input_array.tolist()).map(lambda x: Row(matrix=x)).toDF()\n",
        "    .withColumn('row_sum', matrix_sum_rows('matrix', 4))\n",
        ").show(truncate=False)"
      ]
    },
    {
      "attachments": {},
      "cell_type": "markdown",
      "metadata": {
        "id": "CFJwS3HAKYDj"
      },
      "source": [
        "#### `matrix_sum_columns`\n",
        "Takes a matrix (a column containing arrays of fixed length) and returns the sum of each column."
      ]
    },
    {
      "cell_type": "code",
      "execution_count": 23,
      "metadata": {
        "colab": {
          "base_uri": "https://localhost:8080/"
        },
        "id": "df36LGTSKclE",
        "outputId": "dc189817-3d79-46bc-bd9c-cede21667d2a"
      },
      "outputs": [
        {
          "name": "stdout",
          "output_type": "stream",
          "text": [
            "Input array\n",
            "[[ 1.  2.  3.  4.]\n",
            " [40. 30. 20. 10.]]\n",
            "Expected output\n",
            "[41. 32. 23. 14.]\n",
            "Obtained output\n",
            "+------------------------+\n",
            "|col_sum                 |\n",
            "+------------------------+\n",
            "|[41.0, 32.0, 23.0, 14.0]|\n",
            "+------------------------+\n",
            "\n"
          ]
        }
      ],
      "source": [
        "# Hint: https://stackoverflow.com/a/54382990/2015762\n",
        "def matrix_sum_columns(col_name, length_of_array):\n",
        "    bla = F.array(*[F.sum(F.col(col_name)[i]) for i in range(length_of_array)])\n",
        "\n",
        "    return bla\n",
        "\n",
        "input_array = np.array([[1, 2, 3, 4], [40, 30, 20, 10]], dtype=float)\n",
        "expected_output = input_array.sum(axis=0)\n",
        "print('Input array')\n",
        "print(input_array)\n",
        "print('Expected output')\n",
        "print(expected_output)\n",
        "print('Obtained output')\n",
        "(\n",
        "    spark.sparkContext.parallelize(input_array.tolist()).map(lambda x: Row(matrix=x)).toDF()\n",
        "    .select(matrix_sum_columns('matrix', 4).alias('col_sum'))\n",
        ").show(truncate=False)"
      ]
    },
    {
      "attachments": {},
      "cell_type": "markdown",
      "metadata": {
        "id": "cCWm2vK4KhES"
      },
      "source": [
        "#### `matrix_normalize_rows`\n",
        "Takes a matrix (a column containing arrays of fixed length) and returns the same matrix where the rows have been divded by their sum, such that each row sums to 1."
      ]
    },
    {
      "cell_type": "code",
      "execution_count": 24,
      "metadata": {
        "colab": {
          "base_uri": "https://localhost:8080/"
        },
        "id": "XsNhEtSuKZBI",
        "outputId": "be3e350c-0c63-4b75-9b27-27c72c19fa94"
      },
      "outputs": [
        {
          "name": "stdout",
          "output_type": "stream",
          "text": [
            "Input array\n",
            "[[ 1.  2.  3.  4.]\n",
            " [40. 30. 20. 10.]]\n",
            "Expected output\n",
            "[[0.1 0.2 0.3 0.4]\n",
            " [0.4 0.3 0.2 0.1]]\n",
            "Obtained output\n",
            "+------------------------+--------------------+\n",
            "|numbers                 |normalized_elements |\n",
            "+------------------------+--------------------+\n",
            "|[1.0, 2.0, 3.0, 4.0]    |[0.1, 0.2, 0.3, 0.4]|\n",
            "|[40.0, 30.0, 20.0, 10.0]|[0.4, 0.3, 0.2, 0.1]|\n",
            "+------------------------+--------------------+\n",
            "\n"
          ]
        }
      ],
      "source": [
        "def matrix_normalize_rows(col_name, length_of_array):\n",
        "  normalized=F.array([F.col(col_name).getItem(i)/sum([F.col(col_name).getItem(j) \n",
        "                                                    for j in range(length_of_array)]) \n",
        "            for i in range(length_of_array)])\n",
        "\n",
        "  return normalized\n",
        "\n",
        "input_array = np.array([[1, 2, 3, 4], [40, 30, 20, 10]], dtype=float)\n",
        "expected_output = input_array / input_array.sum(axis=1).reshape(-1, 1)\n",
        "print('Input array')\n",
        "print(input_array)\n",
        "print('Expected output')\n",
        "print(expected_output)\n",
        "print('Obtained output')\n",
        "(\n",
        "    spark.sparkContext.parallelize(input_array.tolist()).map(lambda x: Row(numbers=x)).toDF()\n",
        "    .withColumn('normalized_elements', matrix_normalize_rows('numbers', 4))\n",
        ").show(truncate=False)"
      ]
    },
    {
      "attachments": {},
      "cell_type": "markdown",
      "metadata": {
        "id": "PPWSuJVkKkoS"
      },
      "source": [
        "#### `matrix_elementwise_product`\n",
        "Takes two matrices and return their elementwise product (aka. Hadamard product)"
      ]
    },
    {
      "cell_type": "code",
      "execution_count": 25,
      "metadata": {
        "colab": {
          "base_uri": "https://localhost:8080/"
        },
        "id": "4EHBDsfzKovu",
        "outputId": "fd4af0d8-9b02-4d50-b1b8-c108efefd91a"
      },
      "outputs": [
        {
          "name": "stdout",
          "output_type": "stream",
          "text": [
            "Input array\n",
            "[[ 1.  2.  3.  4.]\n",
            " [40. 30. 20. 10.]]\n",
            "[[ 1.  2.  1.  2.]\n",
            " [10. 20. 10. 20.]]\n",
            "Expected output\n",
            "[[  1.   4.   3.   8.]\n",
            " [400. 600. 200. 200.]]\n",
            "Obtained output\n",
            "+------------------------+------------------------+----------------------------+\n",
            "|numbers_1               |numbers_2               |elementwise_products        |\n",
            "+------------------------+------------------------+----------------------------+\n",
            "|[1.0, 2.0, 3.0, 4.0]    |[1.0, 2.0, 1.0, 2.0]    |[1.0, 4.0, 3.0, 8.0]        |\n",
            "|[40.0, 30.0, 20.0, 10.0]|[10.0, 20.0, 10.0, 20.0]|[400.0, 600.0, 200.0, 200.0]|\n",
            "+------------------------+------------------------+----------------------------+\n",
            "\n"
          ]
        }
      ],
      "source": [
        "def matrix_elementwise_product(col_name_1, col_name_2, length_of_array):\n",
        "    res=F.array(*[F.col(col_name_1).getItem(i)*F.col(col_name_2).getItem(i) for i in range(length_of_array)])\n",
        "    return res\n",
        "\n",
        "input_array_1 = np.array([[1, 2, 3, 4], [40, 30, 20, 10]], dtype=float)\n",
        "input_array_2 = np.array([[1, 2, 1, 2], [10, 20, 10, 20]], dtype=float)\n",
        "expected_output = input_array_1 * input_array_2\n",
        "print('Input array')\n",
        "print(input_array_1)\n",
        "print(input_array_2)\n",
        "print('Expected output')\n",
        "print(expected_output)\n",
        "print('Obtained output')\n",
        "(\n",
        "    spark.sparkContext.parallelize(zip(input_array.tolist(), input_array_2.tolist())).map(lambda x: Row(numbers_1=x[0], numbers_2=x[1])).toDF()\n",
        "    .withColumn('elementwise_products', matrix_elementwise_product('numbers_1', 'numbers_2', 4))\n",
        ").show(truncate=False)"
      ]
    },
    {
      "attachments": {},
      "cell_type": "markdown",
      "metadata": {
        "id": "YLayzlbbKvS2"
      },
      "source": [
        "#### `matrix_elementwise_divide`\n",
        "Takes two matrices and divide elementwise the first one by the second one."
      ]
    },
    {
      "cell_type": "code",
      "execution_count": 26,
      "metadata": {
        "colab": {
          "base_uri": "https://localhost:8080/"
        },
        "id": "rZ2Mhzj9KwT6",
        "outputId": "c1f2acd4-2555-43a9-a0f6-870257759735"
      },
      "outputs": [
        {
          "name": "stdout",
          "output_type": "stream",
          "text": [
            "Input array\n",
            "[[ 1.  2.  3.  4.]\n",
            " [40. 30. 20. 10.]]\n",
            "[[ 1.  2.  1.  2.]\n",
            " [10. 20. 10. 20.]]\n",
            "Expected output\n",
            "[[1.  1.  3.  2. ]\n",
            " [4.  1.5 2.  0.5]]\n",
            "Obtained output\n",
            "+------------------------+------------------------+--------------------+\n",
            "|numbers_1               |numbers_2               |elementwise_divided |\n",
            "+------------------------+------------------------+--------------------+\n",
            "|[1.0, 2.0, 3.0, 4.0]    |[1.0, 2.0, 1.0, 2.0]    |[1.0, 1.0, 3.0, 2.0]|\n",
            "|[40.0, 30.0, 20.0, 10.0]|[10.0, 20.0, 10.0, 20.0]|[4.0, 1.5, 2.0, 0.5]|\n",
            "+------------------------+------------------------+--------------------+\n",
            "\n"
          ]
        }
      ],
      "source": [
        "def matrix_elementwise_divide(col_name_1, col_name_2, length_of_array):\n",
        "  res=F.array(*[F.col(col_name_1).getItem(i)/F.col(col_name_2).getItem(i) for i in range(length_of_array)])\n",
        "  return res\n",
        "\n",
        "\n",
        "input_array_1 = np.array([[1, 2, 3, 4], [40, 30, 20, 10]], dtype=float)\n",
        "input_array_2 = np.array([[1, 2, 1, 2], [10, 20, 10, 20]], dtype=float)\n",
        "expected_output = input_array_1 / input_array_2\n",
        "print('Input array')\n",
        "print(input_array_1)\n",
        "print(input_array_2)\n",
        "print('Expected output')\n",
        "print(expected_output)\n",
        "print('Obtained output')\n",
        "(\n",
        "    spark.sparkContext.parallelize(zip(input_array.tolist(), input_array_2.tolist())).map(lambda x: Row(numbers_1=x[0], numbers_2=x[1])).toDF()\n",
        "    .withColumn('elementwise_divided', matrix_elementwise_divide('numbers_1', 'numbers_2', 4))\n",
        ").show(truncate=False)"
      ]
    },
    {
      "attachments": {},
      "cell_type": "markdown",
      "metadata": {
        "id": "jwbYk4FxJ4oF"
      },
      "source": [
        "## PLSI\n",
        "With\n",
        "* N the number of users u\n",
        "* M the number of movies s\n",
        "* L the number of latent classes z\n",
        "* T number of user, movie interactions (each interaction (s_t, u_t) means user u_t liked movie s_t)\n",
        "\n",
        "We suppose that the probability that a user will like a movie can be written in the form of a mixture model given by the equation:\n",
        "$$\n",
        "p(s|u) = \\sum_{z=1}^L p(s|z) p(z|u)\n",
        "$$\n",
        "And we want to optimize the likelihood of the observed user interactions\n",
        "$$\n",
        "L = - \\frac{1}{T} \\sum_{1}^{T} \\log p(s_t|u_t) = - \\frac{1}{T} \\sum_{1}^{T} \\sum_{z=1}^L p(s_t|z) p(z|u_t)\n",
        "$$\n",
        "That can be done using an EM algorithm working as follow:\n",
        "\n",
        "**E step**\n",
        "\n",
        "For each interaction (u_t, s_t), compute for all z = 1, ..., L:\n",
        "$$\n",
        "p(z|(u_t, s_t)) = \\frac{p(s_t|z) p(z|u_t)}{\\sum_z p(s_t|z) p(z|u_t)}\n",
        "$$\n",
        "\n",
        "**M step**\n",
        "\n",
        "Find each movie probability given a latent class\n",
        "$$\n",
        "p(s|z) = \\frac{N(z, s)}{N(z)} \n",
        "\\quad \\text{where} \\quad N(z, s) = \\sum_s \\sum_u p(z|(u, s)) \n",
        "\\quad \\text{and} \\quad N(z) = \\sum_s N(z, s)\n",
        "$$\n",
        "Find each latent class probability given each user.\n",
        "$$\n",
        "p(z|u) = \\frac{\\sum_s p(z|(u, s))}{\\sum_z \\sum_s p(z|(u, s))}\n",
        "$$\n",
        "\n",
        "We will have the following dataframes\n",
        "\n",
        "* `count_z_s`: M rows, with columns  `movieId`, `N(z,s)`.\n",
        "* `count_z`: 1 row, with column `N(z)`.\n",
        "* `p_s_knowing_z`: M rows, with columns  `movieId`, `p(s|z)`. For a given z, the sum of p(s|z) equals 1.\n",
        "* `p_z_knowing_u`: N rows, with columns `userId`, `p(z|u)`. For a given u, the sum of p(z|u) equals 1.\n",
        "* `p_z_knowing_u_and_s`: N x M rows, with columns `userId`, `movieId`, `p(z|u,s)`."
      ]
    },
    {
      "attachments": {},
      "cell_type": "markdown",
      "metadata": {
        "id": "54ILd0Z1J8dx"
      },
      "source": [
        "### Question\n",
        "Implement the PLSI algorithm"
      ]
    },
    {
      "cell_type": "code",
      "execution_count": 27,
      "metadata": {
        "colab": {
          "base_uri": "https://localhost:8080/"
        },
        "id": "vlylyUwF96kO",
        "outputId": "6b4966ff-0d3a-468a-87d7-0e595d385b9b"
      },
      "outputs": [
        {
          "name": "stdout",
          "output_type": "stream",
          "text": [
            "+-------+---------------+\n",
            "|movieId|         N(z,s)|\n",
            "+-------+---------------+\n",
            "|      1|[1.0, 3.0, 4.0]|\n",
            "|      2|[4.0, 5.0, 0.0]|\n",
            "+-------+---------------+\n",
            "\n"
          ]
        }
      ],
      "source": [
        "#There's M=2 rows here with columns MovieId\n",
        "count_z_s = spark.sparkContext.parallelize([\n",
        "    Row(**{\"movieId\":1, \"N(z,s)\": [1., 3., 4.]}),\n",
        "    Row(**{\"movieId\":2, \"N(z,s)\": [4., 5., 0.]}),\n",
        "]).toDF()\n",
        "\n",
        "count_z_s.show()"
      ]
    },
    {
      "cell_type": "code",
      "execution_count": 28,
      "metadata": {
        "colab": {
          "base_uri": "https://localhost:8080/"
        },
        "id": "JuHyQ6DbklG8",
        "outputId": "03cc0a8d-d45a-4557-9a9d-9f0fa9669e31"
      },
      "outputs": [
        {
          "name": "stdout",
          "output_type": "stream",
          "text": [
            "+------+-------+---------------+\n",
            "|userId|movieId|       p(z|u,s)|\n",
            "+------+-------+---------------+\n",
            "|     1|      1|[0.3, 0.5, 0.2]|\n",
            "|     2|      1|[0.1, 0.6, 0.3]|\n",
            "|     1|      2|[0.2, 0.7, 0.1]|\n",
            "|     2|      2|[0.4, 0.4, 0.2]|\n",
            "+------+-------+---------------+\n",
            "\n"
          ]
        }
      ],
      "source": [
        "#For testing only \n",
        "p_z_knowing_u_and_s = spark.sparkContext.parallelize([\n",
        "    Row(**{\"userId\":1, \"movieId\":1, \"p(z|u,s)\": [0.3, 0.5, 0.2]}),\n",
        "    Row(**{\"userId\":2, \"movieId\":1, \"p(z|u,s)\": [0.1, 0.6, 0.3]}),\n",
        "    Row(**{\"userId\":1, \"movieId\":2, \"p(z|u,s)\": [0.2, 0.7, 0.1]}),\n",
        "    Row(**{\"userId\":2, \"movieId\":2, \"p(z|u,s)\": [0.4, 0.4, 0.2]}),\n",
        "]).toDF()\n",
        "\n",
        "p_z_knowing_u_and_s.show()"
      ]
    },
    {
      "attachments": {},
      "cell_type": "markdown",
      "metadata": {
        "id": "e9Tc5Wr1K-WY"
      },
      "source": [
        "**count_z: 1 row, with column N(z).**"
      ]
    },
    {
      "cell_type": "code",
      "execution_count": 29,
      "metadata": {
        "colab": {
          "base_uri": "https://localhost:8080/"
        },
        "id": "wDGcbe41LwPV",
        "outputId": "2e704380-50bd-471d-9366-cf3861c80a44"
      },
      "outputs": [
        {
          "name": "stdout",
          "output_type": "stream",
          "text": [
            "+---------------+\n",
            "|           N(z)|\n",
            "+---------------+\n",
            "|[5.0, 8.0, 4.0]|\n",
            "+---------------+\n",
            "\n"
          ]
        }
      ],
      "source": [
        "def get_count_z(count_z_s, n_latent_classes):\n",
        "    \"\"\"Compute N(z) = sum_s N(z,s)\n",
        "    \"\"\"\n",
        "    res=count_z_s.agg(matrix_sum_columns(count_z_s.columns[1],n_latent_classes).alias(\"N(z)\"))\n",
        "    \n",
        "    return res\n",
        "\n",
        "count_z_s = spark.sparkContext.parallelize([\n",
        "    Row(**{\"movieId\":1, \"N(z,s)\": [1., 3., 4.]}),\n",
        "    Row(**{\"movieId\":2, \"N(z,s)\": [4., 5., 0.]}),\n",
        "]).toDF()\n",
        "get_count_z(count_z_s, 3).show()\n",
        "# Expected [5., 8., 4.]"
      ]
    },
    {
      "attachments": {},
      "cell_type": "markdown",
      "metadata": {
        "id": "3N_6xAJ0Z8Tm"
      },
      "source": [
        "***`count_z_s`: M rows, with columns  `movieId`, `N(z,s)`.***"
      ]
    },
    {
      "cell_type": "code",
      "execution_count": 30,
      "metadata": {
        "colab": {
          "base_uri": "https://localhost:8080/"
        },
        "id": "uyftz13QLyez",
        "outputId": "d06a9e08-c3d4-4643-a135-cc4f13cb342d"
      },
      "outputs": [
        {
          "name": "stdout",
          "output_type": "stream",
          "text": [
            "+-------+--------------------+\n",
            "|movieId|              N(z,s)|\n",
            "+-------+--------------------+\n",
            "|      1|     [0.4, 1.1, 0.5]|\n",
            "|      2|[0.60000000000000...|\n",
            "+-------+--------------------+\n",
            "\n"
          ]
        }
      ],
      "source": [
        "def get_count_z_s(p_z_knowing_u_and_s, n_latent_classes):\n",
        "  \"\"\"\n",
        "  Compute N(z,s) = sum_u p(z|u,s)\n",
        "  p_z_knowing_u_and_s: N x M rows, with columns userId, movieId, p(z|u,s).\n",
        "  \"\"\"\n",
        "  res=p_z_knowing_u_and_s.groupBy(p_z_knowing_u_and_s.columns[1]).agg(\n",
        "          matrix_sum_columns(p_z_knowing_u_and_s.columns[2],n_latent_classes).alias(\"N(z,s)\")\n",
        "    )\n",
        "  return res \n",
        "\n",
        "get_count_z_s(p_z_knowing_u_and_s,3).show()"
      ]
    },
    {
      "attachments": {},
      "cell_type": "markdown",
      "metadata": {
        "id": "F8iYydurLr1V"
      },
      "source": [
        "* `p_s_knowing_z`: M rows, with columns  `movieId`, `p(s|z)`. For a given z, the sum of p(s|z) equals 1."
      ]
    },
    {
      "cell_type": "code",
      "execution_count": 31,
      "metadata": {
        "colab": {
          "base_uri": "https://localhost:8080/"
        },
        "id": "Y-hhH_jgLzaN",
        "outputId": "a5369c55-a9a4-480a-ebbe-7b4814b9a9e4"
      },
      "outputs": [
        {
          "name": "stdout",
          "output_type": "stream",
          "text": [
            "+-------+-----------------+\n",
            "|movieId|           P(s|z)|\n",
            "+-------+-----------------+\n",
            "|      1|[0.2, 0.375, 1.0]|\n",
            "|      2|[0.8, 0.625, 0.0]|\n",
            "+-------+-----------------+\n",
            "\n"
          ]
        }
      ],
      "source": [
        "def get_p_s_knowing_z(count_z_s, count_z, n_latent_classes):\n",
        "    \"\"\"Compute p(s|z) = N(z,s) / N(z)\n",
        "    Hint: crossJoin may help\n",
        "    \"\"\"\n",
        "    cross_joined_df=count_z_s.crossJoin(count_z)\n",
        "\n",
        "    res=cross_joined_df.select(cross_joined_df.columns[0],matrix_elementwise_divide(cross_joined_df.columns[1],cross_joined_df.columns[2],n_latent_classes).alias(\"P(s|z)\"))\n",
        "\n",
        "    return res\n",
        "\n",
        "get_p_s_knowing_z(count_z_s,get_count_z(count_z_s,3),3).show()"
      ]
    },
    {
      "attachments": {},
      "cell_type": "markdown",
      "metadata": {
        "id": "XSn2kcEBa2KI"
      },
      "source": [
        "* `p_z_knowing_u`: N rows, with columns `userId`, `p(z|u)`. For a given u, the sum of p(z|u) equals 1.\n",
        "\n",
        "$$\n",
        "p(z|u) = \\frac{\\sum_s p(z|(u, s))}{\\sum_z \\sum_s p(z|(u, s))}\n",
        "$$"
      ]
    },
    {
      "cell_type": "code",
      "execution_count": 32,
      "metadata": {
        "colab": {
          "base_uri": "https://localhost:8080/"
        },
        "id": "Jtp18PcMpf2x",
        "outputId": "5f937f7d-b93e-48eb-f3ab-9e3e7ffb2f09"
      },
      "outputs": [
        {
          "name": "stdout",
          "output_type": "stream",
          "text": [
            "+------+--------------------+\n",
            "|userId|              p(z|u)|\n",
            "+------+--------------------+\n",
            "|     1|[0.25, 0.6, 0.150...|\n",
            "|     2|   [0.25, 0.5, 0.25]|\n",
            "+------+--------------------+\n",
            "\n"
          ]
        }
      ],
      "source": [
        "def get_p_z_knowing_u(p_z_knowing_u_and_s,n_latent_classes):\n",
        "  numerateur = p_z_knowing_u_and_s.groupBy(\"userId\").agg(matrix_sum_columns(p_z_knowing_u_and_s.columns[2],n_latent_classes).alias(\"Numerateur\"))\n",
        "  normalisation = numerateur.select(\"userId\",matrix_normalize_rows(numerateur.columns[1],n_latent_classes).alias('p(z|u)'))\n",
        "  return normalisation\n",
        "  \n",
        "get_p_z_knowing_u(p_z_knowing_u_and_s, 3).show()"
      ]
    },
    {
      "attachments": {},
      "cell_type": "markdown",
      "metadata": {
        "id": "iJmFXalwuacy"
      },
      "source": [
        "$$\n",
        "p(z|(u_t, s_t)) = \\frac{p(s_t|z) p(z|u_t)}{\\sum_z p(s_t|z) p(z|u_t)}\n",
        "$$"
      ]
    },
    {
      "cell_type": "code",
      "execution_count": 33,
      "metadata": {
        "id": "L5Cjpa0INBmm"
      },
      "outputs": [],
      "source": [
        "from pyspark.sql.types import IntegerType,DoubleType\n",
        "def get_p_z_knowing_u_and_s(observed_pairs, count_z_s, count_z, p_z_knowing_u, n_latent_classes):\n",
        "    \"\"\"For all pairs of observed (u, s)    Compute p(z|u,s) = [N(z, s) / N(z) * p(z|u)] / sum_z [N(z, s) / N(z) * p(z|u)] = [p(s|z) * p(z|u)] / sum_z [p(s|z) * p(z|u)]    \"\"\"    \n",
        "    p_s_knowing_z = get_p_s_knowing_z(count_z_s, count_z, n_latent_classes)\n",
        "    schema = StructType([\n",
        "    StructField(\"userId\", IntegerType(), True),\n",
        "    StructField(\"movieId\", IntegerType(), True),\n",
        "    StructField(\"p(z|u,s)\", ArrayType(DoubleType()), True)])\n",
        "    result_df = spark.createDataFrame(data=[], schema=schema)\n",
        "    observed_pairs_recup =  observed_pairs.collect()\n",
        "    for elem in observed_pairs_recup:\n",
        "      u=elem[0]\n",
        "      s=elem[1]\n",
        "      value_p_s_knowing_z = p_s_knowing_z.filter(p_s_knowing_z.movieId == s).select('P(s|z)').first()[0]\n",
        "      value_p_z_knowing_u = p_z_knowing_u.filter(p_z_knowing_u.userId == u).select('p(z|u)').first()[0]\n",
        "      df1 = spark.createDataFrame([(u,s,value_p_s_knowing_z,value_p_z_knowing_u)], [\"userId\", \"movieId\",\"P(s|z)\",\"p(z|u)\"])\n",
        "      numerateur =df1.withColumn(\"numerateur\",matrix_elementwise_product(df1.columns[2],df1.columns[3], n_latent_classes))\n",
        "      num_sur_denom = numerateur.select(\"userId\",\"movieId\",matrix_normalize_rows(numerateur.columns[4],n_latent_classes).alias('p(z|u,s)'))\n",
        "      result_df = result_df.union(num_sur_denom)\n",
        "    return result_df"
      ]
    },
    {
      "attachments": {},
      "cell_type": "markdown",
      "metadata": {
        "id": "39CLWEaDDYFp"
      },
      "source": [
        "**T number of user, movie interactions (each interaction (s_t, u_t) means user u_t liked movie s_t)**\n",
        "$$\n",
        "L = - \\frac{1}{T} \\sum_{1}^{T} \\log p(s_t|u_t) = - \\frac{1}{T} \\sum_{1}^{T} \\sum_{z=1}^L p(s_t|z) p(z|u_t)\n",
        "$$"
      ]
    },
    {
      "cell_type": "code",
      "execution_count": 34,
      "metadata": {
        "id": "H3GJ6NqPDozJ"
      },
      "outputs": [],
      "source": [
        "def log_likelihood(observed_pairs,p_z_knowing_u,p_s_knowing_z,n_latent_classes):\n",
        "  \"\"\"Compute the log likelihood of the observed pairs\n",
        "  \"\"\" \n",
        "  from pyspark.sql.functions import mean \n",
        "\n",
        "  o=observed_pairs.join(p_z_knowing_u,on='userId',how=\"inner\")\\\n",
        "                    .join(p_s_knowing_z,on='movieId',how=\"inner\")\n",
        "\n",
        "                    \n",
        "  #p(s|z) * p(z|u) \n",
        "  o=o.withColumn(\"term\",matrix_elementwise_product(\n",
        "                                o.columns[3],\n",
        "                                o.columns[2],\n",
        "                                n_latent_classes))\n",
        "   \n",
        "  #somme de 1 à n_latent_classe de p(s_t,z)p(z,u_t) (somme sur les lignes) \n",
        "  o=o.withColumn(\"somme_z\",matrix_sum_rows(o.columns[4],n_latent_classes))\n",
        "  res=o.select(mean(\"somme_z\"))\n",
        "  res=(res.first()[0])*(-1)\n",
        "  return res"
      ]
    },
    {
      "attachments": {},
      "cell_type": "markdown",
      "metadata": {
        "id": "Nijud-oGw92q"
      },
      "source": [
        "### Initialisation random "
      ]
    },
    {
      "cell_type": "code",
      "execution_count": 35,
      "metadata": {
        "id": "W-x-AT8iL-TD"
      },
      "outputs": [],
      "source": [
        "def initialize_statistics(observed_pairs, n_latent_classes):\n",
        "    \"\"\"Initialize either p(s|z) and p(z|u) or p(z|(u, s)) to be able to fuel the first iteration of the EM algorithm.\n",
        "    What would happen if you initialize these to a constant value ?\n",
        "    \"\"\"\n",
        "    import random\n",
        "    from pyspark.sql.types import ArrayType, FloatType\n",
        "\n",
        "    def generate_random():\n",
        "      random_list=[random.random() for i in range(n_latent_classes)]\n",
        "      sum_of_random=sum(random_list)\n",
        "\n",
        "      return [float(i)/sum_of_random for i in random_list]\n",
        "\n",
        "    udf_generate_random=F.udf(generate_random,ArrayType(FloatType()))\n",
        "    res=observed_pairs.withColumn(\"p(z|u,s\",udf_generate_random())\n",
        "    return res"
      ]
    },
    {
      "attachments": {},
      "cell_type": "markdown",
      "metadata": {
        "id": "tCqi8xCDRYho"
      },
      "source": [
        "### So we've tried using a uniform initialization, but we observed that the LLH got the same value no matter how the number of iterations was taken"
      ]
    },
    {
      "attachments": {},
      "cell_type": "markdown",
      "metadata": {
        "id": "cyWFd-WOxAyd"
      },
      "source": [
        "### Initialisation uniforme"
      ]
    },
    {
      "cell_type": "code",
      "execution_count": 36,
      "metadata": {
        "id": "AQiwyBZVMAu-"
      },
      "outputs": [],
      "source": [
        "def run_plsi(observed_pairs, n_iterations, n_latent_classes, checkpoint_every=1):\n",
        "    start_init_time = time.time()\n",
        "    spark.sparkContext.setJobDescription(\"Initialization\")\n",
        "    p_z_knowing_u_and_s= initialize_statistics(observed_pairs, n_latent_classes)\n",
        "    count_z_s=get_count_z_s(p_z_knowing_u_and_s, n_latent_classes)\n",
        "    count_z=get_count_z(count_z_s, n_latent_classes)\n",
        "    p_s_knowing_z=get_p_s_knowing_z(count_z_s, count_z, n_latent_classes)\n",
        "    p_z_knowing_u=get_p_z_knowing_u(p_z_knowing_u_and_s,n_latent_classes)\n",
        "    llh = log_likelihood(observed_pairs,p_z_knowing_u,p_s_knowing_z,n_latent_classes)\n",
        "    mlflow.log_metric(key=\"llh\", value=llh, step=0)\n",
        "    print(f'LLH: {llh:.10f}')\n",
        "    end_init_time = time.time()\n",
        "    print(f'Initialization: {end_init_time - start_init_time:.1f}s')\n",
        "    for i in range(n_iterations):\n",
        "        start_e_step = time.time()\n",
        "        spark.sparkContext.setJobDescription(f\"Iteration {i+1}: E-step\")\n",
        "        # E step\n",
        "        p_z_knowing_u_and_s=get_p_z_knowing_u_and_s(observed_pairs, count_z_s, count_z, p_z_knowing_u, n_latent_classes)\n",
        "        end_e_step = time.time()\n",
        "        print(f'Iteration {i+1}: E-step: {end_e_step - start_e_step:.1f}s')\n",
        "        spark.sparkContext.setJobDescription(f\"Iteration {i+1}: M-step\")\n",
        "        # M step\n",
        "        # ...\n",
        "        count_z_s=get_count_z_s(p_z_knowing_u_and_s, n_latent_classes)\n",
        "        count_z=get_count_z(count_z_s, n_latent_classes)\n",
        "        p_s_knowing_z=get_p_s_knowing_z(count_z_s,count_z,n_latent_classes)\n",
        "        count_z_s.unpersist() #unpersist here\n",
        "        count_z.unpersist() #unpersist here\n",
        "        p_z_knowing_u=get_p_z_knowing_u(p_z_knowing_u_and_s,n_latent_classes)\n",
        "        p_z_knowing_u_and_s.unpersist()\n",
        "        llh = log_likelihood(observed_pairs,p_z_knowing_u,p_s_knowing_z,n_latent_classes)\n",
        "        p_s_knowing_z.unpersist() #unpersist here\n",
        "        p_z_knowing_u.unpersist() #unpersist here\n",
        "        mlflow.log_metric(key=\"llh\", value=llh, step=i+1)\n",
        "        end_m_step = time.time()\n",
        "        print(f'Iteration {i+1}: M-step: {end_m_step - end_e_step:.1f}s')\n",
        "        print(f'LLH: {llh:.10f}')\n",
        "    return get_p_s_knowing_z(count_z_s, count_z, n_latent_classes)"
      ]
    },
    {
      "cell_type": "code",
      "execution_count": 38,
      "metadata": {
        "colab": {
          "base_uri": "https://localhost:8080/"
        },
        "id": "er6q4Xm5Jj7W",
        "outputId": "307488d6-86b6-49fe-b773-de59aedbbea8"
      },
      "outputs": [
        {
          "name": "stdout",
          "output_type": "stream",
          "text": [
            "\u001b[2K     \u001b[90m━━━━━━━━━━━━━━━━━━━━━━━━━━━━━━━━━━━━━━━━\u001b[0m \u001b[32m16.7/16.7 MB\u001b[0m \u001b[31m67.6 MB/s\u001b[0m eta \u001b[36m0:00:00\u001b[0m\n",
            "\u001b[2K     \u001b[90m━━━━━━━━━━━━━━━━━━━━━━━━━━━━━━━━━━━━━━\u001b[0m \u001b[32m184.0/184.0 KB\u001b[0m \u001b[31m17.7 MB/s\u001b[0m eta \u001b[36m0:00:00\u001b[0m\n",
            "\u001b[2K     \u001b[90m━━━━━━━━━━━━━━━━━━━━━━━━━━━━━━━━━━━━━━━━\u001b[0m \u001b[32m42.6/42.6 KB\u001b[0m \u001b[31m5.4 MB/s\u001b[0m eta \u001b[36m0:00:00\u001b[0m\n",
            "\u001b[2K     \u001b[90m━━━━━━━━━━━━━━━━━━━━━━━━━━━━━━━━━━━━━━\u001b[0m \u001b[32m575.9/575.9 KB\u001b[0m \u001b[31m45.3 MB/s\u001b[0m eta \u001b[36m0:00:00\u001b[0m\n",
            "\u001b[2K     \u001b[90m━━━━━━━━━━━━━━━━━━━━━━━━━━━━━━━━━━━━━━\u001b[0m \u001b[32m147.5/147.5 KB\u001b[0m \u001b[31m16.6 MB/s\u001b[0m eta \u001b[36m0:00:00\u001b[0m\n",
            "\u001b[2K     \u001b[90m━━━━━━━━━━━━━━━━━━━━━━━━━━━━━━━━━━━━━━━━\u001b[0m \u001b[32m79.5/79.5 KB\u001b[0m \u001b[31m9.6 MB/s\u001b[0m eta \u001b[36m0:00:00\u001b[0m\n",
            "\u001b[2K     \u001b[90m━━━━━━━━━━━━━━━━━━━━━━━━━━━━━━━━━━━━━━\u001b[0m \u001b[32m210.6/210.6 KB\u001b[0m \u001b[31m22.6 MB/s\u001b[0m eta \u001b[36m0:00:00\u001b[0m\n",
            "\u001b[2K     \u001b[90m━━━━━━━━━━━━━━━━━━━━━━━━━━━━━━━━━━━━━━━━\u001b[0m \u001b[32m82.3/82.3 KB\u001b[0m \u001b[31m11.3 MB/s\u001b[0m eta \u001b[36m0:00:00\u001b[0m\n",
            "\u001b[?25h  Preparing metadata (setup.py) ... \u001b[?25l\u001b[?25hdone\n",
            "\u001b[2K     \u001b[90m━━━━━━━━━━━━━━━━━━━━━━━━━━━━━━━━━━━━━━━━\u001b[0m \u001b[32m1.6/1.6 MB\u001b[0m \u001b[31m74.4 MB/s\u001b[0m eta \u001b[36m0:00:00\u001b[0m\n",
            "\u001b[2K     \u001b[90m━━━━━━━━━━━━━━━━━━━━━━━━━━━━━━━━━━━━━━━━\u001b[0m \u001b[32m78.7/78.7 KB\u001b[0m \u001b[31m9.9 MB/s\u001b[0m eta \u001b[36m0:00:00\u001b[0m\n",
            "\u001b[2K     \u001b[90m━━━━━━━━━━━━━━━━━━━━━━━━━━━━━━━━━━━━━━━━\u001b[0m \u001b[32m55.9/55.9 KB\u001b[0m \u001b[31m7.0 MB/s\u001b[0m eta \u001b[36m0:00:00\u001b[0m\n",
            "\u001b[2K     \u001b[90m━━━━━━━━━━━━━━━━━━━━━━━━━━━━━━━━━━━━━━━━\u001b[0m \u001b[32m62.8/62.8 KB\u001b[0m \u001b[31m7.4 MB/s\u001b[0m eta \u001b[36m0:00:00\u001b[0m\n",
            "\u001b[2K     \u001b[90m━━━━━━━━━━━━━━━━━━━━━━━━━━━━━━━━━━━━━━\u001b[0m \u001b[32m140.6/140.6 KB\u001b[0m \u001b[31m15.2 MB/s\u001b[0m eta \u001b[36m0:00:00\u001b[0m\n",
            "\u001b[2K     \u001b[90m━━━━━━━━━━━━━━━━━━━━━━━━━━━━━━━━━━━━━━━━\u001b[0m \u001b[32m62.7/62.7 KB\u001b[0m \u001b[31m8.0 MB/s\u001b[0m eta \u001b[36m0:00:00\u001b[0m\n",
            "\u001b[?25h  Building wheel for databricks-cli (setup.py) ... \u001b[?25l\u001b[?25hdone\n"
          ]
        }
      ],
      "source": [
        "!pip install -q mlflow"
      ]
    },
    {
      "cell_type": "code",
      "execution_count": 39,
      "metadata": {
        "id": "dV0zwPSlJkqk"
      },
      "outputs": [],
      "source": [
        "import mlflow\n",
        "import time "
      ]
    },
    {
      "cell_type": "code",
      "execution_count": 62,
      "metadata": {
        "colab": {
          "base_uri": "https://localhost:8080/"
        },
        "id": "cpBo-j0dMGIs",
        "outputId": "b6718b22-2067-40f7-cbf5-0e6e328bb7fd"
      },
      "outputs": [
        {
          "name": "stdout",
          "output_type": "stream",
          "text": [
            "+------+-------+\n",
            "|userId|movieId|\n",
            "+------+-------+\n",
            "|     1|      1|\n",
            "|     2|      2|\n",
            "|     3|      1|\n",
            "|     1|      2|\n",
            "|     2|      1|\n",
            "+------+-------+\n",
            "\n",
            "LLH: -0.4958251932\n",
            "Initialization: 1.1s\n",
            "Iteration 1: E-step: 3.4s\n",
            "Iteration 1: M-step: 1.4s\n",
            "LLH: -0.5199719455\n",
            "Iteration 2: E-step: 7.1s\n",
            "Iteration 2: M-step: 1.5s\n",
            "LLH: -0.5330855515\n",
            "Iteration 3: E-step: 7.4s\n",
            "Iteration 3: M-step: 1.4s\n",
            "LLH: -0.5447596517\n",
            "Iteration 4: E-step: 8.6s\n",
            "Iteration 4: M-step: 2.0s\n",
            "LLH: -0.5564174211\n",
            "Iteration 5: E-step: 7.2s\n",
            "Iteration 5: M-step: 1.5s\n",
            "LLH: -0.5674935870\n",
            "Iteration 6: E-step: 7.0s\n",
            "Iteration 6: M-step: 1.5s\n",
            "LLH: -0.5770397636\n",
            "Iteration 7: E-step: 7.5s\n",
            "Iteration 7: M-step: 1.6s\n",
            "LLH: -0.5845140848\n",
            "Iteration 8: E-step: 7.1s\n",
            "Iteration 8: M-step: 1.4s\n",
            "LLH: -0.5899066389\n",
            "Iteration 9: E-step: 7.3s\n",
            "Iteration 9: M-step: 1.5s\n",
            "LLH: -0.5935557320\n",
            "Iteration 10: E-step: 7.4s\n",
            "Iteration 10: M-step: 1.5s\n",
            "LLH: -0.5959172875\n",
            "Iteration 11: E-step: 7.4s\n",
            "Iteration 11: M-step: 1.9s\n",
            "LLH: -0.5974065618\n",
            "Iteration 12: E-step: 7.3s\n",
            "Iteration 12: M-step: 1.5s\n",
            "LLH: -0.5983362723\n",
            "Iteration 13: E-step: 7.0s\n",
            "Iteration 13: M-step: 1.4s\n",
            "LLH: -0.5989176442\n",
            "Iteration 14: E-step: 8.3s\n",
            "Iteration 14: M-step: 1.6s\n",
            "LLH: -0.5992847501\n",
            "Iteration 15: E-step: 8.4s\n",
            "Iteration 15: M-step: 1.7s\n",
            "LLH: -0.5995199583\n",
            "Iteration 16: E-step: 7.6s\n",
            "Iteration 16: M-step: 1.6s\n",
            "LLH: -0.5996732086\n",
            "Iteration 17: E-step: 7.7s\n",
            "Iteration 17: M-step: 1.8s\n",
            "LLH: -0.5997747756\n",
            "Iteration 18: E-step: 7.5s\n",
            "Iteration 18: M-step: 1.7s\n",
            "LLH: -0.5998431737\n",
            "Iteration 19: E-step: 8.0s\n",
            "Iteration 19: M-step: 1.6s\n",
            "LLH: -0.5998898908\n",
            "Iteration 20: E-step: 8.2s\n",
            "Iteration 20: M-step: 2.1s\n",
            "LLH: -0.5999221837\n"
          ]
        }
      ],
      "source": [
        "n_iterations = 20\n",
        "n_latent_classes = 3\n",
        "observed_pairs = spark.createDataFrame([(1, 1), (2, 2), (3, 1), (1, 2), (2, 1)],\n",
        "                                        [\"userId\", \"movieId\"])\n",
        "observed_pairs.show()\n",
        "with mlflow.start_run():\n",
        "    mlflow.log_param(\"n_iterations\", n_iterations)\n",
        "    mlflow.log_param(\"n_latent_classes\", n_latent_classes)\n",
        "    run_plsi(observed_pairs, n_iterations=n_iterations, n_latent_classes=n_latent_classes)"
      ]
    },
    {
      "attachments": {},
      "cell_type": "markdown",
      "metadata": {
        "id": "oCfo1Q8VKHCl"
      },
      "source": [
        "### Question\n",
        "\n",
        "Try to improve the algorithm technical performance\n",
        "1. How does the EM algorithm is supposed to scale with the number of EM steps ? Do you observe such a scaling ?\n",
        "2. If each steap takes longer than the previous one: Try using .cache() wisely.\n",
        "3. Try to unpersist your dataframes when they become unneeded (look at the Storage tab in the Spark UI) (Optional + 2pts)\n",
        "4. If after few steps (typically 5), your algorithm starts being much slower and spend more and more time scheduling jobs (look in the Spark UI), try using [.localCheckpoint()](https://spark.apache.org/docs/2.1.0/api/python/pyspark.html#pyspark.RDD.localCheckpoint). How does it differ from caching ? What are the benefits and the drawbacks ?"
      ]
    },
    {
      "attachments": {},
      "cell_type": "markdown",
      "metadata": {
        "id": "lmXW_Li3J2gH"
      },
      "source": [
        "\n",
        "\n",
        "1.  **In terms of complexity: The time complexity of this algorithm must be of \n",
        "the order of O(I*T) with I the number of iterations and T the time needed to perform each iteration. Thus, as the number of iterations increases, the complexity of the algorithm increases.\n",
        "In terms of performance: The E step of the algorithm calculates the expectations of the latent variables given the current parameters. The M step uses these calculated expectations to optimize the model parameters. Thus, as the number of iterations increases, the algorithm optimizes the parameters that maximize the likelihood function.\n",
        "We observe these two phenomena by running for different numbers of iterations. Thus, increasing the number of iterations allows to have a more precise solution but for a much longer execution time.**\n",
        "\n",
        "2. **In our case, each steap doesn't take longer than the previous one, so we don't need to use .cache()**\n",
        "\n",
        "3. **For the third question, we have applied unpersist() in the foor loop for the following dataframes: count_z_s, count_z, p_z_knowing_u_and_s, p_s_knowing_z\n",
        "and p_z_knowing_u after being used/ called and no longer needed inside the iteration.**\n",
        "\n",
        "4. **In our case, the algorithm doesn't start to be slower and do not spend more time scheduling jobs, as you can see, the execution's time doesn't vary meaning that we don't have any problem with that.** \n"
      ]
    },
    {
      "attachments": {},
      "cell_type": "markdown",
      "metadata": {
        "id": "UbstFMhYnpSk"
      },
      "source": [
        "# Part D - Test them all\n",
        "In this section, we create training and test datasets, and test all the different prediction algorithms described above.\n",
        "\n"
      ]
    },
    {
      "attachments": {},
      "cell_type": "markdown",
      "metadata": {
        "id": "engmZXePsEfv"
      },
      "source": [
        "## Training and Testing datasets"
      ]
    },
    {
      "attachments": {},
      "cell_type": "markdown",
      "metadata": {
        "id": "XIxB2g3QsKGC"
      },
      "source": [
        "### Question\n",
        "Create the training dataset named *training_df*. It is made of raw ratings dataframe, where:\n",
        "- *hash(userId) % 2 == 0*\n",
        "- and *rating >= 3.5*\n",
        "\n",
        "You should rely on functions written in Part A.\n",
        "\n",
        "Persist it on disk."
      ]
    },
    {
      "cell_type": "code",
      "execution_count": 40,
      "metadata": {
        "colab": {
          "base_uri": "https://localhost:8080/"
        },
        "id": "ndUZC89Ms3YT",
        "outputId": "2aacb0a5-93eb-4aa1-cd9d-ee34c7209ee9"
      },
      "outputs": [
        {
          "name": "stdout",
          "output_type": "stream",
          "text": [
            "6089805\n",
            "+------+-------+------+---------+\n",
            "|userId|movieId|rating|timestamp|\n",
            "+------+-------+------+---------+\n",
            "|     2|      3|   4.0|974820889|\n",
            "|     2|     62|   5.0|974820598|\n",
            "|     2|     70|   5.0|974820691|\n",
            "+------+-------+------+---------+\n",
            "only showing top 3 rows\n",
            "\n"
          ]
        }
      ],
      "source": [
        "rating_filtered_df=remove_bad_ratings(ratings_df, rating_threshold = 3.5)\n",
        "training_df=rating_filtered_df.filter(hash(col(\"userId\"))%2==0)\n",
        "training_df.persist(StorageLevel.DISK_ONLY)\n",
        "print(training_df.count())\n",
        "training_df.show(3)"
      ]
    },
    {
      "attachments": {},
      "cell_type": "markdown",
      "metadata": {
        "id": "iK43OefMszyg"
      },
      "source": [
        "### Question\n",
        "Create a function named *create_test_df*, that creates a test dataset from a ratings dataframe ; it only retain the following records:\n",
        "- hash(userId) % 2 == 1\n",
        "- rating >= 3.5\n",
        "\n",
        "Also, the function returns a dataframe structured like this:\n",
        "- movies : list[integer] (all the movies in the user timeline minus the *K* most recent ones)\n",
        "- label : list[integer] (all the *K* most recent movies in user timeline)\n",
        "\n",
        "*K* is parameter whose default value is 5.\n",
        "\n",
        "Test the test dataset creation on a toy example.\n",
        "\n",
        "Create the real test dataset from the whole movieLense dataset. Name it *test_df*. Persist it on disk."
      ]
    },
    {
      "cell_type": "code",
      "execution_count": 87,
      "metadata": {
        "colab": {
          "base_uri": "https://localhost:8080/"
        },
        "id": "XRM_Nm0Aw90L",
        "outputId": "2280e5fe-9097-4bf7-9b5f-e84dd31ee4f6"
      },
      "outputs": [
        {
          "name": "stdout",
          "output_type": "stream",
          "text": [
            "34662\n",
            "+------+----------------------------------------+------------------------------------------------------------------------------------------------------------------------------------------------------------------------------------------------------------------------------------------------------------------------------------------------------------------------------------------------------------------------------------------------------------------------------------------------------------------------------------------------------------------------------------------------------------------------------------------------------------------------------------------------------------------------------------------------------------------------------------------------------------------------------------------------------------------------------------------------------------------------------------------------------------------------------------------------------------------------------------------------------------------------------------------------------------------------------------------------------------------------------------------------------------------------------------------------------------------------------------------------------------------------------------------------------------------------------------------------------------------------------------------------------------------------------------------------------------------------------------------------------------------------------------------------------------------------------------------------------------------------------------------------------------------------------------------------------------------------------------------------------------------------------------------------------------------------------------------------------------------------------------------------------------------------------------------------------------------------------------------------------------------------------------------------------------+\n",
            "|userId|labels                                  |movies                                                                                                                                                                                                                                                                                                                                                                                                                                                                                                                                                                                                                                                                                                                                                                                                                                                                                                                                                                                                                                                                                                                                                                                                                                                                                                                                                                                                                                                                                                                                                                                                                                                                                                                                                                                                                                                                                                                                                                                                                                                      |\n",
            "+------+----------------------------------------+------------------------------------------------------------------------------------------------------------------------------------------------------------------------------------------------------------------------------------------------------------------------------------------------------------------------------------------------------------------------------------------------------------------------------------------------------------------------------------------------------------------------------------------------------------------------------------------------------------------------------------------------------------------------------------------------------------------------------------------------------------------------------------------------------------------------------------------------------------------------------------------------------------------------------------------------------------------------------------------------------------------------------------------------------------------------------------------------------------------------------------------------------------------------------------------------------------------------------------------------------------------------------------------------------------------------------------------------------------------------------------------------------------------------------------------------------------------------------------------------------------------------------------------------------------------------------------------------------------------------------------------------------------------------------------------------------------------------------------------------------------------------------------------------------------------------------------------------------------------------------------------------------------------------------------------------------------------------------------------------------------------------------------------------------------+\n",
            "|16    |[1753, 1923, 1500, 1580, 39]            |[122, 356, 550, 587, 916, 934, 1197, 1265, 1380, 2144, 2248, 2406, 2470, 2716, 2791, 2924, 3210, 3461, 3548, 3760, 3868, 4066, 4085, 4089]                                                                                                                                                                                                                                                                                                                                                                                                                                                                                                                                                                                                                                                                                                                                                                                                                                                                                                                                                                                                                                                                                                                                                                                                                                                                                                                                                                                                                                                                                                                                                                                                                                                                                                                                                                                                                                                                                                                  |\n",
            "|40    |[3536, 3578, 2571, 2710, 2762]          |[111, 246, 348, 352, 441, 1060, 1211, 1248, 1260, 1304, 1354, 1625, 1682, 1704, 1747, 1840, 1892, 1961, 2076, 2289, 2294, 2324, 2329, 2353, 2396, 2908, 2959, 3006, 3246, 3543]                                                                                                                                                                                                                                                                                                                                                                                                                                                                                                                                                                                                                                                                                                                                                                                                                                                                                                                                                                                                                                                                                                                                                                                                                                                                                                                                                                                                                                                                                                                                                                                                                                                                                                                                                                                                                                                                             |\n",
            "|44    |[5464, 5816, 4993, 4995, 720]           |[260, 296, 349, 595, 858, 904, 908, 920, 953, 1035, 1136, 1172, 1197, 1198, 1201, 1208, 1259, 1961, 2115, 2401, 3421, 3678, 3764, 4534, 4790]                                                                                                                                                                                                                                                                                                                                                                                                                                                                                                                                                                                                                                                                                                                                                                                                                                                                                                                                                                                                                                                                                                                                                                                                                                                                                                                                                                                                                                                                                                                                                                                                                                                                                                                                                                                                                                                                                                               |\n",
            "|48    |[94, 608, 720, 800, 852]                |[6, 17, 25, 43, 47, 50, 52, 62, 110, 111, 144, 151, 232, 246, 247, 249, 260, 272, 296, 318, 319, 326, 357, 369, 373, 412, 428, 431, 468, 497, 515, 527, 529, 590, 593, 750, 858, 919, 923, 924, 1035, 1073, 1077, 1079, 1089, 1090, 1094, 1097, 1103, 1136, 1150, 1161, 1172, 1183, 1193, 1197, 1198, 1208, 1211, 1213, 1221, 1224, 1225, 1233, 1246, 1250]                                                                                                                                                                                                                                                                                                                                                                                                                                                                                                                                                                                                                                                                                                                                                                                                                                                                                                                                                                                                                                                                                                                                                                                                                                                                                                                                                                                                                                                                                                                                                                                                                                                                                                 |\n",
            "|53    |[2682, 2858, 1682, 1914, 2272]          |[1, 21, 29, 32, 41, 50, 58, 100, 114, 124, 149, 162, 175, 213, 229, 230, 232, 263, 309, 326, 334, 337, 342, 345, 385, 446, 472, 488, 515, 527, 535, 549, 562, 570, 573, 583, 601, 608, 678, 705, 720, 722, 778, 800, 806, 837, 850, 858, 904, 913, 923, 924, 969, 991, 994, 1041, 1050, 1058, 1077, 1084, 1094, 1095, 1096, 1097, 1114, 1172, 1175, 1179, 1183, 1185, 1187, 1189, 1192, 1193, 1203, 1207, 1208, 1217, 1219, 1221, 1225, 1233, 1234, 1244, 1245, 1247, 1251, 1271, 1273, 1276, 1279, 1296, 1299, 1300, 1305, 1333, 1354, 1366, 1394, 1446, 1480, 1486, 1511, 1533, 1537, 1542, 1545, 1580, 1594, 1611, 1617, 1635, 1641, 1649, 1660, 1694, 1701, 1711, 1719, 1734, 1747, 1788, 1834, 1846, 1860, 1871, 1904, 1913, 1945, 1952, 1953, 1962, 2009, 2065, 2069, 2132, 2243, 2323, 2324, 2357, 2391, 2396, 2400, 2439, 2481, 2489, 2732, 2931, 2938, 2943]                                                                                                                                                                                                                                                                                                                                                                                                                                                                                                                                                                                                                                                                                                                                                                                                                                                                                                                                                                                                                                                                                                                                                                                       |\n",
            "|54    |[3354, 3578, 3623, 3751, 3784]          |[1, 10, 11, 32, 36, 47, 50, 52, 70, 89, 110, 153, 161, 163, 165, 196, 223, 225, 260, 292, 296, 303, 318, 329, 339, 349, 356, 367, 377, 379, 380, 440, 442, 454, 457, 474, 479, 480, 494, 527, 539, 543, 552, 581, 587, 589, 590, 592, 593, 608, 733, 736, 748, 780, 786, 799, 832, 858, 861, 866, 968, 1017, 1036, 1077, 1079, 1082, 1084, 1089, 1090, 1097, 1101, 1120, 1124, 1127, 1128, 1130, 1136, 1186, 1196, 1197, 1198, 1200, 1201, 1203, 1204, 1207, 1214, 1215, 1219, 1221, 1234, 1240, 1242, 1247, 1252, 1259, 1267, 1270, 1275, 1278, 1286, 1288, 1291, 1302, 1304, 1307, 1320, 1321, 1333, 1343, 1345, 1347, 1356, 1358, 1361, 1370, 1371, 1372, 1374, 1375, 1376, 1377, 1385, 1387, 1393, 1395, 1396, 1408, 1438, 1485, 1517, 1518, 1527, 1566, 1573, 1580, 1584, 1587, 1603, 1608, 1616, 1617, 1620, 1625, 1641, 1643, 1674, 1676, 1701, 1722, 1729, 1754, 1801, 1831, 1876, 1883, 1892, 1909, 1917, 1923, 1952, 1954, 1955, 1963, 1991, 1994, 1997, 2001, 2003, 2005, 2006, 2011, 2012, 2013, 2015, 2028, 2054, 2056, 2071, 2094, 2100, 2110, 2115, 2118, 2124, 2132, 2133, 2144, 2160, 2161, 2163, 2174, 2194, 2245, 2264, 2288, 2300, 2321, 2336, 2346, 2352, 2355, 2367, 2391, 2393, 2401, 2406, 2407, 2409, 2410, 2419, 2420, 2421, 2428, 2455, 2457, 2463, 2467, 2469, 2470, 2520, 2524, 2527, 2528, 2529, 2571, 2617, 2640, 2641, 2643, 2659, 2668, 2671, 2683, 2699, 2707, 2728, 2762, 2779, 2787, 2791, 2795, 2797, 2803, 2804, 2819, 2857, 2858, 2863, 2871, 2872, 2877, 2881, 2890, 2915, 2916, 2917, 2918, 2942, 2944, 2946, 2947, 2948, 2949, 2968, 2985, 2987, 2990, 2991, 2993, 2997, 3005, 3006, 3016, 3029, 3037, 3039, 3068, 3098, 3101, 3102, 3114, 3147, 3175, 3178, 3194, 3203, 3219, 3244, 3247, 3253, 3255, 3296, 3361, 3362, 3363, 3384, 3386, 3420, 3421, 3448, 3451, 3469, 3471, 3479, 3505, 3507, 3508, 3524, 3526, 3527, 3551, 3552, 3591, 3634, 3671, 3685, 3697, 3699, 3701, 3712, 3724, 3727, 3733, 3740, 3760, 3763, 3769, 3771, 3793, 3812, 3827, 3836, 3868, 3869, 3927, 3952, 3959, 4002, 4005, 4007, 5060]|\n",
            "|64    |[736, 47, 110, 150, 153]                |[168, 185, 253, 288, 292, 316, 318, 329, 339, 349, 356, 364, 377, 454, 457, 480, 527, 588, 589, 590, 592, 595]                                                                                                                                                                                                                                                                                                                                                                                                                                                                                                                                                                                                                                                                                                                                                                                                                                                                                                                                                                                                                                                                                                                                                                                                                                                                                                                                                                                                                                                                                                                                                                                                                                                                                                                                                                                                                                                                                                                                              |\n",
            "|78    |[3578, 2628, 3241, 1527, 1580]          |[29, 170, 198, 260, 480, 508, 541, 589, 653, 1073, 1097, 1127, 1129, 1196, 1199, 1206, 1210, 1250, 1291, 1375, 1676, 2087, 2193, 2291, 2822, 2916]                                                                                                                                                                                                                                                                                                                                                                                                                                                                                                                                                                                                                                                                                                                                                                                                                                                                                                                                                                                                                                                                                                                                                                                                                                                                                                                                                                                                                                                                                                                                                                                                                                                                                                                                                                                                                                                                                                          |\n",
            "|81    |[3717, 3755, 3825, 2571, 2028]          |[356, 480, 593, 780, 920, 1090, 1208, 1222, 1250, 1262, 1272, 1586, 2268, 2402, 2815, 3101, 3441]                                                                                                                                                                                                                                                                                                                                                                                                                                                                                                                                                                                                                                                                                                                                                                                                                                                                                                                                                                                                                                                                                                                                                                                                                                                                                                                                                                                                                                                                                                                                                                                                                                                                                                                                                                                                                                                                                                                                                           |\n",
            "|94    |[8908, 8957, 8961, 8970, 27808]         |[150, 266, 903, 1250, 1276, 1722, 2006, 2353, 3147, 4886, 5349]                                                                                                                                                                                                                                                                                                                                                                                                                                                                                                                                                                                                                                                                                                                                                                                                                                                                                                                                                                                                                                                                                                                                                                                                                                                                                                                                                                                                                                                                                                                                                                                                                                                                                                                                                                                                                                                                                                                                                                                             |\n",
            "|96    |[108932, 109374, 110553, 111362, 111759]|[1, 3, 29, 32, 47, 260, 262, 293, 296, 318, 356, 457, 480, 527, 541, 551, 586, 588, 590, 593, 741, 910, 912, 923, 1025, 1028, 1196, 1197, 1198, 1210, 1214, 1234, 1265, 1270, 1291, 1304, 1378, 1396, 1584, 1597, 1610, 1617, 1653, 1682, 1732, 1884, 2005, 2011, 2012, 2028, 2048, 2052, 2089, 2094, 2139, 2141, 2329, 2423, 2424, 2501, 2502, 2542, 2571, 2716, 2762, 2804, 2949, 2959, 3000, 3034, 3100, 3114, 3147, 3156, 3275, 3578, 3793, 3948, 3996, 4011, 4025, 4027, 4090, 4161, 4226, 4306, 4677, 4776, 4878, 4886, 4901, 4963, 4973, 4979, 4993, 5110, 5265, 5418, 5445, 5618, 5782, 5945, 5952, 5989, 6016, 6218, 6333, 6377, 6378, 6539, 6617, 6708, 6711, 6753, 6754, 6863, 6874, 6942, 6947, 7143, 7147, 7153, 7361, 7373, 7438, 7451, 8368, 8464, 8644, 8665, 8784, 8798, 8807, 8873, 8874, 8914, 8949, 8950, 8961, 8972, 8983, 8984, 27611, 27831, 30707, 31658, 31878, 32587, 32596, 33004, 33166, 33493, 33794, 34162, 34405, 35836, 36517, 36529, 38061, 40815, 41566, 41997, 44191, 44195, 44555, 44665, 44761, 45517, 46578, 48043, 48394, 48516, 48774, 48780, 49272, 49530, 50872, 51255, 51662, 52042, 53129, 53956, 54001, 54259, 54286, 54503, 54997, 55118, 55247, 55276, 55290, 55363, 55442, 55820, 55830, 57640, 57669, 58295, 58559, 58808, 58998, 59018, 59315, 59784, 60069, 60684, 62849, 64614, 64839, 66934, 67255, 68237, 68358, 68954, 69122, 69481, 69844, 70286, 71264, 71535, 72737, 72998, 73017, 73023, 73323, 74458, 74510, 76093, 77561, 79091, 79132, 80549, 80839, 81562, 81834, 81847, 81932, 82459, 84392, 84944, 85414, 86833, 88125, 88129, 88163, 88810, 89745, 90249, 91500, 91529, 91630, 91658, 93287, 94070, 94896, 96079, 96610, 96821, 97304, 97752, 97913, 97921, 97938, 98154, 99114, 102125, 102194, 102903, 103253, 104841, 106100, 106487, 106696, 106918, 112623, 112852, 115617]                                                                                                                                                                                                          |\n",
            "|103   |[6006, 6188, 6213, 6333, 6365]          |[7, 252, 852, 902, 915, 1088, 1246, 1258, 1500, 1517, 1682, 1917, 2291, 2355, 2572, 2599, 2706, 3225, 3481, 3512, 3534, 3554, 3565, 3743, 3751, 3784, 3785, 3882, 3885, 3897, 3977, 4014, 4018, 4023, 4025, 4031, 4054, 4069, 4141, 4153, 4228, 4232, 4246, 4310, 4368, 4372, 4386, 4447, 4700, 4718, 4728, 4771, 4823, 4844, 4867, 4886, 4900, 4963, 4974, 4990, 4992, 4994, 4995, 5013, 5014, 5066, 5151, 5152, 5218, 5284, 5299, 5380, 5415, 5449, 5481, 5524, 5610, 5620, 5804, 5900, 5941, 5943, 6143, 6366, 6367, 6377, 6405, 6481]                                                                                                                                                                                                                                                                                                                                                                                                                                                                                                                                                                                                                                                                                                                                                                                                                                                                                                                                                                                                                                                                                                                                                                                                                                                                                                                                                                                                                                                                                                                   |\n",
            "|112   |[7361, 7438, 8464, 8636, 8784]          |[36, 47, 50, 235, 296, 318, 321, 337, 457, 475, 497, 509, 527, 593, 608, 708, 750, 904, 1136, 1197, 1203, 1219, 1225, 1246, 1276, 1285, 1358, 1394, 1449, 1500, 1610, 1682, 1704, 1784, 1897, 1923, 1968, 2028, 2324, 2396, 2501, 2502, 2571, 2692, 2762, 2788, 2858, 2997, 3105, 3148, 3160, 3448, 3499, 3911, 3949, 3996, 4027, 4226, 4465, 4720, 4878, 4973, 5377, 5902, 6104, 6125, 6385, 6427, 6711, 6807, 6870, 6874, 6953, 6954, 7153, 8291, 8582, 8910, 8983]                                                                                                                                                                                                                                                                                                                                                                                                                                                                                                                                                                                                                                                                                                                                                                                                                                                                                                                                                                                                                                                                                                                                                                                                                                                                                                                                                                                                                                                                                                                                                                                       |\n",
            "|117   |[1432, 1461, 1485, 1500, 494]           |[3, 5, 296, 315, 361, 377, 380, 423, 427, 434, 454, 455, 480, 500, 539, 590, 597, 647, 694, 733, 736, 786, 805, 832, 858, 920, 934, 1012, 1013, 1017, 1035, 1036, 1088, 1097, 1101, 1124, 1183, 1207, 1234, 1247, 1250, 1304, 1380, 1387, 1393]                                                                                                                                                                                                                                                                                                                                                                                                                                                                                                                                                                                                                                                                                                                                                                                                                                                                                                                                                                                                                                                                                                                                                                                                                                                                                                                                                                                                                                                                                                                                                                                                                                                                                                                                                                                                             |\n",
            "|127   |[95, 140, 494, 628, 736]                |[5, 9, 10, 22, 31, 47, 50, 110, 150, 153, 161, 165, 168, 204, 225, 253, 257, 292, 317, 318, 329, 353, 356, 364, 377, 380, 434, 457, 474, 480, 490, 500, 524, 544, 587, 588, 589, 590, 592, 595, 597, 709, 780, 786, 805, 1073]                                                                                                                                                                                                                                                                                                                                                                                                                                                                                                                                                                                                                                                                                                                                                                                                                                                                                                                                                                                                                                                                                                                                                                                                                                                                                                                                                                                                                                                                                                                                                                                                                                                                                                                                                                                                                              |\n",
            "|139   |[4069, 4148, 4161, 4239, 4299]          |[231, 762, 4011, 4014, 4020, 4226]                                                                                                                                                                                                                                                                                                                                                                                                                                                                                                                                                                                                                                                                                                                                                                                                                                                                                                                                                                                                                                                                                                                                                                                                                                                                                                                                                                                                                                                                                                                                                                                                                                                                                                                                                                                                                                                                                                                                                                                                                          |\n",
            "|146   |[150, 185, 292, 339, 316]               |[434, 588, 590, 592]                                                                                                                                                                                                                                                                                                                                                                                                                                                                                                                                                                                                                                                                                                                                                                                                                                                                                                                                                                                                                                                                                                                                                                                                                                                                                                                                                                                                                                                                                                                                                                                                                                                                                                                                                                                                                                                                                                                                                                                                                                        |\n",
            "|154   |[27904, 44191, 44195, 44199, 44665]     |[6, 10, 21, 47, 50, 111, 150, 163, 215, 223, 231, 235, 260, 296, 356, 380, 457, 474, 527, 608, 628, 648, 733, 750, 778, 858, 904, 908, 912, 924, 1060, 1073, 1086, 1089, 1095, 1097, 1136, 1197, 1213, 1221, 1230, 1265, 1288, 1387, 1449, 1485, 1552, 1608, 1639, 1653, 1682, 1704, 1721, 1729, 1732, 1923, 2028, 2064, 2231, 2278, 2329, 2353, 2395, 2501, 2502, 2542, 2571, 2605, 2692, 2700, 2706, 2858, 2918, 2959, 3039, 3052, 3147, 3160, 3176, 3267, 3421, 3424, 3578, 3623, 3717, 3730, 3752, 3897, 3911, 3949, 4011, 4027, 4034, 4226, 4344, 4641, 4728, 4878, 4963, 4979, 5010, 5110, 5225, 5349, 5388, 5445, 5669, 5673, 5902, 5954, 6016, 6188, 6365, 6502, 6552, 6711, 6867, 6870, 6874, 6957, 7137, 7361, 7438, 7445, 7587, 8464, 8495, 8636, 8638, 8645, 8784, 8798, 8807, 8873, 8874, 8910, 8917, 8950, 8957, 8983, 27266, 27408, 27773, 27831, 30707, 30810, 31878, 32587, 33166, 33437, 33493, 33794, 34162, 34437, 35836, 35957, 38061, 39446, 40583, 41716, 41997, 42632, 45186, 45728, 46965, 46967, 47640, 48322, 48385, 48394, 48516, 48774, 49272, 49772]                                                                                                                                                                                                                                                                                                                                                                                                                                                                                                                                                                                                                                                                                                                                                                                                                                                                                                                                                                          |\n",
            "|178   |[2436, 2359, 1747, 830, 1537]           |[7, 356, 594, 898, 899, 904, 906, 913, 914, 918, 919, 926, 1028, 1035, 1086, 1088, 1212, 1264, 1282, 1304, 1947, 1950, 1951, 2206, 2243, 2302, 2312, 2565, 2795, 2918, 2941, 2967, 3061, 3097, 3341, 3469, 5060]                                                                                                                                                                                                                                                                                                                                                                                                                                                                                                                                                                                                                                                                                                                                                                                                                                                                                                                                                                                                                                                                                                                                                                                                                                                                                                                                                                                                                                                                                                                                                                                                                                                                                                                                                                                                                                            |\n",
            "|179   |[6539, 7153, 5952, 4306, 3081]          |[48]                                                                                                                                                                                                                                                                                                                                                                                                                                                                                                                                                                                                                                                                                                                                                                                                                                                                                                                                                                                                                                                                                                                                                                                                                                                                                                                                                                                                                                                                                                                                                                                                                                                                                                                                                                                                                                                                                                                                                                                                                                                        |\n",
            "+------+----------------------------------------+------------------------------------------------------------------------------------------------------------------------------------------------------------------------------------------------------------------------------------------------------------------------------------------------------------------------------------------------------------------------------------------------------------------------------------------------------------------------------------------------------------------------------------------------------------------------------------------------------------------------------------------------------------------------------------------------------------------------------------------------------------------------------------------------------------------------------------------------------------------------------------------------------------------------------------------------------------------------------------------------------------------------------------------------------------------------------------------------------------------------------------------------------------------------------------------------------------------------------------------------------------------------------------------------------------------------------------------------------------------------------------------------------------------------------------------------------------------------------------------------------------------------------------------------------------------------------------------------------------------------------------------------------------------------------------------------------------------------------------------------------------------------------------------------------------------------------------------------------------------------------------------------------------------------------------------------------------------------------------------------------------------------------------------------------------+\n",
            "only showing top 20 rows\n",
            "\n"
          ]
        }
      ],
      "source": [
        "def create_test_df(ratings_df,K=5):\n",
        "  rating_filtered_df=remove_bad_ratings(ratings_df, rating_threshold = 3.5)\n",
        "  test_df=rating_filtered_df.filter(hash(col(\"userId\"))%2==1)\n",
        "  user_all_rated_movies=compute_timeline(test_df).withColumnRenamed(\"movies\",\"all_movies\")\n",
        "  test_df.persist(StorageLevel.DISK_ONLY)\n",
        "  res=remove_old_movies_in_timelines(movies_df,test_df,nb_max_movies=K)\n",
        "  user_k_recent_movies=compute_timeline(res).withColumnRenamed(\"movies\",\"labels\")\n",
        "  joined_df=user_all_rated_movies.join(user_k_recent_movies,on='userId',how='inner')\n",
        "  difference_df = joined_df.withColumn(\"movies\", array_except(\"all_movies\", \"labels\"))\n",
        "  test_df = difference_df.drop(\"all_movies\")\n",
        "  \n",
        "  return test_df\n",
        "\n",
        "\n",
        "test_df=create_test_df(ratings_df)\n",
        "print(test_df.count())\n",
        "test_df.show(truncate=False)"
      ]
    },
    {
      "attachments": {},
      "cell_type": "markdown",
      "metadata": {
        "id": "4CIzNEs5zgVW"
      },
      "source": [
        "### Question\n",
        "Use/adapt each of the algorithms defined in previous sections (naïve, a-priori, FP-growth, PLSI) to predict the 5 next movies that will be seen by the user based on previously seen movies.\n",
        "\n",
        "Each algorithm can be 'trained' on *training_df* or a subset of it ; choose and justify.\n",
        "\n",
        "For each algorithm, make a quick qualitative analysis, to see how relevant recommended movies are. You should rely on *movies_df* for this question.\n",
        "\n",
        "Then, compare the algorithms with the *test_df*, with metrics like *recall* and *precision at k* (define some methods that compute recall and precision at k from test dataframe and predictions dataframe parameters)"
      ]
    },
    {
      "attachments": {},
      "cell_type": "markdown",
      "metadata": {
        "id": "mAOiYVWI5plY"
      },
      "source": [
        "### **Due to time constraints, we couldn't implemented the latter functions and testing them, as well as, the fact that analyzing them will take days to get the desirable result, nevertheless, we had kept in mind the steps in order to implement these algorithms, therefore, we have defined pseudo codes for them**\n",
        "\n",
        "### **The objective of these algorithms is to generate list of suggested movies for each user (or which row of UserId). In order to evaluate the algorithms, we will ought to calculate the items that are both present in the suggestion column and the labels columns, this will be our *True positives TP*, the recall would be calculated as *TP/K* where *K* is the length of the labels, moreover the precision is *TP/(length of suggestion for each row)*. We will calculate the mean precision and the mean recall(Over all the rows of the test set) for all the algorithms in order to compare them.**\n",
        "\n",
        "### **Here are the detailed steps (PseudoCode) for some of the algorithms defined earlier.**"
      ]
    },
    {
      "attachments": {},
      "cell_type": "markdown",
      "metadata": {
        "id": "RUZ_kewr5PPj"
      },
      "source": [
        "## For Naive /Apriori (the step 1 is already obtained)/ FP Growth (Suggestions will be generated by the model association rule but needs to be a bit adapted) \n",
        "\n",
        "---\n",
        "\n"
      ]
    },
    {
      "attachments": {},
      "cell_type": "markdown",
      "metadata": {
        "id": "fykDZ6KW5TNJ"
      },
      "source": [
        "The following steps need to be done in order to execute the native method for the prediction :\n",
        "1. Starting from the dataframe train_df, compute the dataframe containing the association rules ie. the columns \"movieid1\" \"movieid2\" (this can be done using the implementd functions : compute_timeline,compute_pairs,compute_pair_frequencies. The resulting dataframe will be called train_df_for_naive_all_pairs_with_frequency.\n",
        "2. Select the only the column \"movies\" from test_df and create for that a new dataframe called test_df_2.\n",
        "3. Apply the explode function to the dataFrame test_df_2 on the column \"movies\". The resulting dataframe will be called test_df_x. Rename the column resulting from the explode into \"movieid1\".\n",
        "4. Apply a join for test_df_x and train_df_for_naive_all_pairs_with_frequency on the column \"movieid1\" and with left join (left is test_df_x).keep the user_id oftest_df_x. The resulting dataframe will be called join_df.\n",
        "5. For each userid of join_df (need to apply a groupBy?), delete rows where the value \"movieid2\" is present in the column \"movieid1\" **for the same userid**.\n",
        "6. For each userid of join_df, only keep the k rows containg the highest value in the column \"count\" (it comes from the dataframe train_df_for_naive_all_pairs_with_frequency originally).\n",
        "7. Group join_df by the column \"userid\" and put all the k movies in the column \"movieid2\" in a list and in a column called \"suggestions\".\n",
        "8. Join join_df with test_df on the column \"userid\".\n",
        "9. Now for each userid (row) we have a column called labels for the real labels and a column suggestions for the predicted labels. For each row we compute the number of commun iteams betwwen the two listes (that will be our true positives TP). the recall and precision will have the same value which is TP/k) Let's call this value score_k.(we can predict more than k suggestion for each row and in this case the precision and recall will be different. The precision will be TP/number_of_sugesstions and the recall will be TP/k) k being the number of real labels for each row of test_id.\n",
        "10. calculate a the mean of score_k over all the rows."
      ]
    },
    {
      "attachments": {},
      "cell_type": "markdown",
      "metadata": {
        "id": "VSYjAbnXl3gz"
      },
      "source": [
        "## For PLSI "
      ]
    },
    {
      "attachments": {},
      "cell_type": "markdown",
      "metadata": {
        "id": "MFDPMkOql7Ju"
      },
      "source": [
        "1. Call create_test_df() on the training df which will return a dataset containing for each user a list of old movies and a list of new movies which are the labels. We can name this DataFrame test_df.\n",
        "2.  From test_df, create a dataframe interactions_df containing all the user's interactions with the old movies.\n",
        "3.  Call run_plsi() to train it taking interactions_df and a number of latent classes as parameters. Modify the function so that it returns p(s|z) and p(z|u). Store them respectively in two variables p_s_knowing_z and p_z_knowing_u.\n",
        "4. Compute p(s|u) given by the formula $p(s|u) = \\sum_{z=1}^L p(s|z) p(z|u)$ using the dataframes p_s_knowing_z and p_z_knowing_u for all possible movies for each user.\n",
        "5.  Retrieve for each user the 5 movies with the largest p(s|u) that are not already present in the \"movies\" column for each \"userId\".\n",
        "\n",
        "\n",
        "\n",
        "\n",
        "\n"
      ]
    }
  ],
  "metadata": {
    "colab": {
      "collapsed_sections": [
        "5nMdnOrdauzb"
      ],
      "provenance": []
    },
    "gpuClass": "standard",
    "kernelspec": {
      "display_name": "Python 3",
      "language": "python",
      "name": "python3"
    },
    "language_info": {
      "codemirror_mode": {
        "name": "ipython",
        "version": 3
      },
      "file_extension": ".py",
      "mimetype": "text/x-python",
      "name": "python",
      "nbconvert_exporter": "python",
      "pygments_lexer": "ipython3",
      "version": "3.6.6"
    }
  },
  "nbformat": 4,
  "nbformat_minor": 0
}
