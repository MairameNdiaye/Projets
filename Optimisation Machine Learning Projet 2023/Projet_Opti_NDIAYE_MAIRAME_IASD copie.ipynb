{
 "cells": [
  {
   "cell_type": "markdown",
   "metadata": {
    "id": "i5gB6Fa52lHY"
   },
   "source": [
    "# <span style=\"color:rgb(199,21,11)\">Projet d'optimisation pour le machine learning</span>\n",
    "### <span style=\"color:rgb(199,21,11)\">Master 2 IASD Apprentissage, 2022/2023</span>\n",
    "\n",
    "#### <span style=\"color:rgb(199,21,11)\">Projet réalisé par NDIAYE Maïrame</span>"
   ]
  },
  {
   "cell_type": "markdown",
   "metadata": {
    "id": "idK13nxF5fFN"
   },
   "source": [
    "Vous retrouvez dans ce notebook l'ensemble des implémentations des algorithmes et des réponses aux questions posées. "
   ]
  },
  {
   "cell_type": "markdown",
   "metadata": {
    "id": "LiDH_JPm4EsC"
   },
   "source": [
    "# <span style=\"color:rgb(199,21,11)\">Regularized Newton methods for machine learning </span>"
   ]
  },
  {
   "cell_type": "code",
   "execution_count": 1,
   "metadata": {
    "id": "wLO1UYh_D6hz"
   },
   "outputs": [],
   "source": [
    "import math\n",
    "from math import sqrt\n",
    "\n",
    "# Display\n",
    "%matplotlib inline\n",
    "import matplotlib.pyplot as plt\n",
    "\n",
    "# SciPy - Efficient mathematical calculation\n",
    "from scipy.linalg.special_matrices import toeplitz # A special kind of matrices\n",
    "from scipy.linalg import svdvals # Singular values\n",
    "from scipy.linalg import norm # Euclidean norm\n",
    "from scipy.optimize import check_grad # Check accuracy between objective and gradient values\n",
    "from scipy.optimize import fmin_l_bfgs_b # Efficient optimizer\n",
    "\n",
    "# NumPy - Matrix and vector structures\n",
    "import numpy as np # NumPy library\n",
    "from numpy.random import multivariate_normal, randn # Probability distributions on vectors\n"
   ]
  },
  {
   "cell_type": "markdown",
   "metadata": {
    "id": "9Seqbmtl6Sfj"
   },
   "source": [
    "## <span style=\"color:rgb(139,0,0)\">Part 1 - Newton's method</span>\n"
   ]
  },
  {
   "cell_type": "markdown",
   "metadata": {
    "id": "RiWToOq06cMR"
   },
   "source": [
    "### <span style=\"color:rgb(139,0,0)\">Implementation 1.1</span>"
   ]
  },
  {
   "cell_type": "markdown",
   "metadata": {
    "id": "15jB1ilI8emU"
   },
   "source": [
    "Nous implémentons ici la méthode de Newton dans sa forme la plus basique dont l'itération k est donnée par l'expression : \n",
    "\n",
    "\\begin{aligned}\n",
    "\\\\\n",
    "w_{k+1} &= w_k + d_k,\n",
    "&d_k = -\\left[\\nabla^2f(w_k)\\right]^{-1} \\nabla f(w_k)\n",
    "\\end{aligned}\n",
    "$\n",
    "$\n",
    "\n",
    "*Remarques sur l'implémentation* :\n",
    "- Dans la boucle principale nous rajoutons dans la condition d'arrêt le fait que la norme de la différence entre $w$ et $w_{target}$ soit nulle, ce qui signifie que la méthode a convergé.\n"
   ]
  },
  {
   "cell_type": "code",
   "execution_count": null,
   "metadata": {
    "id": "8AvbJ7tb2pX6"
   },
   "outputs": [],
   "source": [
    "def newtons_methods(f,first_order, second_order, w0, w_target, n_iter=1000, verbose=True): \n",
    "    \"\"\"\n",
    "        Inputs:\n",
    "            f : the objective function\n",
    "            first_order : the first order derivative of f. A vector\n",
    "            second_order : the second order derivative of f. An hessian matrix\n",
    "            w0: Initial vector\n",
    "            w_target : Target vector\n",
    "            n_iter: Number of iterations\n",
    "            verbose: Boolean value indicating whether the outcome of every iteration should be displayed\n",
    "        Outputs:\n",
    "            w_output: Final iterate of the method\n",
    "            objvals : History of f values\n",
    "            normits : History of distances between iterates and target     \n",
    "    \"\"\"\n",
    "\n",
    "\n",
    "    objvals = []\n",
    "    normits = [] \n",
    "    w = w0.copy()\n",
    "\n",
    "    # Iteration counter\n",
    "    k=0   \n",
    "\n",
    "    obj = f(w) \n",
    "    objvals.append(obj);\n",
    "\n",
    "    nmin = norm(w-w_target)\n",
    "    normits.append(nmin)\n",
    "\n",
    "    if verbose:\n",
    "        print(\"\\nNewton's method :\")\n",
    "        print(' | '.join([name.center(8) for name in [\"iter\", \"fval\", \"dist\"]]))\n",
    "        print(' | '.join([(\"%d\" % k).rjust(8),(\"%.2e\" % obj).rjust(8),(\"%.2e\" % nmin).rjust(8)]))\n",
    "\n",
    "    while (k < n_iter and nmin!=0):\n",
    "      current_first_order = first_order(w)\n",
    "      current_second_order = second_order(w)\n",
    "      inverse_current_second_order = np.linalg.inv(current_second_order)\n",
    "      d = - np.dot(inverse_current_second_order,current_first_order)\n",
    "      w[:] = w + d\n",
    "      obj = f(w)\n",
    "      objvals.append(obj)\n",
    "      nmin = norm(w-w_target)\n",
    "      normits.append(nmin)\n",
    "      k = k + 1\n",
    "\n",
    "      if verbose:\n",
    "          print(' | '.join([(\"%d\" % k).rjust(8),(\"%.2e\" % obj).rjust(8),(\"%.2e\" % nmin).rjust(8)]))  \n",
    "\n",
    "    # Output\n",
    "    w_output = w.copy()\n",
    "    return w_output, np.array(objvals), np.array(normits)\n"
   ]
  },
  {
   "cell_type": "markdown",
   "metadata": {
    "id": "1VLDeszSCuXq"
   },
   "source": [
    "### <span style=\"color:rgb(139,0,0)\"> Question 1.1</span>"
   ]
  },
  {
   "cell_type": "markdown",
   "metadata": {
    "id": "6qvBiy2eCyke"
   },
   "source": [
    "#### <span style=\"color:rgb(139,0,0)\">a)</span>"
   ]
  },
  {
   "cell_type": "markdown",
   "metadata": {
    "id": "orYj5cKpDDV2"
   },
   "source": [
    "Nous cherchons à appliquer la méthode basique de Newton sur ce problème quadratique fortement convex :\n",
    "\n",
    "$$\n",
    "\\mathrm{minimize}_{w \\in \\mathbb{R}^3} \\, q(w) = \\left(w_1 + w_2 + w_3 - 5\\right)^2 + 3\\left(w_1 - w_2\\right)^2 + 2\\left(w_2 - 2w_3\\right)^2\n",
    "$$\n",
    "\n",
    "Le minimum de ce problème est donné par : $\n",
    "w^* = \\begin{pmatrix} 2 \\\\ 2 \\\\ 1 \\end{pmatrix}$\n",
    "\n",
    "Soit $ w_0 \\in \\mathbb{R}^3, \\quad w_0 = \\begin{pmatrix} w_{01} \\\\ w_{02} \\\\ w_{03} \\end{pmatrix}$\n",
    "\n",
    "La première itération de la méthode de Newton basique est donnée par :\n",
    "\n",
    "$$\n",
    "\\begin{aligned}\n",
    "w_{1} &= w_0 + d_0,\n",
    "&d_0 = -\\left[\\nabla^2q(w_0)\\right]^{-1} \\nabla q(w_0) \\\\\n",
    "\\end{aligned}$$\n",
    "\n",
    "Nous avons : \n",
    "\n",
    "$$\\nabla q(w_0)= \\begin{pmatrix} 2\\left(w_{01} + w_{02} + w_{03} - 5\\right) + 6\\left(w_{01} - w_{02}\\right) \\\\ 2\\left(w_{01} + w_{02} + w_{03} - 5\\right) - 6\\left(w_{01} - w_{02}\\right) + 4\\left(w_{02} - 2w_{03}\\right) \\\\ 2\\left(w_{01} + w_{02} + w_{03} - 5\\right) - 8\\left(w_{02} - 2w_{03}\\right) \\end{pmatrix}$$\n",
    "$    \n",
    "$\n",
    "\n",
    "$$\\nabla^2q(w_0) = \\begin{pmatrix} \n",
    "         8&-4&2 \\\\ \n",
    "        -4&12&-6 \\\\ \n",
    "         2&-6&18 \n",
    "   \\end{pmatrix}$$\n",
    "$\n",
    "$\n",
    "\n",
    "$$\\left[\\nabla^2q(w_0)\\right]^{-1} = \\begin{pmatrix} \n",
    "          \\frac{3}{20} & \\frac{1}{20} & 0 \\\\ \n",
    "          \\frac{1}{20} & \\frac{7}{60} & \\frac{1}{30} \\\\ \n",
    "          0 & \\frac{1}{30} & \\frac{1}{15} \n",
    "   \\end{pmatrix}$$\n",
    "\n",
    "En appliquant la formule de $d_0$, nous obtenons  :\n",
    "$$d_0 = \\begin{pmatrix} 2 - w_{01} \\\\ 2 - w_{02} \\\\ 1 - w_{03} \\end{pmatrix}$$\n",
    "\n",
    "Donc, finalement :\n",
    "$$w_1 = \\begin{pmatrix} w_{01} + 2 - w_{01} \\\\ w_{02} + 2 - w_{02} \\\\ w_{03} + 1 - w_{03} \\end{pmatrix} = \\begin{pmatrix} 2\\\\2\\\\1 \\end{pmatrix} = w^*  $$\n",
    "$\n",
    "$\n",
    "\n",
    "Ainsi, peu importe l'initialisation de départ, la méthode converge vers la solution en une itération. Il s'agit bien du comportement attendu pour un problème quadratique fortement convex. \n",
    "\n",
    "Maintenant, regardons si l'implémentation définie ci-dessus respecte bien ce comportement.  \n",
    "\n",
    "\n",
    "\n"
   ]
  },
  {
   "cell_type": "markdown",
   "metadata": {
    "id": "UV6DY2yLaAzD"
   },
   "source": [
    "#### <span style=\"color:rgb(139,0,0)\">b)</span>"
   ]
  },
  {
   "cell_type": "markdown",
   "metadata": {
    "id": "KO8b12cwaUeB"
   },
   "source": [
    "Dans cette partie, nous définissons les fonctions *q*, *grad_q* et *hessian_q* correspondants respectivement à la fonction objective, le gradient de la fonction objective et le gradient de second ordre de la fonction objective liée au problème définie ci-dessus. \n",
    "\n",
    "Nous initialisons *w_star* correspondant à la solution du problème. \n",
    "Nous définissons trois vecteurs initiaux :\n",
    "- *w0* correspondant au vecteur origine\n",
    "- *w1*\n",
    "- *w2*\n",
    "\n",
    "Nous appelons ensuite notre fonction *newtons_methods()* sur l'ensemble de ces points sur *5* itérations pour observer la convergence.\n",
    "\n"
   ]
  },
  {
   "cell_type": "code",
   "execution_count": null,
   "metadata": {
    "id": "wFSDm2OUKadf"
   },
   "outputs": [],
   "source": [
    "q = lambda x: (x[0]+x[1]+x[2] - 5)**2 + 3*(x[0]-x[1])**2 + 2*(x[1] - 2*x[2])**2\n",
    "grad_q = lambda x: np.array([2*(x[0]+x[1]+x[2] - 5)+6*(x[0]-x[1]),2*(x[0]+x[1]+x[2] - 5) - 6*(x[0]-x[1]) + 4*(x[1] - 2*x[2]),2*(x[0]+x[1]+x[2] - 5)- 8*(x[1] - 2*x[2])])\n",
    "hessian_q = lambda x: np.array([[8,-4,2],[-4,12,-6],[2,-6,18]])\n",
    "\n",
    "w_star = np.array([2,2,1])\n",
    "w0 = np.array([0.,0.,0.])\n",
    "w1 = np.array([4.,10.,20.])\n",
    "w2 = np.array([-1.5,30,4])"
   ]
  },
  {
   "cell_type": "code",
   "execution_count": null,
   "metadata": {
    "colab": {
     "base_uri": "https://localhost:8080/"
    },
    "id": "dHnNjHpDt3d4",
    "outputId": "00c80e8a-ed82-4c75-97ff-aafe3409bb4c"
   },
   "outputs": [
    {
     "name": "stdout",
     "output_type": "stream",
     "text": [
      "\n",
      "Newton's method :\n",
      "  iter   |   fval   |   dist  \n",
      "       0 | 2.50e+01 | 3.00e+00\n",
      "       1 | 0.00e+00 | 0.00e+00\n",
      "Résultat 1 :  [2. 2. 1.]\n",
      "\n",
      "Newton's method :\n",
      "  iter   |   fval   |   dist  \n",
      "       0 | 2.75e+03 | 2.07e+01\n",
      "       1 | 5.92e-31 | 4.44e-16\n",
      "       2 | 0.00e+00 | 0.00e+00\n",
      "Résultat 2 :  [2. 2. 1.]\n",
      "\n",
      "Newton's method :\n",
      "  iter   |   fval   |   dist  \n",
      "       0 | 4.70e+03 | 2.84e+01\n",
      "       1 | 3.03e-28 | 1.00e-14\n",
      "       2 | 0.00e+00 | 0.00e+00\n",
      "Résultat 3 :  [2. 2. 1.]\n"
     ]
    }
   ],
   "source": [
    "result0, objs0, nits_0 = newtons_methods(q,grad_q,hessian_q, w0, w_star, n_iter=5, verbose=True)\n",
    "print(\"Résultat 1 : \", result0)\n",
    "\n",
    "result1, objs1, nits_1 = newtons_methods(q,grad_q,hessian_q, w1,w_star, n_iter=5, verbose=True)\n",
    "print(\"Résultat 2 : \", result1)\n",
    "\n",
    "result2, objs2, nits_2 = newtons_methods(q,grad_q,hessian_q, w2,w_star, n_iter=5, verbose=True)\n",
    "print(\"Résultat 3 : \", result2)"
   ]
  },
  {
   "cell_type": "markdown",
   "metadata": {
    "id": "ePpTFF-teooV"
   },
   "source": [
    "##### Observation\n",
    "\n",
    "En observant les résultats, nous constatons bien une convergence à la première itération. En effet, dès la première itération, on a une distance entre $w$ et $w_{target}$ tellement petite (<= 1e-14) qu'elle peut être interprétée comme étant nulle. Ici, le teste a été réalisé seulement pour 3 points dans l'espace mais nous voyons bien que ce comportement ce répètera peu importe l'initialisation qui sera faite. \n",
    "\n",
    "Ainsi, la méthode de Newton basique est fortement adaptée pour les problèmes fortement convexes quadratiques car elle permet de trouver la solution du problème immédiatement. "
   ]
  },
  {
   "cell_type": "markdown",
   "metadata": {
    "id": "yyrat9fpirE8"
   },
   "source": [
    "### <span style=\"color:rgb(139,0,0)\"> Question 1.2</span>"
   ]
  },
  {
   "cell_type": "markdown",
   "metadata": {
    "id": "QcXzeu4bizvo"
   },
   "source": [
    "#### <span style=\"color:rgb(139,0,0)\">a)</span>"
   ]
  },
  {
   "cell_type": "markdown",
   "metadata": {
    "id": "KyiIHk-vi1QV"
   },
   "source": [
    "Nous cherchons désormais à appliquer la méthode basique de Newton sur la fonction de *Rosenbrock* qui n'est pas fortement convexe :\n",
    "\n",
    "$$\n",
    "\\mathrm{minimize}_{w \\in \\mathbb{R}^2} \\, q(w) = 100\\left(w_2 - w_1^2\\right)^2 + \\left(1 - w_1\\right)^2\n",
    "$$\n",
    "\n",
    "En analysant la définition de la fonction, nous voyons clairement que la solution au problème est donnée par  : $\n",
    "w^* = \\begin{pmatrix} 1 \\\\ 1 \\end{pmatrix}$\n",
    "\n",
    "Soit $ w \\in \\mathbb{R}^2, \\quad w = \\begin{pmatrix} w_1 \\\\ w_2 \\end{pmatrix}$\n",
    "\n",
    "\n",
    "Nous avons : \n",
    "\n",
    "$$\\nabla q(w)= \\begin{pmatrix} -400w_1(w_2 - w_1^2) -2(1-w_1) \\\\ 200(w_2 - w_1^2) \\end{pmatrix}$$\n",
    "$    \n",
    "$\n",
    "\n",
    "$$\\nabla^2q(w) = \\begin{pmatrix} \n",
    "         -400w_2 + 1200w_1^2+2&-400w_1 \\\\ \n",
    "        -400w_1&200 \n",
    "   \\end{pmatrix}$$\n",
    "$\n",
    "$\n",
    "\n",
    "Alors que dans le premier problème, la hessienne était indépendante de $w$, dans ce nouveau problème ce n'est pas le cas. Ainsi, le problème n'est correctement défini que si le $w_0$ (initial) ne produit pas dans l'exécution de l'algorithme une hessienne qui soit non inversible. Donc, l'initialisation initiale compte.\n",
    "\n",
    "Vient ainsi, une nouvelle question pour le problème : Quel $w_0$ choisir afin que les itérations soient correctement définies et que le méthode converge vers la solution ? \n",
    "\n",
    "Une autre question : Si la méthode est correctement définie, a-t-elle la même vitesse de convergence que dans le cas quadratique fortement convexe ? "
   ]
  },
  {
   "cell_type": "markdown",
   "metadata": {
    "id": "2e9z1POdt0jj"
   },
   "source": [
    "Pour avoir une idée des performances de la méthode sur ce nouveau problème, nous l'appliquons aux deux points:\n",
    "- $w_{01} = \\begin{pmatrix} -1.2 \\\\ 1 \\end{pmatrix}$\n",
    "- $w_{02} = \\begin{pmatrix} 0 \\\\ \\frac{1}{400} + 10^{-12} \\end{pmatrix}$\n",
    "\n",
    "Pour l'appliquer à ces points nous définissons *f*, *f_grad* et *f_hess* qui représentent respectivement la fonction objective, le gradient de la fonction objective et la hessienne de la fonction objective du problème *Rosenbrock*."
   ]
  },
  {
   "cell_type": "code",
   "execution_count": null,
   "metadata": {
    "colab": {
     "base_uri": "https://localhost:8080/"
    },
    "id": "WZNP6WrFjQrX",
    "outputId": "6ce6df32-0a95-465d-abfd-960ca5aec86f"
   },
   "outputs": [
    {
     "name": "stdout",
     "output_type": "stream",
     "text": [
      "\n",
      "Newton's method :\n",
      "  iter   |   fval   |   dist  \n",
      "       0 | 2.42e+01 | 3.11e+00\n",
      "       1 | 4.73e+00 | 3.12e+00\n",
      "       2 | 1.41e+03 | 5.91e+00\n",
      "       3 | 5.60e-02 | 6.78e-01\n",
      "       4 | 3.13e-01 | 7.92e-02\n",
      "       5 | 1.85e-11 | 1.36e-05\n",
      "       6 | 3.43e-20 | 2.62e-11\n",
      "       7 | 0.00e+00 | 0.00e+00\n",
      "Résultat 1 :  [1. 1.]\n",
      "\n",
      "Newton's method :\n",
      "  iter   |   fval   |   dist  \n",
      "       0 | 1.00e+00 | 2.00e+00\n",
      "       1 | 1.60e+03 | 2.00e+00\n",
      "       2 | 9.98e-01 | 4.46e+00\n",
      "       3 | 9.94e+01 | 1.41e+00\n",
      "       4 | 9.59e-08 | 9.79e-04\n",
      "       5 | 9.20e-13 | 1.36e-07\n",
      "       6 | 0.00e+00 | 0.00e+00\n",
      "Résultat 2 :  [1. 1.]\n"
     ]
    }
   ],
   "source": [
    "f = lambda x: 100*((x[1]-(x[0])**2)**2) + (1-x[0])**2\n",
    "f_grad = lambda x: np.array([-400*x[0]*(x[1]-(x[0])**2) - 2*(1-x[0]),200*(x[1]-(x[0])**2)])\n",
    "f_hess = lambda x: np.array([[(1200*(x[0]**2) + 2 - 400*x[1]),(- 400*x[0])],[(- 400*x[0]),200]])\n",
    "\n",
    "w01 =np.array([-1.2,1])\n",
    "w02 = np.array([0,(1/400)+1e-12])\n",
    "w_target = np.array([[1.],[1.]])\n",
    "\n",
    "result1, objs1, nits_1 = newtons_methods(f,f_grad,f_hess, w01, w_target, n_iter=10, verbose=True)\n",
    "print(\"Résultat 1 : \", result1)\n",
    "\n",
    "result2, objs2, nits_2 = newtons_methods(f,f_grad,f_hess, w02,w_target, n_iter=10, verbose=True)\n",
    "print(\"Résultat 2 : \", result2)"
   ]
  },
  {
   "cell_type": "code",
   "execution_count": null,
   "metadata": {
    "colab": {
     "base_uri": "https://localhost:8080/",
     "height": 712
    },
    "id": "w6gsGzdujFts",
    "outputId": "ad957031-7d7f-4528-d61d-98280f6c24c7"
   },
   "outputs": [
    {
     "data": {
      "text/plain": [
       "<matplotlib.legend.Legend at 0x7ff54ae403d0>"
      ]
     },
     "execution_count": 109,
     "metadata": {},
     "output_type": "execute_result"
    },
    {
     "data": {
      "image/png": "[encoded data removed]",
      "text/plain": [
       "<Figure size 504x360 with 1 Axes>"
      ]
     },
     "metadata": {
      "needs_background": "light"
     },
     "output_type": "display_data"
    },
    {
     "data": {
      "image/png": "[encoded data removed]",
      "text/plain": [
       "<Figure size 504x360 with 1 Axes>"
      ]
     },
     "metadata": {
      "needs_background": "light"
     },
     "output_type": "display_data"
    }
   ],
   "source": [
    "# Comparison of the two results\n",
    "\n",
    "# In terms of objective value (logarithmic scale)\n",
    "plt.figure(figsize=(7, 5))\n",
    "plt.semilogy(objs1, label=\"w init w01\", lw=2)\n",
    "plt.semilogy(objs2, label=\"w init w02\", lw=2)\n",
    "plt.title(\"Convergence plot\", fontsize=16)\n",
    "plt.xlabel(\"#iterations\", fontsize=14)\n",
    "plt.ylabel(\"Objective (log scale)\", fontsize=14)\n",
    "plt.legend()\n",
    "\n",
    "# In terms of distance to the optimum (logarithmic scale)\n",
    "plt.figure(figsize=(7, 5))\n",
    "plt.semilogy(nits_1, label=\"w init w01\", lw=2)\n",
    "plt.semilogy(nits_2 , label=\"w init w02\", lw=2)\n",
    "plt.title(\"Convergence plot\", fontsize=16)\n",
    "plt.xlabel(\"#iterations\", fontsize=14)\n",
    "plt.ylabel(\"Distance to the optimum (log scale)\", fontsize=14)\n",
    "plt.legend()"
   ]
  },
  {
   "cell_type": "markdown",
   "metadata": {
    "id": "vrizErTZygRa"
   },
   "source": [
    "##### Observation\n",
    "\n",
    "La première remarque que nous pouvons faire est que $w_{01}$ et $w_{02}$ sont deux points qui permettent aux itérations d'être correctement définies. Toutes les hessiennes calculées en partant de ces points initiaux sont inversibles. \n",
    "\n",
    "En terme de convergence, nous voyons à travers les graphiques ci-dessus que la méthode converge pour les deux points. En effet, la méthode arrive à trouver la solution. Cependant, elle semble converger plus rapidement pour le point $w_{02}$. En effet, elle converge au bout de cinq itérations pour $w_{02}$ et au bout de six itérations pour $w_{01}$. \n",
    "Cette légère différence peut s'expliquer par le fait que $w_{02}$ est plus proche de la solution que $w_{01}$ comme le montre le plot sur les distances.\n",
    "\n",
    "En matière de fonction objective, on voit que pour les deux points la méthode semble tatonner au cours des quatre premières itérations pour trouver la bonne fonction objective. Après cette itération la courbe a une décroissance brute. $w_{02}$ converge plus rapidement vers 0 que $w_{01}$.\n",
    "\n",
    "Enfin, nous pouvons comparer la vitesse de convergence de la méthode pour ce problème à celle pour les problèmes quadratiques fortement convexes. Nous pouvons dire que pour ces deux problèmes la vitesse n'est pas la même. Alors que pour le premier problème la méthode convergeait en une itération, ici ce n'est pas le cas. La méthode est donc moins rapide pour ce type de problème mais la vitesse reste tout même très raisonnable en comparaison à d'autres méthodes comme la descente de gradient. "
   ]
  },
  {
   "cell_type": "code",
   "execution_count": null,
   "metadata": {
    "id": "pcJXlnQIr-ZR"
   },
   "outputs": [],
   "source": [
    "w03 = np.array([0,0.005])\n",
    "#result3 = newtons_methods(f,f_grad,f_hess, w03,w_target, n_iter=10)\n",
    "#print(\"Résultat 3 : \", result3)"
   ]
  },
  {
   "cell_type": "markdown",
   "metadata": {
    "id": "BiESkWWz5tmn"
   },
   "source": [
    "En testant la méthode sur le point $w_{03} = \\begin{pmatrix} 0 \\\\ 0.005 \\end{pmatrix}$ nous avons l'erreur \"Singular matrix\". Effectivement, $w_{03}$ est un point produisant une hessienne non inversible, ce qui rends le calcul de l'itération impossible. \n",
    "\n",
    "Cela illustre la nature locale de la méthode de Newton. La méthode est capable de trouver la solution pour certains points très proches de la solution mais n'est pas garantie de fonctionner pour tous les points comme le montre cet exemple. \n",
    "\n",
    "Ainsi, pour conclure sur cette partie, nous pouvons dire que la méthode basique de Newton est parfaite pour des problèmes quadratiques fortement convexes. La méthode est également très efficace, en termes de vitesse de convergence, pour d'autres types de problèmes non fortement convexes comme le problème de Rosenbrock. Cependant, ces types de problèmes mettent en lumière la nature locale de la méthode de Newton. Pour qu'elle puisse être bien definie et converger, il est nécessaire de l'aider en choisissant une bonne initialisation.\n"
   ]
  },
  {
   "cell_type": "markdown",
   "metadata": {
    "id": "_cm3MPqA_6eq"
   },
   "source": [
    "\n",
    "## <span style=\"color:rgb(139,0,0)\">Part 2 - A globally convergent version of Newton's method</span>"
   ]
  },
  {
   "cell_type": "markdown",
   "metadata": {
    "id": "-eune99kNLUY"
   },
   "source": [
    "### <span style=\"color:rgb(139,0,0)\">Implementation 2.1</span>"
   ]
  },
  {
   "cell_type": "markdown",
   "metadata": {
    "id": "cJRYjZe1mtz5"
   },
   "source": [
    "Pour pallier à la localité de la méthode de Newton, nous allons nous pencher sur les techniques de globalisation de la méthode. Ainsi, avec ces techniques la méthode de Newton convergera indépendamment de l'initialisation. \n",
    "\n",
    "Nous implémentons ici une technique de globalisation basée sur une régularisation quadratique dont l'itération k est donnée par l'expression : \n",
    "\n",
    "\n",
    "$$w_{k+1} = w_k + d_k, \\quad d_k = - \\left[ \\nabla^2 f(w_k) + \\gamma_k I \\right]^{-1} \\nabla f(w_k)$$\n",
    "\n",
    "$\n",
    "$\n",
    "\n",
    "*Remarques sur l'implémentation* :\n",
    "- Dans la boucle principale nous rajoutons dans la condition d'arrêt le fait que la norme de la différence entre $w$ et $w_{target}$ soit nulle, ce qui signifie que la méthode a convergé.\n"
   ]
  },
  {
   "cell_type": "code",
   "execution_count": null,
   "metadata": {
    "id": "S5-rPx_q_9iQ"
   },
   "outputs": [],
   "source": [
    "def globalized_newtons_method(f,first_order, second_order, w0, w_target, c, mu, n_iter=1000, verbose=True): \n",
    "    \"\"\"\n",
    "        A code for globalized newton method.\n",
    "        \n",
    "        Inputs:\n",
    "            f : the objective function\n",
    "            first_order : the first order derivative of f. A vector\n",
    "            second_order : the second order derivative of f. A hessian matrix\n",
    "            w0: Initial vector\n",
    "            w_target : Target vector\n",
    "            n_iter: Number of iterations\n",
    "            verbose: Boolean value indicating whether the outcome of every iteration should be displayed\n",
    "            c : Real value between 0 and 1 used in the quadratic regularization\n",
    "            mu : Real value > 1 used in the quadratic regularization\n",
    "      \n",
    "        Outputs:\n",
    "            w_output: Final iterate of the method\n",
    "            objvals : History of f values\n",
    "            normits : History of distances between iterates and target       \n",
    "    \"\"\"\n",
    "\n",
    "    # objective history\n",
    "    objvals = []\n",
    "\n",
    "    # iterates distance to the minimum history\n",
    "    normits = []\n",
    "    \n",
    "    # Initial value of current iterate   \n",
    "    w = w0.copy()\n",
    "\n",
    "    # Initialize iteration counter\n",
    "    k=0   \n",
    "\n",
    "    # Current objective\n",
    "    obj = f(w) \n",
    "    objvals.append(obj);\n",
    "\n",
    "    # Current distance to the optimum\n",
    "    nmin = norm(w-w_target)\n",
    "    normits.append(nmin)\n",
    "\n",
    "    if verbose:\n",
    "      print(\"\\nGlobalized Newton method :\")\n",
    "      print(' | '.join([name.center(8) for name in [\"iter\", \"fval\", \"dist\"]]))\n",
    "      print(' | '.join([(\"%d\" % k).rjust(8),(\"%.2e\" % obj).rjust(8),(\"%.2e\" % nmin).rjust(8)]))\n",
    "\n",
    "    ####################\n",
    "    # Main loop\n",
    "\n",
    "    while (k < n_iter and nmin!=0):\n",
    "      current_first_order = first_order(w)\n",
    "      current_second_order = second_order(w)\n",
    "\n",
    "      eigen_values = np.linalg.eigvals(current_second_order)\n",
    "      min_eigen_values = np.min(eigen_values)\n",
    "\n",
    "      gamma_k = mu * max(-min_eigen_values,1e-10)\n",
    "\n",
    "      d = -np.dot(np.linalg.inv(current_second_order + gamma_k  * np.identity(np.shape(w)[0])), current_first_order)\n",
    "\n",
    "      term1 = f(w + d)\n",
    "      term2 = f(w) + c*np.dot(d.T,current_first_order)\n",
    "\n",
    "      while(term1 >= term2 ):\n",
    "        gamma_k = mu * gamma_k\n",
    "        d = -np.dot(np.linalg.inv(current_second_order + gamma_k  * np.identity(np.shape(w)[0])), current_first_order)\n",
    "        term1 = f(w + d)\n",
    "        term2 = f(w) + c*np.dot(d.T,current_first_order)\n",
    "\n",
    "      w[:] = w + d\n",
    "\n",
    "      obj = f(w)\n",
    "      objvals.append(obj)\n",
    "      nmin = norm(w-w_target)\n",
    "      normits.append(nmin)\n",
    "      k = k + 1\n",
    "      if verbose:\n",
    "          print(' | '.join([(\"%d\" % k).rjust(8),(\"%.2e\" % obj).rjust(8),(\"%.2e\" % nmin).rjust(8)]))  \n",
    "\n",
    "      \n",
    "\n",
    "    # Output\n",
    "    w_output = w.copy()\n",
    "    return w_output, np.array(objvals), np.array(normits)"
   ]
  },
  {
   "cell_type": "markdown",
   "metadata": {
    "id": "9H_IizwCCg4m"
   },
   "source": [
    "### <span style=\"color:rgb(139,0,0)\"> Question 2.1</span>"
   ]
  },
  {
   "cell_type": "markdown",
   "metadata": {
    "id": "VmJ1ees9C--c"
   },
   "source": [
    "Nous cherchons à appliquer la technique de globalisation de Newton sur le problème de *Rosenbrock* :\n",
    "\n",
    "$$\n",
    "\\mathrm{minimize}_{w \\in \\mathbb{R}^2} \\, q(w) = 100\\left(w_2 - w_1^2\\right)^2 + \\left(1 - w_1\\right)^2\n",
    "$$\n",
    "$\n",
    "$\n",
    "\n",
    "Nous avons vu dans la partie précédente que la méthode basique de Newton ne fonctionne pas pour toutes les initialisations et que si elle est bien définit elle n'a pas les mêmes vitesses de convergence en fonction de l'initialisation. \n",
    "\n",
    "Vient alors deux questions concernant la technique de globalisation de Newton:\n",
    "- Fonctionne-t-elle pour toutes les initialisations ?\n",
    "- A-t-elle le même type de comportement que la méthode basique en terme de convergence ?\n",
    "\n",
    "Regardons tout cela en appliquant la méthode sur les même points que dans la partie précédente.\n",
    "\n",
    "Comme demandé dans la consigne de la question, nous appliquons la méthode avec $c = 0.0001$ et $\\mu=2$."
   ]
  },
  {
   "cell_type": "code",
   "execution_count": null,
   "metadata": {
    "colab": {
     "base_uri": "https://localhost:8080/"
    },
    "id": "XPO6R-WpGKuR",
    "outputId": "a5af38f6-ad8b-466a-ae00-908f71221386"
   },
   "outputs": [
    {
     "name": "stdout",
     "output_type": "stream",
     "text": [
      "\n",
      "Globalized Newton method :\n",
      "  iter   |   fval   |   dist  \n",
      "       0 | 2.42e+01 | 3.11e+00\n",
      "       1 | 4.73e+00 | 3.12e+00\n",
      "       2 | 4.41e+00 | 2.67e+00\n",
      "       3 | 3.11e+00 | 2.56e+00\n",
      "       4 | 2.56e+00 | 2.42e+00\n",
      "       5 | 1.98e+00 | 2.32e+00\n",
      "       6 | 1.57e+00 | 2.19e+00\n",
      "       7 | 1.12e+00 | 2.06e+00\n",
      "       8 | 1.06e+00 | 1.83e+00\n",
      "       9 | 5.45e-01 | 1.68e+00\n",
      "      10 | 4.48e-01 | 1.41e+00\n",
      "      11 | 2.34e-01 | 1.24e+00\n",
      "      12 | 2.04e-01 | 8.82e-01\n",
      "      13 | 6.91e-02 | 7.46e-01\n",
      "      14 | 4.88e-02 | 4.14e-01\n",
      "      15 | 1.05e-02 | 3.10e-01\n",
      "      16 | 6.09e-03 | 5.50e-02\n",
      "      17 | 7.53e-05 | 2.74e-02\n",
      "      18 | 5.55e-07 | 2.72e-04\n",
      "      19 | 6.51e-13 | 2.55e-06\n",
      "      20 | 4.25e-23 | 2.36e-12\n",
      "      21 | 0.00e+00 | 0.00e+00\n",
      "Résultat 1 :  [1. 1.]\n",
      "\n",
      "Globalized Newton method :\n",
      "  iter   |   fval   |   dist  \n",
      "       0 | 1.00e+00 | 2.00e+00\n",
      "       1 | 9.72e-01 | 1.76e+00\n",
      "       2 | 4.80e-01 | 1.61e+00\n",
      "       3 | 3.73e-01 | 1.35e+00\n",
      "       4 | 2.03e-01 | 1.18e+00\n",
      "       5 | 1.88e-01 | 7.90e-01\n",
      "       6 | 5.32e-02 | 6.63e-01\n",
      "       7 | 5.28e-02 | 2.87e-01\n",
      "       8 | 4.76e-03 | 2.12e-01\n",
      "       9 | 1.85e-03 | 1.64e-02\n",
      "      10 | 2.49e-06 | 4.99e-03\n",
      "      11 | 6.21e-10 | 6.71e-06\n",
      "      12 | 2.83e-19 | 1.68e-09\n",
      "      13 | 0.00e+00 | 0.00e+00\n",
      "Résultat 2 :  [1. 1.]\n",
      "\n",
      "Globalized Newton method :\n",
      "  iter   |   fval   |   dist  \n",
      "       0 | 1.00e+00 | 2.00e+00\n",
      "       1 | 7.74e-01 | 1.86e+00\n",
      "       2 | 5.50e-01 | 1.64e+00\n",
      "       3 | 3.52e-01 | 1.44e+00\n",
      "       4 | 2.64e-01 | 1.12e+00\n",
      "       5 | 1.23e-01 | 9.57e-01\n",
      "       6 | 1.03e-01 | 5.88e-01\n",
      "       7 | 2.55e-02 | 4.73e-01\n",
      "       8 | 2.45e-02 | 1.32e-01\n",
      "       9 | 7.40e-04 | 8.51e-02\n",
      "      10 | 5.14e-05 | 2.30e-03\n",
      "      11 | 2.85e-09 | 1.69e-04\n",
      "      12 | 8.13e-16 | 8.48e-09\n",
      "      13 | 2.02e-30 | 2.67e-15\n",
      "      14 | 0.00e+00 | 0.00e+00\n",
      "Résultat 3 :  [1. 1.]\n"
     ]
    }
   ],
   "source": [
    "result1, objs1, nits_1 = globalized_newtons_method(f,f_grad, f_hess, w01, w_target, 0.0001, 2, n_iter=1000, verbose = True)\n",
    "print(\"Résultat 1 : \", result1)\n",
    "\n",
    "result2, objs2, nits_2 = globalized_newtons_method(f,f_grad, f_hess, w02, w_target, 0.0001, 2, n_iter=1000, verbose = True)\n",
    "print(\"Résultat 2 : \", result2)\n",
    "\n",
    "result3, objs3, nits_3 = globalized_newtons_method(f,f_grad, f_hess, w03, w_target, 0.0001, 2, n_iter=1000, verbose = True)\n",
    "print(\"Résultat 3 : \", result3)"
   ]
  },
  {
   "cell_type": "code",
   "execution_count": null,
   "metadata": {
    "colab": {
     "base_uri": "https://localhost:8080/",
     "height": 712
    },
    "id": "7VtBiG3Sizna",
    "outputId": "f699533b-262e-4b53-fd38-1dbc649b0137"
   },
   "outputs": [
    {
     "data": {
      "text/plain": [
       "<matplotlib.legend.Legend at 0x7ff54ac810d0>"
      ]
     },
     "execution_count": 113,
     "metadata": {},
     "output_type": "execute_result"
    },
    {
     "data": {
      "image/png": "[encoded data removed]",
      "text/plain": [
       "<Figure size 504x360 with 1 Axes>"
      ]
     },
     "metadata": {
      "needs_background": "light"
     },
     "output_type": "display_data"
    },
    {
     "data": {
      "image/png": "[encoded data removed]",
      "text/plain": [
       "<Figure size 504x360 with 1 Axes>"
      ]
     },
     "metadata": {
      "needs_background": "light"
     },
     "output_type": "display_data"
    }
   ],
   "source": [
    "# Comparison of the three results\n",
    "\n",
    "# In terms of objective value (logarithmic scale)\n",
    "plt.figure(figsize=(7, 5))\n",
    "plt.semilogy(objs1, label=\"w init w01\", lw=2)\n",
    "plt.semilogy(objs2, label=\"w init w02\", lw=2)\n",
    "plt.semilogy(objs3, label=\"w init w03\", lw=2)\n",
    "\n",
    "plt.title(\"Convergence plot\", fontsize=16)\n",
    "plt.xlabel(\"#iterations\", fontsize=14)\n",
    "plt.ylabel(\"Objective (log scale)\", fontsize=14)\n",
    "plt.legend()\n",
    "\n",
    "# In terms of distance to the optimum (logarithmic scale)\n",
    "plt.figure(figsize=(7, 5))\n",
    "plt.semilogy(nits_1, label=\"w init w01\", lw=2)\n",
    "plt.semilogy(nits_2 , label=\"w init w02\", lw=2)\n",
    "plt.semilogy(nits_3, label=\"w init w03\", lw=2)\n",
    "\n",
    "plt.title(\"Convergence plot\", fontsize=16)\n",
    "plt.xlabel(\"#iterations\", fontsize=14)\n",
    "plt.ylabel(\"Distance to the optimum (log scale)\", fontsize=14)\n",
    "plt.legend()"
   ]
  },
  {
   "cell_type": "markdown",
   "metadata": {
    "id": "nhVRo-AkGcU0"
   },
   "source": [
    "##### Observation\n",
    "\n",
    "Le comportement n'est plus local mais global grâce à la régularisation quadratique. La méthode est bien définie pour n'importe quel point initiale. \n",
    "\n",
    "En terme de convergence, nous voyons à travers les logs de la fonction ainsi que les plots que la méthode converge pour tous les points. Cependant, la vitesse de convergence n'est pas la même. Elle trouve la solution au bout de douze itérations pour $w_{02}$, treize itérations pour $w_{03}$ et vingt itérations pour $w_{01}$. En regardant les plots, nous voyons que les courbes de $w_{02}$ et $w_{03}$ sont très proches. Cela s'explique par le fait que ces deux points ont des distances similaires au target et leurs fonctions objectives sont également quasi égales. La forme de la courbe pour $w_{01}$ est similaire aux autres mais elle met plus de temps à trouver la solution car le point est plus éloigné de la solution, il a une distance de *3.00* tandis que les deux autres ont une distance de *2.00*. \n",
    "\n",
    "Ainsi, nous pouvons dire que la bonne définition et la convergence de la méthode est indépendante de l'initialisation mais que la vitesse de convergence dépend de l'initialisation. Plus un point sera proche du target plus la méthode sera rapide pour trouver la solution. \n",
    "\n",
    "Si nous comparons cette méthode de globalisation à la méthode basique nous pouvons faire plusieurs remarques. \n",
    "\n",
    "Au niveau de la fonction objective, les méthodes se comportent de manière très différente. En effet, alors que la méthode basique de Newton semble osciller pendant plusieurs itérations avant de converger de façon brute vers la fonction objective minimale, la méthode de globalisation stagne plutôt durant les dix premières itérations avant de décroitre très rapidement vers la fonction objective minimale.\n",
    "\n",
    "Au niveau de la vitesse de convergence, il y a également des différences. La méthode de globalisation est plus lente à converger que la méthode de Newton basique. Alors que la méthode basique de Newton a besoin de cinq itérations pour converger en partant de $w_{02}$ la globalisation utilise le double pour converger, on constate le même phénomène pour $w_{01}$. De plus, dans la méthode basique de Newton l'écart entre la vitesse de convergence de $w_{01}$ et $w_{02}$ n'est pas aussi grand que pour la globalisation.\n",
    "\n",
    "Ainsi, la technique de globalisation est une alternative à la méthode basique de Newton permettant de se libérer de la limite d'initialisation mais au prix d'une convergence moins rapide."
   ]
  },
  {
   "cell_type": "markdown",
   "metadata": {
    "id": "xuQ1Hu_Q-sBf"
   },
   "source": [
    "### <span style=\"color:rgb(139,0,0)\"> Question 2.2</span>"
   ]
  },
  {
   "cell_type": "markdown",
   "metadata": {
    "id": "aSLjrNH6-vQ4"
   },
   "source": [
    "Dans la méthode de Newton globalisé, les paramètres $c$ et $\\mu$ permettent de contrôler l'algorithme. \n",
    "\n",
    "Le paramètre $c$ est utilisé pour la satisfaction de la condition d'*Armijo* donnée dans l'algorithme par : $$f(w_k + d_k) \\geq f(w_k) + c d_k^T \\nabla f(w_k)$$\n",
    "$\n",
    "$\n",
    "\n",
    "Cette condition permet de vérifier si le pas de recherche de la direction optimale est suffisamment petit pour éviter de sauter au dessus de la solution optimale. \n",
    "\n",
    "Le paramètre $\\mu$ est un facteur multiplicatif pour la régularisation quadratique liée à la matrice hessienne. Ce paramètre est utilisé pour contrôler la dureté de la régularisation. \n",
    "\n",
    "\n",
    "Regardons désormais l'influence de ces paramètres sur les performances de la méthode par rapport à notre problème *Rosenbrock*. \n",
    "\n",
    "Nous allons tester les différentes valeurs en prennant comme initialisation le point $w_{02}$, en testant sur les autres points les résultats sont similaires. "
   ]
  },
  {
   "cell_type": "code",
   "execution_count": null,
   "metadata": {
    "id": "vACAHKGRpY-3"
   },
   "outputs": [],
   "source": [
    "c_values = [0.0000001,0.2,0.5,0.55,0.6]\n",
    "objs_c = np.empty(len(c_values), dtype=object)\n",
    "nits_c = np.empty(len(c_values), dtype=object)\n",
    "\n",
    "for i in range(len(c_values)):\n",
    "  _,obj,nit  = globalized_newtons_method(f,f_grad, f_hess, w02, w_target,c_values[i], 2, n_iter=1000, verbose = False)\n",
    "  objs_c[i] = obj\n",
    "  nits_c[i] = nit"
   ]
  },
  {
   "cell_type": "code",
   "execution_count": null,
   "metadata": {
    "colab": {
     "base_uri": "https://localhost:8080/",
     "height": 712
    },
    "id": "ppyRot9QHSrS",
    "outputId": "b841b0da-40fe-44b8-e103-b9f3ce390bee"
   },
   "outputs": [
    {
     "data": {
      "text/plain": [
       "<matplotlib.legend.Legend at 0x7ff54ab06d30>"
      ]
     },
     "execution_count": 115,
     "metadata": {},
     "output_type": "execute_result"
    },
    {
     "data": {
      "image/png": "[encoded data removed]",
      "text/plain": [
       "<Figure size 504x360 with 1 Axes>"
      ]
     },
     "metadata": {
      "needs_background": "light"
     },
     "output_type": "display_data"
    },
    {
     "data": {
      "image/png": "[encoded data removed]",
      "text/plain": [
       "<Figure size 504x360 with 1 Axes>"
      ]
     },
     "metadata": {
      "needs_background": "light"
     },
     "output_type": "display_data"
    }
   ],
   "source": [
    "# In terms of objective value (logarithmic scale)\n",
    "plt.figure(figsize=(7, 5))\n",
    "plt.semilogy(objs2, label=\"w init w02\", lw=2)\n",
    "for i in range(len(c_values)):\n",
    "  plt.semilogy(objs_c[i], label=\"c =\"+str(c_values[i]), lw=2)\n",
    "\n",
    "\n",
    "plt.title(\"Convergence plot\", fontsize=16)\n",
    "plt.xlabel(\"#iterations\", fontsize=14)\n",
    "plt.ylabel(\"Objective (log scale)\", fontsize=14)\n",
    "plt.legend()\n",
    "\n",
    "# In terms of distance to the optimum (logarithmic scale)\n",
    "plt.figure(figsize=(7, 5))\n",
    "plt.semilogy(nits_2, label=\"w init w02\", lw=2)\n",
    "for i in range(len(c_values)):\n",
    "  plt.semilogy(nits_c[i], label=\"c =\"+str(c_values[i]), lw=2)\n",
    "\n",
    "plt.title(\"Convergence plot\", fontsize=16)\n",
    "plt.xlabel(\"#iterations\", fontsize=14)\n",
    "plt.ylabel(\"Distance to the optimum (log scale)\", fontsize=14)\n",
    "plt.legend()"
   ]
  },
  {
   "cell_type": "markdown",
   "metadata": {
    "id": "qFZ10aN4rOKv"
   },
   "source": [
    "Pour voir l'influence du paramètre $c$ sur la méthode, nous fixons tous les autres paramètres et faisons varier les valeurs de $c$. Nous avons choisi de tester l'algorithme pour $c \\in \\{0.0000001,0.2,0.5,0.55,0.6\\}$. \n",
    "\n",
    "Ce que nous remarquons en terme de vitesse de convergence est que plus $c$ est petit moins l'algorithme fera d'itérations. Pour $c \\in [0,0.5]$, le nombre d'itérations est inférieur à 15 et les courbes sont très proches. Cependant dès que $c$ dépasse 0.5, le nombre d'itérations dépasse 25 comme le montre les plots pour $c = 0.55$ et $c = 0.6$. De plus, lorsque $c \\in ]0.5,1]$ on voit que la forme de la courbe change, en effet, elle stagne moins et a une décroissance plus lente. "
   ]
  },
  {
   "cell_type": "code",
   "execution_count": null,
   "metadata": {
    "id": "cVChS25ydzz2"
   },
   "outputs": [],
   "source": [
    "mu_values = [4,8,12,16]\n",
    "objs_mu = np.empty(len(mu_values), dtype=object)\n",
    "nits_mu = np.empty(len(mu_values), dtype=object)\n",
    "\n",
    "for i in range(len(mu_values)):\n",
    "  _,obj,nit  = globalized_newtons_method(f,f_grad, f_hess, w02, w_target,0.0001, mu_values[i], n_iter=1000, verbose = False)\n",
    "  objs_mu[i] = obj\n",
    "  nits_mu[i] = nit"
   ]
  },
  {
   "cell_type": "code",
   "execution_count": null,
   "metadata": {
    "colab": {
     "base_uri": "https://localhost:8080/",
     "height": 712
    },
    "id": "jV9r_be0eZ8t",
    "outputId": "a4899de6-790d-4ed6-aca6-6594b2798cf8"
   },
   "outputs": [
    {
     "data": {
      "text/plain": [
       "<matplotlib.legend.Legend at 0x7ff54ad9ab80>"
      ]
     },
     "execution_count": 117,
     "metadata": {},
     "output_type": "execute_result"
    },
    {
     "data": {
      "image/png": "[encoded data removed]",
      "text/plain": [
       "<Figure size 504x360 with 1 Axes>"
      ]
     },
     "metadata": {
      "needs_background": "light"
     },
     "output_type": "display_data"
    },
    {
     "data": {
      "image/png": "[encoded data removed]",
      "text/plain": [
       "<Figure size 504x360 with 1 Axes>"
      ]
     },
     "metadata": {
      "needs_background": "light"
     },
     "output_type": "display_data"
    }
   ],
   "source": [
    "# In terms of objective value (logarithmic scale)\n",
    "plt.figure(figsize=(7, 5))\n",
    "plt.semilogy(objs2, label=\"w init w02\", lw=2)\n",
    "for i in range(len(mu_values)):\n",
    "  plt.semilogy(objs_mu[i], label=\"mu =\"+str(mu_values[i]), lw=2)\n",
    "\n",
    "\n",
    "plt.title(\"Convergence plot\", fontsize=16)\n",
    "plt.xlabel(\"#iterations\", fontsize=14)\n",
    "plt.ylabel(\"Objective (log scale)\", fontsize=14)\n",
    "plt.legend()\n",
    "\n",
    "# In terms of distance to the optimum (logarithmic scale)\n",
    "plt.figure(figsize=(7, 5))\n",
    "plt.semilogy(nits_2, label=\"w init w02\", lw=2)\n",
    "for i in range(len(mu_values)):\n",
    "  plt.semilogy(nits_mu[i], label=\"mu =\"+str(mu_values[i]), lw=2)\n",
    "\n",
    "plt.title(\"Convergence plot\", fontsize=16)\n",
    "plt.xlabel(\"#iterations\", fontsize=14)\n",
    "plt.ylabel(\"Distance to the optimum (log scale)\", fontsize=14)\n",
    "plt.legend()"
   ]
  },
  {
   "cell_type": "markdown",
   "metadata": {
    "id": "c2XIgsp5vv9L"
   },
   "source": [
    "Pour voir l'influence du paramètre $\\mu$ sur la méthode, nous fixons tous les autres paramètres et faisons varier les valeurs de $\\mu$. Nous avons choisi de tester l'algorithme pour $\\mu \\in \\{4,8,12,16\\}$. Nous n'avons pas testé pour $\\mu = 1$ car cela conduirais à une boucle infinie dans la condition d'*Armijo*. \n",
    "\n",
    "Ce que nous remarquons en terme de vitesse de convergence est que plus $\\mu$ est petit moins l'algorithme fera d'itérations. Cependant, nous voyons que contrairement au paramètre $c$, le paramètre $\\mu$ n'entraîne pas une déformation de la courbe et il n'y a pas de saut en termes d'itérations en augmentant $\\mu$. \n",
    "\n",
    "Ainsi, $\\mu$ est nécessaire pour régulariser le problème et permettre à l'algorithme de vérifier certaines propriétés mais le choisir trop grand risque de rendre l'exécution plus lente. \n",
    "\n",
    "Évidemment, l'ensemble de ces conclusions sont liés à ce qu'on observe vis-à-vis de ce problème de *Rosenbrock*, sur un autre type de problème les conclusions peuvent être différentes."
   ]
  },
  {
   "cell_type": "markdown",
   "metadata": {
    "id": "GGlnWAQmo-W_"
   },
   "source": [
    "## <span style=\"color:rgb(139,0,0)\">Part 3 - Subsampling Newton-type methods</span>"
   ]
  },
  {
   "cell_type": "markdown",
   "metadata": {
    "id": "PYVtgGfC0Cdt"
   },
   "source": [
    "### <span style=\"color:rgb(139,0,0)\">Implementation 3.1</span>"
   ]
  },
  {
   "cell_type": "markdown",
   "metadata": {
    "id": "JLbzGm4-0Fuz"
   },
   "source": [
    "Dans cette partie, nous nous intéressons aux méthodes de Newton à sous-échantillonnage. Il s'agit d'un type de méthode qui s'adapte aux formules de machine learning. \n",
    "\n",
    "De plus, ce type de méthode de Newton peut être très utile dans le cas où le jeu de donnée est très volumineux. En effet, dans ce cas de figure il devient très difficile voir impossible de stocker en mémoire tous les calculs pour tous les points du dataset. \n",
    "\n",
    "Nous nous focaliserons sur les problèmes sous forme de somme finie : \n",
    "$$\n",
    "\\mathrm{minimize}_{w \\in \\mathbb{R}^d} \\, f(w) := \\frac{1}{n}\\sum_{i=1}^{n} f_i(w)\n",
    "$$\n",
    "\n",
    "L'itération $k$ de la méthode de Newton à sous-échantillonnage est donnée par :\n",
    "\n",
    "$$w_{k+1} = w_k + d_k, \\quad d_k = - \\left[ \\nabla^2 f_{S_k^H}(w_k) + \\gamma_k I \\right]^{-1} \\nabla f_{S_k}(w_k)$$\n",
    "\n",
    "avec :\n",
    "- $S_k$ et $S_k^H$ des ensembles d'indices aléatoires tirés dans $\\{1, . . . , n\\}$\n",
    "\n",
    "- $\\nabla f_{S_k}(w_k) = \\frac{1}{|S_k|}\\sum_{i \\in S_k} \\nabla f_i(w_k)$\n",
    "\n",
    "- $\\nabla^2 f_{S_k^H}(w_k)= \\frac{1}{|S_k^H|}\\sum_{i \\in S_k^H} \\nabla^2f_i(w_k)$\n",
    "\n",
    "$\n",
    "$\n",
    "\n",
    "\n",
    "*Remarques sur l'implémentation* :\n",
    "\n",
    "Dans cette partie, nous n'analysons plus les algorithmes en termes d'itérations mais en terme d'epochs. En effet, cette notion a beaucoup plus de sens pour comparer les vitesses de convergence de la méthode. \n",
    "\n",
    "Une epoch correspond au fait d'accéder à tous les points du jeu de donnée. Autrement dit, il s'agit d'une passe complète dans le jeu de donnée. Ainsi, cette notion est différente de l'itération qui correspond à une passe complète dans les données du batch. \n",
    "\n",
    "Dans l'implémentation de l'algorithme, il était donc nécessaire de prendre en compte cette nouvelle notion. \n",
    "\n",
    "La condition d'arrêt n'est plus le nombre d'itérations mais le nombre d'epochs. \n",
    "\n",
    "Nous utilisons la variable $k$ pour parcourir les epochs et la variable $x$ pour parcourir les itérations. \n",
    "\n",
    "Avant de rentrer dans la boucle principale, nous stockons dans une variable nommé $n\\_iter\\_per\\_epoch$ le nombre d'itérations nécessaires pour terminer une epoch, donnée par : $$n\\_iter\\_per\\_epoch = \\lceil \\frac{n}{|S_k|+|S_k^H|} \\rceil $$\n",
    "\n",
    "Effectivement, lors de chaque itération, il y a $|S_k|+|S_k^H|$ points du datasets auxquels on accède, d'où la formule pour le nombre d'itérations. \n",
    "\n",
    "Ainsi, à chaque fois que $x$ est multiple de $n\\_iter\\_per\\_epoch$ une epoch se termine. \n",
    "\n",
    "Une autre remarque sur la condition d'arrêt est l'ajout de la condition $nw < 10^{100}$. En effet, ne pas utiliser l'ensemble du dataset pour les calculs et choisir de façon aléatoire les points à utiliser fait que la convergence n'est pas totalement garantie et qu'il est possible de diverger. Dans cette situation, la condition $nw < 10^{100}$ permet de sortir de la boucle. "
   ]
  },
  {
   "cell_type": "code",
   "execution_count": 41,
   "metadata": {
    "id": "aI6r1v8sktvX"
   },
   "outputs": [],
   "source": [
    "def globalized_subsampling_newtons_method(w0, problem, w_target, c, mu, cardinal_s, cardinal_sh, n_epochs=100,with_replace=False,verbose=True): \n",
    "    \"\"\"\n",
    "        A code for globalized subsampling newton's method.\n",
    "        \n",
    "        Inputs:\n",
    "            w0: Initial vector\n",
    "            problem : Problem structure\n",
    "            w_target : Target vector\n",
    "            c : Real value between 0 and 1 used in the quadratic regularization\n",
    "            mu : Real value > 1 used in the quadratic regularization\n",
    "            cardinal_s : Size of Sk\n",
    "            cardinal_sh : Size of Sk^H\n",
    "            n_epochs: Number of epochs\n",
    "            with_replace : Boolean indicating whether components are drawn with or without replacement\n",
    "            verbose: Boolean value indicating whether the outcome of every iteration should be displayed\n",
    "            \n",
    "        Outputs:\n",
    "            w_output: Final iterate of the method\n",
    "            objvals : History of f values\n",
    "            normits : History of distances between iterates and target       \n",
    "    \"\"\"\n",
    "\n",
    "    # objective history\n",
    "    objvals = []\n",
    "\n",
    "    # iterates distance to the minimum history\n",
    "    normits = []\n",
    "    \n",
    "    # Initial value of current iterate   \n",
    "    w = w0.copy()\n",
    "    nw = norm(w)\n",
    "\n",
    "    # Initialize epoch counter\n",
    "    k=1\n",
    "\n",
    "    # Current objective\n",
    "    obj = problem.fun(w) \n",
    "    objvals.append(obj);\n",
    "\n",
    "    # Current distance to the optimum\n",
    "    nmin = norm(w-w_target)\n",
    "    normits.append(nmin)\n",
    "\n",
    "    n = problem.n\n",
    "    dimension = problem.d\n",
    "\n",
    "    if verbose:\n",
    "      print(\"Newton's method :\")\n",
    "      print(' | '.join([name.center(8) for name in [\"iter\", \"fval\", \"dist\"]]))\n",
    "      print(' | '.join([(\"%d\" % k).rjust(8),(\"%.2e\" % obj).rjust(8),(\"%.2e\" % nmin).rjust(8)]))\n",
    "\n",
    "    ####################\n",
    "    # Main loop\n",
    "    \n",
    "    # Initialize iteration counter\n",
    "    x = 0\n",
    "\n",
    "    #Compute the number of iterations needed to achieve 1 epoch\n",
    "    n_iter_per_epoch = int((n/(cardinal_sh+cardinal_s)))+1\n",
    "\n",
    "    while (k <= n_epochs and nw < 10**100):\n",
    "\n",
    "      ik = np.random.choice(n,cardinal_s,replace=with_replace)\n",
    "      sg =  np.zeros(dimension)\n",
    "      for j in range(cardinal_s):\n",
    "        g_j = problem.grad_i(ik[j],w)\n",
    "        sg = sg + g_j\n",
    "      \n",
    "      first_order_subsampling = (1/cardinal_s)*sg\n",
    "\n",
    "      ikh = np.random.choice(n,cardinal_sh,replace=with_replace)\n",
    "      sgh =  np.zeros((dimension,dimension))\n",
    "    \n",
    "      for j in range(cardinal_sh):\n",
    "        g_2_j = problem.grad_2_i(ikh[j],w)\n",
    "        sgh = sgh + g_2_j\n",
    "      \n",
    "      second_order_subsampling = (1/cardinal_sh)*sgh\n",
    "\n",
    "      eigen_values = np.linalg.eigvals(second_order_subsampling)\n",
    "      min_eigen_values = np.min(eigen_values)\n",
    "\n",
    "      gamma_k = mu * max(-min_eigen_values,1e-10)\n",
    "      d1 = -np.linalg.inv(second_order_subsampling + gamma_k  * np.identity(np.shape(w)[0])) \n",
    "      d = np.dot(d1,first_order_subsampling)\n",
    "\n",
    "      f_w_d = 0\n",
    "      w_d = w+d\n",
    "      for j in range(cardinal_s):\n",
    "        f_j = problem.f_i(ik[j],w_d)\n",
    "        f_w_d = f_w_d + f_j\n",
    "      f_w_d = (1/cardinal_s)*f_w_d\n",
    "\n",
    "\n",
    "      f_w = 0\n",
    "      for j in range(cardinal_s):\n",
    "        f_j = problem.f_i(ik[j],w)\n",
    "        f_w = f_w + f_j\n",
    "      f_w = (1/cardinal_s)*f_w\n",
    "\n",
    "      term2 = f_w + c*np.dot((d.T),first_order_subsampling)\n",
    "\n",
    "      while(f_w_d >= term2):\n",
    "        gamma_k = mu * gamma_k\n",
    "        d1 = -np.linalg.inv(second_order_subsampling + gamma_k  * np.identity(np.shape(w)[0])) \n",
    "        d = np.dot(d1,first_order_subsampling) \n",
    "        f_w_d = 0\n",
    "        w_d = w+d\n",
    "        for j in range(cardinal_s):\n",
    "          f_j = problem.f_i(ik[j],w+d)\n",
    "          f_w_d = f_w_d + f_j\n",
    "        f_w_d = (1/cardinal_s)*f_w_d\n",
    "\n",
    "        term2 = f_w + c*np.dot((d.T),first_order_subsampling)\n",
    "\n",
    "      w[:] = w + d\n",
    "      nw = norm(w)\n",
    "      obj = problem.fun(w)\n",
    "      nmin = norm(w-w_target)\n",
    "      \n",
    "      x+=1\n",
    "\n",
    "      # Plot quantities of interest at the end of every epoch only\n",
    "      if (x%(k*n_iter_per_epoch)==0):\n",
    "          objvals.append(obj)\n",
    "          normits.append(nmin)\n",
    "          if verbose:\n",
    "              print(' | '.join([(\"%d\" % k).rjust(8),(\"%.2e\" % obj).rjust(8),(\"%.2e\" % nmin).rjust(8)])) \n",
    "          k+=1   \n",
    "\n",
    "    # Output\n",
    "    w_output = w.copy()\n",
    "    return w_output, np.array(objvals), np.array(normits)"
   ]
  },
  {
   "cell_type": "markdown",
   "metadata": {
    "id": "XoUgCAyKJhP2"
   },
   "source": [
    "### <span style=\"color:rgb(139,0,0)\"> Question 3.1</span>"
   ]
  },
  {
   "cell_type": "markdown",
   "metadata": {
    "id": "K7ovZQz4KIPY"
   },
   "source": [
    "Nous cherchons dans cette partie à appliquer notre méthode de Newton à sous échantillonnage sur le problème de régression logistique définit par :\n",
    "$$\n",
    "    \\mathrm{minimize}_{\\mathbf{w} \\in \\mathbb{R}^d} f(w) \n",
    "    := \\frac{1}{n} \\sum_{i=1}^n f_i(\\mathbf{w}), \\qquad \n",
    "    f_i(\\mathbf{w})=\\log(1+\\exp(-y_i \\mathbf{x}_i^T \\mathbf{w}))\n",
    "$$\n",
    "$\n",
    "$\n",
    "\n",
    "Nous avons:\n",
    "$$\n",
    "    \\nabla f_i(\\mathbf{w}) = - \\frac{y_i}{1 + \\exp(y_i \\mathbf{x}_i^T \\mathbf{w})} \\mathbf{x}_i\n",
    "$$\n",
    "$\n",
    "$\n",
    "\n",
    "$$\n",
    "    \\nabla^2 f_i(\\mathbf{w}) = \\frac{\\exp(y_i \\mathbf{w}^T \\mathbf{x}_i)}{1 + \\exp(y_i \\mathbf{w}^T \\mathbf{x}_i)} \\mathbf{x}_i \\mathbf{x}_i^T\n",
    "$$\n",
    "\n",
    "\n",
    "\n",
    "\n",
    "\n"
   ]
  },
  {
   "cell_type": "markdown",
   "metadata": {
    "id": "ZcDrcH9ANqrW"
   },
   "source": [
    "La fonction *simu_linmodel()* ci-dessous a été reprise du Notebook 4 du cours et permet de générer les données. "
   ]
  },
  {
   "cell_type": "code",
   "execution_count": 3,
   "metadata": {
    "id": "2i55EiQFyOqj"
   },
   "outputs": [],
   "source": [
    "# Data generation.\n",
    "# This code is inspired by a generator proposed by A. Gramfort.\n",
    "\n",
    "def simu_linmodel(w, n, std=1., corr=0.5): \n",
    "    d = w.shape[0]\n",
    "    cov = toeplitz(corr ** np.arange(0, d))\n",
    "    X = multivariate_normal(np.zeros(d), cov, size=n)\n",
    "    noise = std * randn(n)\n",
    "    y = X.dot(w) + noise\n",
    "    return X, y"
   ]
  },
  {
   "cell_type": "markdown",
   "metadata": {
    "id": "BZInZfAoOI2n"
   },
   "source": [
    "La classe *RegPb()* permet d'instancier le problème de regression que nous avons présenté plus haut. Elle prends en paramètre une matrice $X$ de données, un vecteur $y$ et un scalaire $lbda$ qui est optionnel et qui permet de régulariser le problème. \n",
    "\n",
    "Au sein de cette classe, nous définissons les différentes fonctions dont nous avons besoin pour appliquer notre méthode de Newton sous échantillonné. \n",
    "\n",
    "Nous y retrouvons les méthodes suivantes :\n",
    "- $fun()$ qui calcule la valeur de la fonction objective.\n",
    "- $f\\_i()$ qui calcule la valeur partielle de la fonction objective pour un point donné.\n",
    "- $grad()$ qui calcule le gradient complet de la fonction objective.\n",
    "- $grad\\_i()$ qui calcule le gradient partiel pour un point donné.\n",
    "- $grad\\_2()$ qui calcule la Hessienne complète de la fonction objective.\n",
    "- $grad\\_2\\_i$ qui calcule la Hessienne partielle pour un point donné.\n",
    "- $lipgrad()$ qui calcule la constante de Lipschitz pour le gradient de la fonction objective."
   ]
  },
  {
   "cell_type": "code",
   "execution_count": 4,
   "metadata": {
    "id": "J7D6U7FY0FEd"
   },
   "outputs": [],
   "source": [
    "# Python class for log regression problem\n",
    "class RegPb(object):\n",
    " \n",
    "    # Instantiate the class\n",
    "    def __init__(self, X, y,lbda=0):\n",
    "        self.X = X\n",
    "        self.y = y\n",
    "        self.n, self.d = X.shape\n",
    "        self.lbda = lbda\n",
    "        \n",
    "    # Objective value\n",
    "    def fun(self, w):\n",
    "          yXw = self.y * self.X.dot(w)\n",
    "          return np.mean(np.log(1. + np.exp(-yXw))) + self.lbda * norm(w) ** 2 / 2.\n",
    "    \n",
    "    # Partial objective value\n",
    "    def f_i(self, i, w):\n",
    "          y_i = self.y[i]\n",
    "          x_i = self.X[i]\n",
    "          yXwi = y_i * np.dot(x_i, w)\n",
    "          return np.log(1. + np.exp(- yXwi)) + self.lbda * norm(w) ** 2 / 2.\n",
    "    \n",
    "    # Full gradient computation\n",
    "    def grad(self, w):\n",
    "          yXw = self.y * self.X.dot(w)\n",
    "          aux = 1. / (1. + np.exp(yXw))\n",
    "          return - (self.X.T).dot(self.y * aux) / self.n + self.lbda * w\n",
    "    \n",
    "    # Partial gradient\n",
    "    def grad_i(self,i,w):\n",
    "        y_i = self.y[i]\n",
    "        x_i = self.X[i]\n",
    "        grad = - x_i * (y_i / (1. + np.exp(y_i* x_i.dot(w))))\n",
    "        grad += self.lbda * w\n",
    "        return grad\n",
    "\n",
    "    # Full second order gradient computation\n",
    "    def grad_2(self, w):\n",
    "        yXw = self.y * self.X.dot(w)\n",
    "        num = np.exp(yXw)\n",
    "        aux = (1. + num)**2\n",
    "        return ((self.X.T*(num/aux)).dot(self.X)) / self.n + self.lbda * np.eye(self.d)\n",
    "\n",
    "    # Partial second order gradient\n",
    "    def grad_2_i(self,i,w):\n",
    "        x_i = self.X[i]\n",
    "        y_i = self.y[i]\n",
    "        dot_product = x_i.dot(w)\n",
    "        exponent = np.exp(y_i * dot_product)\n",
    "        gradient = (exponent / ((1 + exponent) ** 2)) * np.outer(x_i,x_i.T)\n",
    "        gradient += self.lbda * np.eye(self.d)\n",
    "        return gradient\n",
    "\n",
    "    # Lipschitz constant for the gradient\n",
    "    def lipgrad(self):\n",
    "        L = 4*norm(self.X, ord=2) ** 2 / self.n + self.lbda\n",
    "        return L"
   ]
  },
  {
   "cell_type": "markdown",
   "metadata": {
    "id": "f90sXJrwPGXg"
   },
   "source": [
    "Nous générons ensuite les données. Nous utilisons le même jeu de données synthétique que celui dans le Lab4 du cours. \n",
    "\n",
    "Nous instancions ensuite le problème avec le jeu de données généré. "
   ]
  },
  {
   "cell_type": "code",
   "execution_count": 42,
   "metadata": {
    "id": "XMmNyl8LLmI5"
   },
   "outputs": [],
   "source": [
    "d = 50\n",
    "n = 1000\n",
    "idx = np.arange(d)\n",
    "lbda = 1. / n ** (0.5)\n",
    "\n",
    "# Fix random seed for reproducibility\n",
    "np.random.seed(0)\n",
    "\n",
    "# Ground truth coefficients of the model\n",
    "w_model_truth = (-1)**idx * np.exp(-idx / 10.)\n",
    "\n",
    "Xlog, ylog = simu_linmodel(w_model_truth, n, std=1., corr=0.7)\n",
    "ylog = np.sign(ylog) # Taking the logarithm for binary classification\n",
    "\n",
    "pblogreg = RegPb(Xlog, ylog,lbda)"
   ]
  },
  {
   "cell_type": "code",
   "execution_count": 43,
   "metadata": {
    "colab": {
     "base_uri": "https://localhost:8080/"
    },
    "id": "BpKL0UMXL3-1",
    "outputId": "26f69326-64d2-4bad-8bc3-d415629e9b86"
   },
   "outputs": [
    {
     "name": "stdout",
     "output_type": "stream",
     "text": [
      "0.5571363594573261\n",
      "3.4874231660361966e-09\n"
     ]
    }
   ],
   "source": [
    "# Use L-BFGS-B to determine a solution for both problems\n",
    "w_init = np.zeros(d)\n",
    "# Compute the optimal solution for logistic regression\n",
    "w_min_log, f_min_log, _ = fmin_l_bfgs_b(pblogreg.fun, w_init, pblogreg.grad, args=(), pgtol=1e-30, factr =1e-30)\n",
    "\n",
    "print(f_min_log)\n",
    "print(norm(pblogreg.grad(w_min_log)))"
   ]
  },
  {
   "cell_type": "markdown",
   "metadata": {
    "id": "6V-l1rG3QMuu"
   },
   "source": [
    "Pour comparer la méthode échantillonnée à la méthode régularisée de Newton nous avons procédés de la manière suivante:\n",
    "- Nous avons choisit un nombre d'epochs de *100* pour effectuer la comparaison. \n",
    "\n",
    "- Nous initialisons notre $w_0$ au vecteur nul de dimension d. \n",
    "- Pour appliquer la méthode régularisée de Newton à ce problème nous n'avons pas construit de nouvelle fonction. Effectivement, lorsque $|S_k|=|S_k^H|=n$ la méthode échantillonnée est équivalente à la méthode régularisée. Donc pour appliquer la méthode régularisée nous appelons la fonction $globalized\\_subsampling\\_newtons\\_method()$ avec $cardinal\\_s=cardinal\\_sh=1000$. \n",
    "- Nous avons choisit de tester la méthode échantillonnée avec les combinaisons de batchs suivantes $\\{(1,1),(20,50),(50,20),(500,200),(700,500),(700,100),(900,100)\\}$ où le premier élément de chaque couple correspond au $cardinal\\_s$ et le deuxième élément au $cardinal\\_sh$. L'idée derrière ces choix de batchs est de voir comment ces paramètres peuvent influencer la convergence, la précision, la variance ainsi que la complexité temporelle du modèle. \n",
    "- Nous appliquons les différentes méthodes avec comme paramètre $c=0.9$ et $\\mu=2$. Après plusieurs tests, nous avons opté pour cette combinaison de paramètres qui semble être la meilleure pour ce problème et ce jeu de données synthétiques. Nos tests ont révélé que lorsque $c$ est très petit (par exemple $c=0.0001$), l'algorithme reste longtemps dans la boucle de la condition d'Armijo, ce qui produit des valeurs exponentielles extrêmement grandes qui dépassent la plage de valeurs acceptables et provoquent l'erreur \"array must not contain infs or NaNs\". Grâce à notre choix de paramètres, nous n'avons plus rencontré ce genre de problème."
   ]
  },
  {
   "cell_type": "code",
   "execution_count": 44,
   "metadata": {
    "id": "PHPQwSQdVswd"
   },
   "outputs": [],
   "source": [
    "nb_epochs = 100\n",
    "n = pblogreg.n\n",
    "w0 = np.zeros(d)"
   ]
  },
  {
   "cell_type": "code",
   "execution_count": 47,
   "metadata": {
    "colab": {
     "base_uri": "https://localhost:8080/"
    },
    "id": "e_O_fNwya_-Z",
    "outputId": "00e11106-4e26-477d-eab7-2fcce5f1b6a1"
   },
   "outputs": [
    {
     "data": {
      "text/plain": [
       "array([ 0.90909888, -0.60632091,  0.64068899, -0.47924515,  0.31137472,\n",
       "       -0.20178056,  0.35911024, -0.33620308,  0.32800794, -0.30998931,\n",
       "        0.24112689, -0.17824247,  0.21754931, -0.13830616, -0.0097551 ,\n",
       "       -0.10693499,  0.03746829, -0.14357745,  0.22521611, -0.0813517 ,\n",
       "        0.16960446, -0.06278201,  0.01599086, -0.04415703,  0.065342  ,\n",
       "       -0.05814127,  0.05525224,  0.04185448,  0.05087131, -0.08394217,\n",
       "        0.06768791,  0.04045037,  0.04285379, -0.11972176,  0.04834777,\n",
       "        0.05040729, -0.13670345,  0.03753964,  0.03530385,  0.00851951,\n",
       "       -0.04785407, -0.078258  , -0.0842221 ,  0.00301204,  0.02883071,\n",
       "        0.09147033,  0.05415261, -0.04852474, -0.01425393, -0.07032371])"
      ]
     },
     "execution_count": 47,
     "metadata": {},
     "output_type": "execute_result"
    }
   ],
   "source": [
    "#Affichage de la solution du problème \n",
    "w_min_log"
   ]
  },
  {
   "cell_type": "code",
   "execution_count": 9,
   "metadata": {
    "colab": {
     "base_uri": "https://localhost:8080/"
    },
    "id": "SL3o3PwlFQ46",
    "outputId": "0149d2f9-2fd4-4fc8-e16e-e2dbefdc81f1"
   },
   "outputs": [
    {
     "name": "stdout",
     "output_type": "stream",
     "text": [
      "Résultat :  [ 0.90909712 -0.60631808  0.64068613 -0.47924242  0.31137202 -0.20177832\n",
      "  0.35910857 -0.33620191  0.32800685 -0.30998796  0.24112551 -0.17824142\n",
      "  0.21754861 -0.13830544 -0.00975582 -0.10693494  0.03746845 -0.14357738\n",
      "  0.22521543 -0.08135091  0.16960419 -0.06278196  0.01599133 -0.04415719\n",
      "  0.06534146 -0.05814029  0.05525101  0.04185576  0.05087033 -0.08394131\n",
      "  0.06768706  0.04045064  0.04285386 -0.11972167  0.04834787  0.05040704\n",
      " -0.13670331  0.03753964  0.03530399  0.0085193  -0.04785348 -0.07825861\n",
      " -0.08422192  0.00301228  0.02883027  0.09147047  0.05415269 -0.04852531\n",
      " -0.01425303 -0.0703242 ]\n"
     ]
    }
   ],
   "source": [
    "w_a, obj_a, nits_a = globalized_subsampling_newtons_method(w0, pblogreg,w_min_log, 0.9, 2, 1000, 1000, n_epochs=nb_epochs,with_replace=False,verbose=False)\n",
    "print(\"Résultat : \",w_a)"
   ]
  },
  {
   "cell_type": "code",
   "execution_count": 10,
   "metadata": {
    "colab": {
     "base_uri": "https://localhost:8080/"
    },
    "id": "s74W3VLBbRuN",
    "outputId": "2c59eb55-9be9-4a8c-8c73-503a04fea507"
   },
   "outputs": [
    {
     "name": "stdout",
     "output_type": "stream",
     "text": [
      "resultat :  [ 1.03747061e+00 -3.17083511e-01  6.45695442e-01 -3.00486288e-01\n",
      "  3.31367746e-01 -7.81590301e-02  2.75828703e-01 -2.52004544e-01\n",
      "  2.63581304e-01 -2.43491616e-01  2.42410005e-01 -3.34471286e-01\n",
      "  3.08954577e-01 -5.69694875e-02 -5.59653832e-02 -9.62071087e-02\n",
      "  3.05400252e-02 -8.40026041e-02  3.55276394e-01  1.57189288e-02\n",
      "  3.99347649e-01  7.89131014e-02  1.60730055e-01  8.92332735e-02\n",
      "  2.19769996e-02 -1.11811357e-01 -7.30033234e-02  1.43696904e-01\n",
      " -1.87225022e-02 -2.25622747e-02  4.37452732e-02  1.96483625e-01\n",
      "  1.18859962e-02 -1.45491001e-01 -7.68960735e-02  6.95143000e-02\n",
      " -1.91093684e-01  7.78498559e-02  9.93364239e-02  1.02797193e-01\n",
      " -1.88406748e-01 -2.05388408e-01 -1.03896325e-01  1.78934245e-01\n",
      "  4.18263582e-02  2.10570902e-01  1.30419419e-01  7.96194611e-02\n",
      "  8.60169576e-04 -1.95739273e-01]\n"
     ]
    }
   ],
   "source": [
    "w_b, obj_b, nits_b=globalized_subsampling_newtons_method(w0, pblogreg,w_min_log, 0.9, 2, 1, 1, n_epochs=nb_epochs,with_replace=False,verbose=False)\n",
    "print(\"resultat : \",w_b)"
   ]
  },
  {
   "cell_type": "code",
   "execution_count": 11,
   "metadata": {
    "colab": {
     "base_uri": "https://localhost:8080/"
    },
    "id": "P4brDH3_Kl1B",
    "outputId": "0b3c94ec-c568-4ba1-8759-50b7b1eb1a88"
   },
   "outputs": [
    {
     "name": "stdout",
     "output_type": "stream",
     "text": [
      "resultat :  [ 0.92023644 -0.64015344  0.6186072  -0.46816031  0.40154121 -0.22007265\n",
      "  0.42342184 -0.33632733  0.3402753  -0.3314382   0.31069632 -0.24368484\n",
      "  0.20568715 -0.12013663 -0.0100571  -0.0754678  -0.03395433 -0.16996295\n",
      "  0.30756535 -0.03841297  0.114116   -0.05692046  0.07772197 -0.03966207\n",
      "  0.12255784 -0.07047379  0.01012866  0.04553739 -0.02229904 -0.21300003\n",
      "  0.08709428  0.12274091  0.18376955 -0.08775452  0.14689762  0.01566347\n",
      " -0.10995865  0.05523364  0.04196988  0.0383179  -0.14552218 -0.20196519\n",
      " -0.08654331 -0.01282328  0.13614653  0.1511059   0.02733952 -0.09764041\n",
      "  0.00715739 -0.05857652]\n"
     ]
    }
   ],
   "source": [
    "w_c, obj_c, nits_c=globalized_subsampling_newtons_method(w0, pblogreg,w_min_log, 0.9, 2, 20, 50, n_epochs=nb_epochs,with_replace=False,verbose=False)\n",
    "print(\"resultat : \",w_c)"
   ]
  },
  {
   "cell_type": "code",
   "execution_count": 12,
   "metadata": {
    "colab": {
     "base_uri": "https://localhost:8080/"
    },
    "id": "uMV6urNlKqnB",
    "outputId": "9316475d-4e29-4f51-a1ca-d877598de70f"
   },
   "outputs": [
    {
     "name": "stdout",
     "output_type": "stream",
     "text": [
      "resultat :  [ 9.15660715e-01 -6.94320730e-01  6.03501472e-01 -4.61172393e-01\n",
      "  2.53478157e-01 -1.91075546e-01  3.47492237e-01 -3.97283568e-01\n",
      "  3.54675960e-01 -3.45060828e-01  2.56247276e-01 -1.29407212e-01\n",
      "  2.48785573e-01 -2.05006064e-01 -2.20958521e-04 -1.50517056e-01\n",
      " -6.53862661e-03 -1.31742995e-01  2.73747404e-01 -9.29035057e-02\n",
      "  1.68820619e-01 -1.21078769e-01  7.00887993e-02 -2.86663597e-02\n",
      "  4.65960149e-02 -3.38380705e-02  1.14380288e-01  8.84861236e-02\n",
      "  3.83086158e-02 -8.30720227e-02  5.91832265e-02 -5.95366179e-02\n",
      " -9.28881239e-05 -1.27426259e-01  5.70290125e-02 -1.07184301e-02\n",
      " -2.11599515e-01  8.64342346e-02  4.96207442e-02 -6.36656728e-02\n",
      " -7.73619719e-02 -4.27534738e-02 -1.37692964e-02 -7.14570425e-02\n",
      "  3.04092966e-02  9.61785058e-02  7.56199353e-02 -5.07306302e-02\n",
      " -7.11885996e-02 -1.55340654e-01]\n"
     ]
    }
   ],
   "source": [
    "w_d, obj_d, nits_d=globalized_subsampling_newtons_method(w0, pblogreg,w_min_log, 0.9, 2, 50, 20, n_epochs=nb_epochs,with_replace=False,verbose=False)\n",
    "print(\"resultat : \",w_d)"
   ]
  },
  {
   "cell_type": "code",
   "execution_count": 13,
   "metadata": {
    "colab": {
     "base_uri": "https://localhost:8080/"
    },
    "id": "ZNh7YdnUQMYI",
    "outputId": "c143f42e-2e81-4b17-a3de-86202864b9b6"
   },
   "outputs": [
    {
     "name": "stdout",
     "output_type": "stream",
     "text": [
      "resultat :  [ 0.89971292 -0.60617265  0.62468351 -0.47938414  0.32046116 -0.19361006\n",
      "  0.34616264 -0.34600199  0.33301049 -0.31783174  0.24379458 -0.17046833\n",
      "  0.19881517 -0.13684444 -0.01838273 -0.10546787  0.03133456 -0.14907323\n",
      "  0.24563415 -0.07648427  0.15920571 -0.06912864  0.01671915 -0.03660486\n",
      "  0.07414446 -0.06945352  0.04063692  0.02504054  0.04624499 -0.08391664\n",
      "  0.05549275  0.02680532  0.03535759 -0.1292781   0.03229556  0.04843121\n",
      " -0.12365464  0.03868912  0.0308089   0.00566254 -0.05953777 -0.0806811\n",
      " -0.10174259  0.00133806  0.0183745   0.08857721  0.03578499 -0.06044415\n",
      " -0.02472442 -0.06043196]\n"
     ]
    }
   ],
   "source": [
    "w_e, obj_e, nits_e=globalized_subsampling_newtons_method(w0, pblogreg,w_min_log, 0.9, 2, 500, 200, n_epochs=nb_epochs,with_replace=False,verbose=False)\n",
    "print(\"resultat : \",w_e)"
   ]
  },
  {
   "cell_type": "code",
   "execution_count": 14,
   "metadata": {
    "colab": {
     "base_uri": "https://localhost:8080/"
    },
    "id": "mE_ubmn-Q39d",
    "outputId": "36cfc550-f1a1-42df-b144-8de5149930b9"
   },
   "outputs": [
    {
     "name": "stdout",
     "output_type": "stream",
     "text": [
      "resultat :  [ 0.89629979 -0.55845023  0.60073217 -0.4439313   0.29271321 -0.19065752\n",
      "  0.3443534  -0.32072584  0.29813579 -0.29965816  0.22057193 -0.17483365\n",
      "  0.22093006 -0.13168772 -0.00690696 -0.10236145  0.03592192 -0.13906665\n",
      "  0.21433279 -0.06797923  0.17359433 -0.05677993  0.02102275 -0.04665953\n",
      "  0.06758165 -0.05771943  0.0422961   0.04451971  0.04425723 -0.0777249\n",
      "  0.07025117  0.04779571  0.04579129 -0.12569813  0.04517642  0.04097652\n",
      " -0.13747348  0.0462552   0.03827438  0.01558034 -0.05104854 -0.07738977\n",
      " -0.0802945   0.00810618  0.02512479  0.08363886  0.06347816 -0.05882628\n",
      " -0.02498644 -0.08528007]\n"
     ]
    }
   ],
   "source": [
    "w_f, obj_f, nits_f=globalized_subsampling_newtons_method(w0, pblogreg,w_min_log, 0.9, 2, 700, 500, n_epochs=nb_epochs,with_replace=False,verbose=False)\n",
    "print(\"resultat : \",w_f)"
   ]
  },
  {
   "cell_type": "code",
   "execution_count": 15,
   "metadata": {
    "colab": {
     "base_uri": "https://localhost:8080/"
    },
    "id": "5BM879d_sTJ6",
    "outputId": "fdbcbb97-cfcf-4c7f-d746-cba15cac76df"
   },
   "outputs": [
    {
     "name": "stdout",
     "output_type": "stream",
     "text": [
      "resultat :  [ 0.91406841 -0.60697342  0.6243563  -0.47986815  0.31819463 -0.20565997\n",
      "  0.36716531 -0.33273878  0.32261377 -0.31120434  0.2379697  -0.18618007\n",
      "  0.20635934 -0.13072518 -0.00639813 -0.11275508  0.0351187  -0.13914479\n",
      "  0.23667636 -0.07330464  0.17198807 -0.07032672  0.00549662 -0.05119412\n",
      "  0.06140797 -0.06459487  0.05058074  0.04077849  0.05134166 -0.07774322\n",
      "  0.07364961  0.05268507  0.03593456 -0.12269601  0.02995913  0.04184433\n",
      " -0.13531172  0.04593765  0.0404875   0.01378751 -0.04156611 -0.08852251\n",
      " -0.0868427  -0.00488577  0.03415842  0.10186439  0.04304165 -0.05437705\n",
      " -0.01005945 -0.05805574]\n"
     ]
    }
   ],
   "source": [
    "w_g, obj_g, nits_g=globalized_subsampling_newtons_method(w0, pblogreg,w_min_log, 0.9, 2, 700, 100, n_epochs=nb_epochs,with_replace=False,verbose=False)\n",
    "print(\"resultat : \",w_g)"
   ]
  },
  {
   "cell_type": "code",
   "execution_count": 16,
   "metadata": {
    "colab": {
     "base_uri": "https://localhost:8080/"
    },
    "id": "p4i0BxCpXX0Y",
    "outputId": "5c5c5b38-9b2c-4963-d813-1b5bf4d13349"
   },
   "outputs": [
    {
     "name": "stdout",
     "output_type": "stream",
     "text": [
      "resultat :  [ 0.91039399 -0.59881451  0.63655049 -0.47903716  0.31316915 -0.19844538\n",
      "  0.35470083 -0.33658329  0.32040102 -0.31518235  0.23558333 -0.18152063\n",
      "  0.21887989 -0.14143011 -0.01692233 -0.10892451  0.04459229 -0.14149906\n",
      "  0.22563546 -0.08376677  0.17229898 -0.05749225  0.0150475  -0.0459218\n",
      "  0.06690091 -0.05711654  0.05517068  0.04174427  0.05944858 -0.08469373\n",
      "  0.06642901  0.03637874  0.04117757 -0.12201527  0.04593848  0.04935442\n",
      " -0.13665403  0.03588526  0.03798366  0.01330191 -0.0461544  -0.07907687\n",
      " -0.0817162   0.0032501   0.02734734  0.08633262  0.05063357 -0.04905156\n",
      " -0.01029011 -0.0819583 ]\n"
     ]
    }
   ],
   "source": [
    "w_h, obj_h, nits_h=globalized_subsampling_newtons_method(w0, pblogreg,w_min_log, 0.9, 2, 900, 100, n_epochs=nb_epochs,with_replace=False,verbose=False)\n",
    "print(\"resultat : \",w_h)"
   ]
  },
  {
   "cell_type": "code",
   "execution_count": 46,
   "metadata": {
    "colab": {
     "base_uri": "https://localhost:8080/",
     "height": 373
    },
    "id": "dqPVeQNiZbq5",
    "outputId": "fc30c3b4-5b51-499d-d5ec-ec2811110030"
   },
   "outputs": [
    {
     "data": {
      "text/plain": [
       "<matplotlib.legend.Legend at 0x7f221c7b8d60>"
      ]
     },
     "execution_count": 46,
     "metadata": {},
     "output_type": "execute_result"
    },
    {
     "data": {
      "image/png": "[encoded data removed]",
      "text/plain": [
       "<Figure size 504x360 with 1 Axes>"
      ]
     },
     "metadata": {
      "needs_background": "light"
     },
     "output_type": "display_data"
    }
   ],
   "source": [
    "# In terms of objective value (logarithmic scale)\n",
    "plt.figure(figsize=(7, 5))\n",
    "plt.semilogy(obj_a-f_min_log, label=\"RN\", lw=2)\n",
    "plt.semilogy(obj_b-f_min_log, label=\"SN11\", lw=2)\n",
    "plt.semilogy(obj_d-f_min_log, label=\"SN5020\", lw=2)\n",
    "plt.semilogy(obj_f-f_min_log, label=\"SN700500\", lw=2)\n",
    "plt.semilogy(obj_g-f_min_log, label=\"SN700100\", lw=2)\n",
    "plt.semilogy(obj_h-f_min_log, label=\"SN900100\", lw=2)\n",
    "plt.title(\"Convergence plot\", fontsize=16)\n",
    "plt.xlabel(\"#epochs\", fontsize=14)\n",
    "plt.ylabel(\"Objective (log scale)\", fontsize=14)\n",
    "plt.legend()"
   ]
  },
  {
   "cell_type": "markdown",
   "metadata": {
    "id": "Uw640IlqQyZI"
   },
   "source": [
    "#### Observation \n",
    "\n",
    "Nous pouvons analyser les résultats sur différents plans:\n",
    "\n",
    "- Sur le plan de la précision:\n",
    "\n",
    "Nous pouvons voir à travers les résultats ainsi que le plot que certaines méthodes sont beaucoup plus proches de la solution que d'autres. On voit que la méthode de Newton régularisé est la plus proche de la solution et qu'elle a un grand écart avec les méthodes sous échantillonnées. \n",
    "\n",
    "Sa courbe est également différente des autres, elle est linéaire tandis que celles des autres sont plus bruitées. La variance des méthodes sous-échantillonnés s'explique par le fait qu'à chaque itération de nouveaux points sont choisis pour réaliser les calculs. Les tailles des batchs ont également une influence sur la variance. Effectivement, nous constatons que plus $cardinal\\_sh$ est grand plus la courbe est lisse. En regardant le plot, nous voyons par exemple que la courbe *SN700500* est beaucoup plus lisse que les autres.\n",
    "\n",
    "Un autre point que nous remarquons sur l'influence de la taille des batchs  est que la méthode est plus performante lorsqu'elle $cardinal\\_s >> cardinal\\_sh$. Par exemple, la modèle lié à la courbe *SN900100* est meilleur que celui avec *SN700500* qui est lui même meilleur que *SN700100*.\n",
    "\n",
    "Ainsi, si nous comparons les modèles en terme de précision nous dirons que la méthode régularisée est meilleure que la méthode sous-échantillonnée à partir de la 20ème epoch. Parmi les méthodes sous-échantillonnées celle avec $cardinal\\_s = 900$ et $cardinal\\_sh = 100$ est la meilleure et celle avec $cardinal\\_s = 1$ et $cardinal\\_sh = 1$ est la moins bonne. \n",
    "\n",
    "- Sur le plan de la convergence:\n",
    "\n",
    "En regardant le plot, nous voyons que la méthode régularisée converge vers la fonction de valeur optimale mais que les méthodes sous échantillonnées semblent stagner après un certain nombre d'epochs sur une valeur maximale qu'ils peuvent atteindre. \n",
    "\n",
    "- Sur le plan de la complexité temporelle:\n",
    "\n",
    "Étant donné que dans cette partie nous traitons avec un ensemble de données plus grand, nous avons décidé de comparer les performances en terme de complexité temporelle, qui est également un paramètre important dans le choix d'un algorithme. Nous avons relevé le temps d'éxécution de chaque modèle et obtenons: \n",
    "\n",
    "  *RN* : 1min12s\n",
    "\n",
    "  *SN11* : 5min17s\n",
    "\n",
    "  *SN2050* : 36s\n",
    "\n",
    "  *SN5020* : 1min6s\n",
    "\n",
    "  *SN500200* : 1min15s\n",
    "\n",
    "  *SN700500* : 53s\n",
    "\n",
    "  *SN700100* : 1min42s\n",
    "\n",
    "  *SN900100* : 2min11s\n",
    "\n",
    "On a essentiellement des résultats attendus comme le fait que *SN11* soit le plus lent étant donné le nombre d'itérations nécessaires pour terminer une epoch. De même, pour *SN2050* et *SN5020*, on s'attend à un tel résultat car pour ces deux élements on a besoin du même nombre d'itérations pour finir une epoch mais une itération de *SN5020* sera plus longue. Effectivement, à chaque itération, l'ensemble $S_k$ est utilisé à trois reprises pour faire des calculs tandis que l'ensemble $S_k^H$ est utilisé uniquement pour calculer la hessienne. Donc logiquement plus $|S_k|$ est grand plus le temps s'alonge. Ainsi, le temps d'exécution est fortement dépendant de la taille des batchs. "
   ]
  },
  {
   "cell_type": "markdown",
   "metadata": {
    "id": "F5W2EfJxpp52"
   },
   "source": [
    "### <span style=\"color:rgb(139,0,0)\"> Question 3.2</span>"
   ]
  },
  {
   "cell_type": "markdown",
   "metadata": {
    "id": "fQ_YW5Rwq7N2"
   },
   "source": [
    "Comparons désormais notre meilleure méthode sous-échantillonnée à la méthode de gradient stochastique par lots dont l'itération $k$ est donnée par:\n",
    "\n",
    "$$w_{k+1}= w_k - \\frac{\\alpha_k}{|S_k|}\\sum_{i \\in S_k} \\nabla f_i(w_k)$$\n",
    "\n",
    "avec:\n",
    "- $S_k$ un ensemble d'indices aléatoires tirés dans $\\{1, . . . , n\\}$\n",
    "- $\\alpha_k$ le paramètre d'apprentissage. Dans notre problème nous le choisirons constant et proportionnel à $\\frac{1}{L}$ où $L=4\\frac{\\|\\mathbf{X} \\mathbf{X}^T\\|}{n}+\\lambda$."
   ]
  },
  {
   "cell_type": "code",
   "execution_count": 48,
   "metadata": {
    "id": "nSKz07mIkzVX"
   },
   "outputs": [],
   "source": [
    "#Batch stochastic gradient \n",
    "\n",
    "def batch_stochastique_grad(w0,problem,wtarget,n_epochs=100,cardinal_s=1,coef_mult=1,with_replace=False,verbose=False): \n",
    "    \"\"\"\n",
    "        A code for batch stochastique gradient.\n",
    "        \n",
    "        Inputs:\n",
    "            w0: Initial vector\n",
    "            problem: Problem structure\n",
    "            wtarget: Solution vector\n",
    "            coef_mult : Multiplier of 1/L to determine the learning rate\n",
    "            n_epochs: Number of epochs, used as stopping criterion\n",
    "            cardinal_s: Size of Sk\n",
    "            with_replace: Boolean indicating whether components are drawn with or without replacement\n",
    "            verbose: Boolean indicating whether information should be plot at every iteration\n",
    "            \n",
    "        Outputs:\n",
    "            w_output: Final iterate of the method\n",
    "            objvals : History of f values\n",
    "            normits : History of distances between iterates and target      \n",
    "    \"\"\"\n",
    "\n",
    "    # objective history\n",
    "    objvals = []\n",
    "    \n",
    "    # iterates distance to the minimum history\n",
    "    normits = []\n",
    "    \n",
    "    # Lipschitz constant\n",
    "    L = problem.lipgrad()\n",
    "    \n",
    "    # Number of samples\n",
    "    n = problem.n\n",
    "    dimension = problem.d\n",
    "    \n",
    "    # Initial value of current iterate  \n",
    "    w = w0.copy()\n",
    "    nw = norm(w)\n",
    "\n",
    "    # Initialize epoch counter\n",
    "    k=1\n",
    "    \n",
    "    # Current objective\n",
    "    obj = problem.fun(w) \n",
    "    objvals.append(obj);\n",
    "    # Current distance to the optimum\n",
    "    nmin = norm(w-wtarget)\n",
    "    normits.append(nmin)\n",
    "    \n",
    "    if verbose:\n",
    "        # Plot initial quantities of interest\n",
    "        print(\"Stochastic Gradient, batch size=\",cardinal_s,\"/\",n)\n",
    "        print(' | '.join([name.center(8) for name in [\"iter\", \"fval\", \"normit\"]]))\n",
    "        print(' | '.join([(\"%d\" % k).rjust(8),(\"%.2e\" % obj).rjust(8),(\"%.2e\" % nmin).rjust(8)]))\n",
    "    \n",
    "    ################\n",
    "    # Main loop\n",
    "    #nb iterations\n",
    "    x = 0\n",
    "    n_iter_per_epoch =int(n/cardinal_s)\n",
    "\n",
    "    while (k < n_epochs and nw < 10**100):\n",
    "        # Draw the batch indices\n",
    "        ik = np.random.choice(n,cardinal_s,replace=with_replace)# Batch gradient\n",
    "        # Stochastic gradient calculation\n",
    "        sg = np.zeros(dimension)\n",
    "        for j in range(cardinal_s):\n",
    "            gi = problem.grad_i(ik[j],w)\n",
    "            sg = sg + gi\n",
    "        sg = (1/cardinal_s)*sg\n",
    "            \n",
    "        w[:] = w - (coef_mult/L) * sg\n",
    "        \n",
    "        nw = norm(w) #Computing the norm to measure divergence \n",
    "\n",
    "        obj = problem.fun(w)\n",
    "        nmin = norm(w-wtarget)\n",
    "        \n",
    "        x += 1\n",
    "        # Plot quantities of interest at the end of every epoch only\n",
    "        if ((x % k*n_iter_per_epoch) == 0):\n",
    "            objvals.append(obj)\n",
    "            normits.append(nmin)\n",
    "            if verbose:\n",
    "                print(' | '.join([(\"%d\" % k).rjust(8),(\"%.2e\" % obj).rjust(8),(\"%.2e\" % nmin).rjust(8)]))    \n",
    "            k+=1           \n",
    "    \n",
    "    # Outputs\n",
    "    w_output = w.copy()\n",
    "    \n",
    "    return w_output, np.array(objvals), np.array(normits)"
   ]
  },
  {
   "cell_type": "code",
   "execution_count": 50,
   "metadata": {
    "colab": {
     "base_uri": "https://localhost:8080/"
    },
    "id": "h78mYGcvIv6L",
    "outputId": "d79d0afb-092f-47a7-eff5-f57c6c658fac"
   },
   "outputs": [
    {
     "name": "stdout",
     "output_type": "stream",
     "text": [
      "resultat :  [ 0.88044474 -0.56729651  0.59955411 -0.43854567  0.28080605 -0.17538091\n",
      "  0.32755877 -0.319139    0.31076122 -0.28632951  0.21479524 -0.16654582\n",
      "  0.20640905 -0.12735275 -0.02401739 -0.09850409  0.03591236 -0.13189623\n",
      "  0.21806327 -0.06636224  0.16089795 -0.06220288  0.02041466 -0.04472963\n",
      "  0.054977   -0.05448101  0.0424345   0.04646014  0.04599557 -0.08034609\n",
      "  0.06054376  0.04403402  0.03925249 -0.12030066  0.05295029  0.04317219\n",
      " -0.13167753  0.04221992  0.03316772  0.00916858 -0.04629695 -0.07960724\n",
      " -0.08483615  0.00630177  0.03418716  0.09465582  0.05395472 -0.05396011\n",
      " -0.01002848 -0.07479699]\n"
     ]
    }
   ],
   "source": [
    "w_batch_sto_grad_1, obj_batch_sto_grad_1, nits_batch_sto_grad_1= batch_stochastique_grad(w0,pblogreg,w_min_log,n_epochs=100,cardinal_s=900,coef_mult=10,with_replace=False,verbose=False)\n",
    "print(\"resultat : \",w_batch_sto_grad_1)"
   ]
  },
  {
   "cell_type": "code",
   "execution_count": 51,
   "metadata": {
    "colab": {
     "base_uri": "https://localhost:8080/"
    },
    "id": "zdDNOXBpVXLs",
    "outputId": "e78cd36d-333a-436c-ee3e-a5653405f6ff"
   },
   "outputs": [
    {
     "name": "stdout",
     "output_type": "stream",
     "text": [
      "resultat :  [ 0.7855808  -0.42471849  0.4825585  -0.3494946   0.20909099 -0.12258406\n",
      "  0.27427243 -0.25809793  0.25639836 -0.23541872  0.17531825 -0.12674811\n",
      "  0.16584624 -0.09955008 -0.02888089 -0.10347355  0.01792634 -0.11446901\n",
      "  0.17598104 -0.03719545  0.14955908 -0.04712869  0.02305867 -0.04436167\n",
      "  0.04556167 -0.02916059  0.03372648  0.0480831   0.04165529 -0.06235357\n",
      "  0.04171562  0.04448291  0.03838221 -0.09662783  0.04342728  0.02804762\n",
      " -0.12075245  0.03657285  0.03421545  0.01166407 -0.03434513 -0.08758086\n",
      " -0.08424364 -0.00353482  0.02926306  0.09213746  0.05164781 -0.04961233\n",
      " -0.00906235 -0.07786505]\n"
     ]
    }
   ],
   "source": [
    "w_batch_sto_grad_2, obj_batch_sto_grad_2, nits_batch_sto_grad_2= batch_stochastique_grad(w0,pblogreg,w_min_log,n_epochs=100,cardinal_s=900,coef_mult=5,with_replace=False,verbose=False)\n",
    "print(\"resultat : \",w_batch_sto_grad_2)"
   ]
  },
  {
   "cell_type": "code",
   "execution_count": 52,
   "metadata": {
    "colab": {
     "base_uri": "https://localhost:8080/"
    },
    "id": "mNpTHI4CVYUo",
    "outputId": "85100171-b1e4-4ca7-fcec-d3373505946e"
   },
   "outputs": [
    {
     "name": "stdout",
     "output_type": "stream",
     "text": [
      "resultat :  [ 0.40726311 -0.05187625  0.2124377  -0.08707263  0.07692815 -0.01368769\n",
      "  0.10395763 -0.08028468  0.0969539  -0.06775324  0.0576838  -0.03494371\n",
      "  0.0547231  -0.03596055 -0.03761197 -0.07742342 -0.02161095 -0.0406981\n",
      "  0.07043393  0.01849069  0.08703186  0.00138303  0.02231325 -0.01162251\n",
      "  0.01243463 -0.00080808  0.02047147  0.03381083  0.03074748 -0.00949394\n",
      "  0.01784946  0.03328898  0.02240224 -0.02974455  0.0189579   0.00346482\n",
      " -0.05701786  0.01631166  0.01501977  0.00272451 -0.0270052  -0.05848478\n",
      " -0.05392636 -0.01391853  0.02312502  0.054494    0.02668967 -0.02387187\n",
      " -0.01054106 -0.04759931]\n"
     ]
    }
   ],
   "source": [
    "w_batch_sto_grad_3, obj_batch_sto_grad_3, nits_batch_sto_grad_3= batch_stochastique_grad(w0,pblogreg,w_min_log,n_epochs=100,cardinal_s=900,coef_mult=1,with_replace=False,verbose=False)\n",
    "print(\"resultat : \",w_batch_sto_grad_3)"
   ]
  },
  {
   "cell_type": "code",
   "execution_count": 54,
   "metadata": {
    "colab": {
     "base_uri": "https://localhost:8080/",
     "height": 373
    },
    "id": "MVEtEcjNc90F",
    "outputId": "a8da7f5a-cb17-4781-ce9b-57dc3a8f7d06"
   },
   "outputs": [
    {
     "data": {
      "text/plain": [
       "<matplotlib.legend.Legend at 0x7f221c9a3a00>"
      ]
     },
     "execution_count": 54,
     "metadata": {},
     "output_type": "execute_result"
    },
    {
     "data": {
      "image/png": "[encoded data removed]",
      "text/plain": [
       "<Figure size 504x360 with 1 Axes>"
      ]
     },
     "metadata": {
      "needs_background": "light"
     },
     "output_type": "display_data"
    }
   ],
   "source": [
    "# In terms of objective value (logarithmic scale)\n",
    "plt.figure(figsize=(7, 5))\n",
    "plt.semilogy(obj_h-f_min_log, label=\"SN900100\", lw=2)\n",
    "plt.semilogy(obj_batch_sto_grad_1-f_min_log, label=\"BatchSG alpha = 10/L\", lw=2)\n",
    "plt.semilogy(obj_batch_sto_grad_2-f_min_log, label=\"BatchSG alpha = 5/L\", lw=2)\n",
    "plt.semilogy(obj_batch_sto_grad_3-f_min_log, label=\"BatchSG alpha = 1/L\", lw=2)\n",
    "\n",
    "plt.title(\"Convergence plot\", fontsize=16)\n",
    "plt.xlabel(\"#epochs\", fontsize=14)\n",
    "plt.ylabel(\"Objective (log scale)\", fontsize=14)\n",
    "plt.legend()"
   ]
  },
  {
   "cell_type": "markdown",
   "metadata": {
    "id": "0_C8AMEqx5a2"
   },
   "source": [
    "#### Observation\n",
    "Pour comparer la méthode du gradient stochastique par lot à notre méthode de Newton sous échantillonnée, nous l'appliquons à la taille de lot 900 qui correspond aux $max\\{|S_k|,|S_k^H|\\}$de notre meilleure modèle de Newton sous-échantillonnée. \n",
    "\n",
    "Nous avons appliqué la méthode sur trois pas $\\alpha$ différents pour voir l'influence du pas d'apprentissage sur la méthode par rapport à notre problème. Nous voyons que plus $\\alpha$ est grand plus la méthode converge rapidement. Mais nous voyons également que plus $\\alpha$ est grand plus la courbe devient bruitée au fil des epochs. \n",
    "\n",
    "En regardant le plot, nous voyons que les méthodes de gradient stochastiques convergent vers la fonction de valeur optimale mais il leurs faudra plus d'epochs avant qu'ils ne trouvent la bonne fonction de valeur. Leur convergence est lente mais semble garantit au vue des courbes qui décroient de manière lente mais monotone. \n",
    "\n",
    "Maintenant, si nous comparons la méthode à notre meilleure méthode de Newton sous échantillonnée, nous voyons que la courbe de la méthode de Newton décroit plus rapidement que les autres. Cependant, comme nous l'avons vu plus haut, la courbe semble stagner à partir de la 80ème epoch. Il se peut ainsi qu'en augmentant le nombre d'epoch, que les courbes de la méthode de gradient finissent par aller en dessous de celle de la méthode de Newton sous échantillonnée. "
   ]
  },
  {
   "cell_type": "markdown",
   "metadata": {
    "id": "Vsq_3jWgWaeX"
   },
   "source": [
    "## <span style=\"color:rgb(139,0,0)\">Part 4 - Binary classification on real-world data</span>"
   ]
  },
  {
   "cell_type": "markdown",
   "metadata": {
    "id": "8-k0YxPE3AYM"
   },
   "source": [
    "### <span style=\"color:rgb(139,0,0)\">Implementation 4.1</span>"
   ]
  },
  {
   "cell_type": "markdown",
   "metadata": {
    "id": "vMOQVK-E4AqQ"
   },
   "source": [
    "Dans cette partie, nous appliquons l'ensemble des techniques vues sur un problème de classification basé sur des données réelles. \n",
    "\n",
    "Nous avons choisit d'appliquer nos techniques sur le jeu de donnée *ijcnn1* composé de 22 features, de 49 990 données d'entrainement et de 91 701 données de tests. Chaque exemple est constitué d'un vecteur de caractéristiques et d'une étiquette de classe correspondantes. \n",
    "\n",
    "Nous avons récupéré le jeu de donnée sur https://www.csie.ntu.edu.tw/~cjlin/libsvmtools/datasets/ \n",
    "\n",
    "\n",
    "Dans le code ci-dessous :\n",
    "\n",
    "- Nous chargeons le jeu de données à l'aide de la fonction $load\\_svmlight\\_file()$ de la bibliothèque $scikit-learn$. \n",
    "\n",
    "- Nous analysons la structure des données et convertissons ces dernières dans le format que nous souhaitons."
   ]
  },
  {
   "cell_type": "code",
   "execution_count": 2,
   "metadata": {
    "colab": {
     "base_uri": "https://localhost:8080/"
    },
    "id": "PHJdDRVUWZoB",
    "outputId": "0f175865-a883-424d-d7b3-311793b716a4"
   },
   "outputs": [
    {
     "name": "stdout",
     "output_type": "stream",
     "text": [
      "________________________________________________________________________________\n",
      "[Memory] Calling __main__--var-folders-b4-qm1pwtkx2m3_x2x185cvrv6c0000gn-T-ipykernel-2856542288.get_data...\n",
      "get_data()\n",
      "_________________________________________________________get_data - 0.4s, 0.0min\n"
     ]
    }
   ],
   "source": [
    "from joblib import Memory\n",
    "from sklearn.datasets import load_svmlight_file\n",
    "mem = Memory(\"./mycache\")\n",
    "\n",
    "@mem.cache\n",
    "def get_data():\n",
    "    data = load_svmlight_file(\"ijcnn1.bz2\")\n",
    "    return data[0], data[1]\n",
    "\n",
    "X, y = get_data()"
   ]
  },
  {
   "cell_type": "code",
   "execution_count": 3,
   "metadata": {
    "colab": {
     "base_uri": "https://localhost:8080/"
    },
    "id": "Rjj90nE4ai_A",
    "outputId": "71ec32a3-c10b-415e-992e-ad3cb77e9ff0"
   },
   "outputs": [
    {
     "name": "stdout",
     "output_type": "stream",
     "text": [
      "  (0, 5)\t1.0\n",
      "  (0, 10)\t-0.731854\n",
      "  (0, 11)\t0.173431\n",
      "  (0, 12)\t0.0\n",
      "  (0, 13)\t0.00027\n",
      "  (0, 14)\t0.011684\n",
      "  (0, 15)\t-0.011052\n",
      "  (0, 16)\t0.024452\n",
      "  (0, 17)\t0.008337\n",
      "  (0, 18)\t0.001324\n",
      "  (0, 19)\t0.025544\n",
      "  (0, 20)\t-0.040728\n",
      "  (0, 21)\t-0.00081\n",
      "  (1, 6)\t1.0\n",
      "  (1, 10)\t-0.731756\n",
      "  (1, 11)\t0.173431\n",
      "  (1, 12)\t0.00027\n",
      "  (1, 13)\t0.011684\n",
      "  (1, 14)\t-0.011052\n",
      "  (1, 15)\t0.024452\n",
      "  (1, 16)\t0.008337\n",
      "  (1, 17)\t0.001324\n",
      "  (1, 18)\t0.025544\n",
      "  (1, 19)\t-0.040728\n",
      "  (1, 20)\t-0.00081\n",
      "  :\t:\n",
      "  (49988, 10)\t-0.763423\n",
      "  (49988, 11)\t0.233429\n",
      "  (49988, 12)\t-0.015315\n",
      "  (49988, 13)\t0.005854\n",
      "  (49988, 14)\t-0.000797\n",
      "  (49988, 15)\t0.001382\n",
      "  (49988, 16)\t0.009477\n",
      "  (49988, 17)\t-0.015573\n",
      "  (49988, 18)\t0.015803\n",
      "  (49988, 19)\t-0.003587\n",
      "  (49988, 20)\t-0.008585\n",
      "  (49988, 21)\t0.010757\n",
      "  (49989, 4)\t1.0\n",
      "  (49989, 10)\t-0.762089\n",
      "  (49989, 11)\t0.233032\n",
      "  (49989, 12)\t0.005854\n",
      "  (49989, 13)\t-0.000797\n",
      "  (49989, 14)\t0.001382\n",
      "  (49989, 15)\t0.009477\n",
      "  (49989, 16)\t-0.015573\n",
      "  (49989, 17)\t0.015803\n",
      "  (49989, 18)\t-0.003587\n",
      "  (49989, 19)\t-0.008585\n",
      "  (49989, 20)\t0.010757\n",
      "  (49989, 21)\t-0.017981\n"
     ]
    }
   ],
   "source": [
    "# X est une matrice creuse\n",
    "print(X)\n",
    "\n",
    "#On convertit X en une matrice dense\n",
    "X = X.toarray()"
   ]
  },
  {
   "cell_type": "code",
   "execution_count": 27,
   "metadata": {
    "colab": {
     "base_uri": "https://localhost:8080/"
    },
    "id": "aXUtsRjxme4M",
    "outputId": "ca05a166-4d34-4eea-eb45-eee83c78274c"
   },
   "outputs": [
    {
     "name": "stdout",
     "output_type": "stream",
     "text": [
      "[[ 0.0000e+00  0.0000e+00  0.0000e+00 ...  2.5544e-02 -4.0728e-02\n",
      "  -8.1000e-04]\n",
      " [ 0.0000e+00  0.0000e+00  0.0000e+00 ... -4.0728e-02 -8.1000e-04\n",
      "  -3.8900e-03]\n",
      " [ 0.0000e+00  0.0000e+00  0.0000e+00 ... -8.1000e-04 -3.8900e-03\n",
      "   4.6040e-03]\n",
      " ...\n",
      " [ 0.0000e+00  0.0000e+00  1.0000e+00 ...  1.5803e-02 -3.5870e-03\n",
      "  -8.5850e-03]\n",
      " [ 0.0000e+00  0.0000e+00  0.0000e+00 ... -3.5870e-03 -8.5850e-03\n",
      "   1.0757e-02]\n",
      " [ 0.0000e+00  0.0000e+00  0.0000e+00 ... -8.5850e-03  1.0757e-02\n",
      "  -1.7981e-02]]\n"
     ]
    }
   ],
   "source": [
    "print(X)"
   ]
  },
  {
   "cell_type": "code",
   "execution_count": 56,
   "metadata": {
    "colab": {
     "base_uri": "https://localhost:8080/"
    },
    "id": "Th9odNCqauxH",
    "outputId": "baaad247-9689-4354-e549-431494d425a7"
   },
   "outputs": [
    {
     "name": "stdout",
     "output_type": "stream",
     "text": [
      "y avant :  [-1. -1. -1. ... -1. -1. -1.]\n",
      "y maintenant :  [0. 0. 0. ... 0. 0. 0.]\n"
     ]
    }
   ],
   "source": [
    "print(\"y avant : \",y)\n",
    "\n",
    "#Convertir les labels en 0,1\n",
    "new_y = np.where(y == -1.0, 0.0, y)\n",
    "\n",
    "print(\"y maintenant : \",new_y)"
   ]
  },
  {
   "cell_type": "markdown",
   "metadata": {
    "id": "YWQXIBDc7X3A"
   },
   "source": [
    "### <span style=\"color:rgb(139,0,0)\">Implementation 4.2</span>"
   ]
  },
  {
   "cell_type": "markdown",
   "metadata": {
    "id": "gfXqA5JV76G7"
   },
   "source": [
    "Nous nous focalisons désormais sur le problème d'optimisation définit par :\n",
    "\n",
    "$$\n",
    "    \\mathrm{minimize}_{\\mathbf{w} \\in \\mathbb{R}^d} g(w) \n",
    "    := \\frac{1}{n} \\sum_{i=1}^n g_i(\\mathbf{w}), \\qquad \n",
    "    g_i(\\mathbf{w}):=(y_i - \\frac {1}{1+\\exp(-\\mathbf{x}_i^T \\mathbf{w})})^2\n",
    "$$\n",
    "$\n",
    "$\n",
    "\n",
    "Nous avons:\n",
    "$$\n",
    "    \\nabla g_i(\\mathbf{w}) = - \\frac{2\\exp(\\mathbf{x}_i^T \\mathbf{w})(\\exp(\\mathbf{x}_i^T \\mathbf{w})(y_i-1)+y_i)}{(1 + \\exp(\\mathbf{x}_i^T \\mathbf{w}))^3} \\mathbf{x}_i\n",
    "$$\n",
    "$\n",
    "$\n",
    "\n",
    "$$\n",
    "    \\nabla^2 g_i(\\mathbf{w}) = \\frac{2\\exp(\\mathbf{x}_i^T \\mathbf{w})(\\exp(2\\mathbf{x}_i^T \\mathbf{w})(y_i-1)+2\\exp(\\mathbf{x}_i^T \\mathbf{w})+y_i)}{(1 + \\exp(\\mathbf{x}_i^T \\mathbf{w}))^4} \\mathbf{x}_i \\mathbf{x}_i^T\n",
    "$$\n"
   ]
  },
  {
   "cell_type": "markdown",
   "metadata": {
    "id": "UCflRwSL_Z3C"
   },
   "source": [
    "La classe *Pb_part4()* permet d'instancier le problème que nous avons présenté plus haut. Elle prends en paramètre une matrice $X$ de données, un vecteur $y$. \n",
    "\n",
    "Au sein de cette classe, nous définissons les différentes fonctions dont nous avons besoin pour appliquer nos différentes méthodes. \n",
    "\n",
    "*Remarque*\n",
    "\n",
    "Pour soucis de simplification de la tâche à la question 4, nous donnons aux méthodes de cette classe les même noms que les méthodes de la classe RegPb() que nous avons définie dans la partie 3."
   ]
  },
  {
   "cell_type": "code",
   "execution_count": 29,
   "metadata": {
    "id": "1FFC9NZ7knMY"
   },
   "outputs": [],
   "source": [
    "class Pb_part4(object):\n",
    " \n",
    "    # Instantiate the class\n",
    "    def __init__(self, X, y):\n",
    "        self.X = X\n",
    "        self.y = y\n",
    "        self.n, self.d = X.shape\n",
    "    \n",
    "    # Objective value\n",
    "    def fun(self, w):\n",
    "          Xw = self.X.dot(w)\n",
    "          return np.mean((self.y -(1/(1+np.exp(-Xw))))**2)\n",
    "    \n",
    "    # Partial objective value\n",
    "    def f_i(self, i, w):\n",
    "          y_i = self.y[i]\n",
    "          x_i = self.X[i]\n",
    "          xiw = np.dot(x_i.T, w)\n",
    "          return (y_i -(1/(1+np.exp(- xiw))))**2\n",
    "\n",
    "    # Full gradient computation\n",
    "    def grad(self, w):\n",
    "          Xw = self.X.dot(w)\n",
    "          num = 2 * np.exp(Xw)*(np.exp(Xw)*(self.y - np.ones(self.n))+self.y)\n",
    "          denom = (1. + np.exp(Xw))**3\n",
    "          return - (self.X.T).dot(num/denom) / self.n\n",
    "    \n",
    "    # Partial gradient\n",
    "    def grad_i(self,i,w):\n",
    "        y_i = self.y[i]\n",
    "        x_i = self.X[i]\n",
    "        xiw = np.dot(x_i.T, w)\n",
    "        num = - x_i * 2 * np.exp(xiw) * (np.exp(xiw)*(y_i-1)+y_i)\n",
    "        denom = (1 + np.exp(xiw))**3\n",
    "        grad = num/denom\n",
    "        return grad\n",
    "\n",
    "    # Partial second order gradient\n",
    "    def grad_2_i(self,i,w):\n",
    "        x_i = self.X[i]\n",
    "        y_i = self.y[i]\n",
    "        xiw = np.dot(x_i.T, w)\n",
    "        num = 2 * np.exp(xiw) * (np.exp(2*xiw)*(y_i-1) + 2*np.exp(xiw) - y_i)\n",
    "        denom = (1 + np.exp(xiw))**4\n",
    "        gradient = (num/denom) * np.outer(x_i,x_i.T)\n",
    "        return gradient\n",
    "\n",
    "    # Lipschitz constant for the gradient\n",
    "    def lipgrad(self):\n",
    "        L = 4. * norm(self.X, ord=2) ** 2 / (self.n)\n",
    "        return L"
   ]
  },
  {
   "cell_type": "markdown",
   "metadata": {
    "id": "Rqd1McgdAZpT"
   },
   "source": [
    "Dans cette partie, nous instancions le problème dans la variable $pb\\_part\\_4$ et nous définissons la fonction $compute\\_gS\\_gradS\\_hessS()$ qui étant donnée une instance du problème et une taille d'échantillon calcule les valeurs de $g_S$, $\\nabla g_S$ et $\\nabla^2 g_S$ pour l'échantillon $S$. \n",
    "Nous affichons ensuite les différentes quantités calculées en appliquant la fonction sur $pb\\_part\\_4$ avec comme taille d'échantillon *20000*."
   ]
  },
  {
   "cell_type": "code",
   "execution_count": 30,
   "metadata": {
    "id": "i3S83XDWtpj6"
   },
   "outputs": [],
   "source": [
    "#Instanciate the problem\n",
    "pb_part_4 = Pb_part4(X,new_y)\n",
    "w = np.zeros(pb_part_4.d)\n",
    "\n",
    "def compute_gS_gradS_hessS(problem,cardinal_sample,w,with_replace=False):\n",
    "  n = problem.n\n",
    "  dimension = problem.d\n",
    "  i = np.random.choice(n,cardinal_sample,replace=with_replace)\n",
    "  \n",
    "  g_S = 0\n",
    "  for j in range(cardinal_sample):\n",
    "        g_j = problem.f_i(i[j],w)\n",
    "        g_S = g_S + g_j\n",
    "  g_S = g_S/cardinal_sample\n",
    "\n",
    "  grad_S = np.zeros(dimension)\n",
    "\n",
    "  for j in range(cardinal_sample):\n",
    "        g_j = problem.grad_i(i[j],w)\n",
    "        grad_S = grad_S + g_j\n",
    "  grad_S = grad_S/cardinal_sample\n",
    "\n",
    "  hess_S = np.zeros((dimension,dimension))\n",
    "\n",
    "  for j in range(cardinal_sample):\n",
    "        g_j = problem.grad_2_i(i[j],w)\n",
    "        hess_S = hess_S + g_j\n",
    "  hess_S = hess_S/cardinal_sample\n",
    "\n",
    "  return g_S, grad_S, hess_S\n",
    "\n",
    "g, grad, hessian = compute_gS_gradS_hessS(pb_part_4, 20000,w,with_replace=False)\n"
   ]
  },
  {
   "cell_type": "code",
   "execution_count": 31,
   "metadata": {
    "colab": {
     "base_uri": "https://localhost:8080/"
    },
    "id": "QubSAFcJ12gE",
    "outputId": "8383d0a4-3cae-49b0-da0a-31cf1207339c"
   },
   "outputs": [
    {
     "name": "stdout",
     "output_type": "stream",
     "text": [
      "0.25\n"
     ]
    }
   ],
   "source": [
    "print(g)"
   ]
  },
  {
   "cell_type": "code",
   "execution_count": 32,
   "metadata": {
    "colab": {
     "base_uri": "https://localhost:8080/"
    },
    "id": "JY0f8PIL147A",
    "outputId": "61a25297-e9b5-4fe2-be40-3e25089ca7fe"
   },
   "outputs": [
    {
     "name": "stdout",
     "output_type": "stream",
     "text": [
      "[ 1.98500000e-02  1.99250000e-02  2.03125000e-02  2.04500000e-02\n",
      "  1.90125000e-02  2.01750000e-02  1.97625000e-02  2.06000000e-02\n",
      "  2.02250000e-02  2.03625000e-02 -1.76444769e-02  6.38210699e-02\n",
      "  2.27735075e-04 -7.53918875e-05  2.23119500e-04 -3.53408675e-04\n",
      "  4.47392196e-03  7.33518683e-03  3.30933259e-03 -1.94715135e-03\n",
      " -6.00792687e-04 -7.85822050e-04]\n"
     ]
    }
   ],
   "source": [
    "print(grad)"
   ]
  },
  {
   "cell_type": "code",
   "execution_count": 33,
   "metadata": {
    "colab": {
     "base_uri": "https://localhost:8080/"
    },
    "id": "IEg1k5GA18q3",
    "outputId": "91ac12ab-d0ba-47d5-c496-eb8a6ccc8711"
   },
   "outputs": [
    {
     "name": "stdout",
     "output_type": "stream",
     "text": [
      "[[ 1.24000000e-02  0.00000000e+00  0.00000000e+00  0.00000000e+00\n",
      "   0.00000000e+00  0.00000000e+00  0.00000000e+00  0.00000000e+00\n",
      "   0.00000000e+00  0.00000000e+00 -9.99249487e-04  3.85613655e-03\n",
      "  -1.10366397e-03 -1.24076656e-03  5.53818819e-04  1.44086194e-03\n",
      "  -9.14067144e-04 -3.73184438e-05 -1.74438625e-05 -4.61550681e-04\n",
      "   4.98006250e-07  1.85324929e-03]\n",
      " [ 0.00000000e+00  1.27375000e-02  0.00000000e+00  0.00000000e+00\n",
      "   0.00000000e+00  0.00000000e+00  0.00000000e+00  0.00000000e+00\n",
      "   0.00000000e+00  0.00000000e+00 -9.90766544e-04  4.03990309e-03\n",
      "  -1.28138746e-03  5.65801644e-04  1.50949011e-03 -9.88050575e-04\n",
      "   1.85686875e-06 -8.84498125e-06 -5.04539775e-04 -9.62711875e-06\n",
      "   1.92936489e-03 -1.16916297e-03]\n",
      " [ 0.00000000e+00  0.00000000e+00  1.26437500e-02  0.00000000e+00\n",
      "   0.00000000e+00  0.00000000e+00  0.00000000e+00  0.00000000e+00\n",
      "   0.00000000e+00  0.00000000e+00 -1.15185467e-03  4.05204305e-03\n",
      "   5.84462706e-04  1.46379669e-03 -9.60910144e-04  3.91753125e-06\n",
      "   6.55201250e-06 -4.95902850e-04 -2.82152687e-05  1.92188904e-03\n",
      "  -1.11493889e-03 -1.23036418e-03]\n",
      " [ 0.00000000e+00  0.00000000e+00  0.00000000e+00  1.24750000e-02\n",
      "   0.00000000e+00  0.00000000e+00  0.00000000e+00  0.00000000e+00\n",
      "   0.00000000e+00  0.00000000e+00 -1.02841686e-03  3.99788565e-03\n",
      "   1.51728876e-03 -9.71804806e-04 -1.87149125e-05  1.11083125e-05\n",
      "  -4.62622425e-04  2.29555250e-05  1.90245824e-03 -1.17988171e-03\n",
      "  -1.25831164e-03  6.07627019e-04]\n",
      " [ 0.00000000e+00  0.00000000e+00  0.00000000e+00  0.00000000e+00\n",
      "   1.19812500e-02  0.00000000e+00  0.00000000e+00  0.00000000e+00\n",
      "   0.00000000e+00  0.00000000e+00 -9.91516288e-04  3.81927789e-03\n",
      "  -9.28665556e-04 -3.00589375e-05 -3.10803812e-05 -4.69506387e-04\n",
      "  -1.10563500e-05  1.78685242e-03 -1.08484598e-03 -1.18469269e-03\n",
      "   5.16258500e-04  1.39620730e-03]\n",
      " [ 0.00000000e+00  0.00000000e+00  0.00000000e+00  0.00000000e+00\n",
      "   0.00000000e+00  1.24625000e-02  0.00000000e+00  0.00000000e+00\n",
      "   0.00000000e+00  0.00000000e+00 -1.11932426e-03  3.95843683e-03\n",
      "  -1.08766250e-06 -4.47041938e-05 -4.47481281e-04 -3.28194625e-05\n",
      "   1.80031259e-03 -1.09480084e-03 -1.24445471e-03  6.11596612e-04\n",
      "   1.42331407e-03 -9.48420512e-04]\n",
      " [ 0.00000000e+00  0.00000000e+00  0.00000000e+00  0.00000000e+00\n",
      "   0.00000000e+00  0.00000000e+00  1.24312500e-02  0.00000000e+00\n",
      "   0.00000000e+00  0.00000000e+00 -1.19184411e-03  3.98185438e-03\n",
      "  -6.32478750e-06 -4.72778650e-04  3.04095125e-05  1.80459536e-03\n",
      "  -1.12917187e-03 -1.21639696e-03  5.35291087e-04  1.44736737e-03\n",
      "  -9.55739112e-04  8.86716250e-06]\n",
      " [ 0.00000000e+00  0.00000000e+00  0.00000000e+00  0.00000000e+00\n",
      "   0.00000000e+00  0.00000000e+00  0.00000000e+00  1.27625000e-02\n",
      "   0.00000000e+00  0.00000000e+00 -1.02290404e-03  4.07447560e-03\n",
      "  -4.88207181e-04 -1.52939375e-06  1.92945684e-03 -1.20060414e-03\n",
      "  -1.27624913e-03  5.93339669e-04  1.51236888e-03 -9.67694063e-04\n",
      "  -8.01751875e-06 -3.48497125e-05]\n",
      " [ 0.00000000e+00  0.00000000e+00  0.00000000e+00  0.00000000e+00\n",
      "   0.00000000e+00  0.00000000e+00  0.00000000e+00  0.00000000e+00\n",
      "   1.24125000e-02  0.00000000e+00 -1.06270536e-03  3.87752756e-03\n",
      "  -5.36906125e-05  1.80312091e-03 -1.06236231e-03 -1.21702653e-03\n",
      "   5.50449413e-04  1.40373081e-03 -8.72840988e-04 -1.55563000e-05\n",
      "   2.16488750e-06 -4.66324331e-04]\n",
      " [ 0.00000000e+00  0.00000000e+00  0.00000000e+00  0.00000000e+00\n",
      "   0.00000000e+00  0.00000000e+00  0.00000000e+00  0.00000000e+00\n",
      "   0.00000000e+00  1.26937500e-02 -1.18110873e-03  4.04639340e-03\n",
      "   1.85052119e-03 -1.14456187e-03 -1.25180091e-03  5.50285250e-04\n",
      "   1.45229036e-03 -9.90508275e-04 -2.66192125e-05 -5.47633750e-06\n",
      "  -4.45939862e-04  6.16665000e-06]\n",
      " [-9.99249487e-04 -9.90766544e-04 -1.15185467e-03 -1.02841686e-03\n",
      "  -9.91516288e-04 -1.11932426e-03 -1.19184411e-03 -1.02290404e-03\n",
      "  -1.06270536e-03 -1.18110873e-03  1.81339797e-02 -3.36201341e-03\n",
      "   2.64639945e-05 -1.15424712e-06  1.02564793e-04 -6.09579343e-05\n",
      "  -1.36351135e-05  2.84631408e-05  2.39809807e-05 -7.88502219e-05\n",
      "  -4.22218004e-05 -2.09796031e-05]\n",
      " [ 3.85613655e-03  4.03990309e-03  4.05204305e-03  3.99788565e-03\n",
      "   3.81927789e-03  3.95843683e-03  3.98185438e-03  4.07447560e-03\n",
      "   3.87752756e-03  4.04639340e-03 -3.36201341e-03  1.57584622e-02\n",
      "   5.23343376e-05 -1.50031508e-06  1.11729185e-04 -1.00311071e-05\n",
      "   4.44851902e-05  5.53795615e-06  8.96182195e-05  1.01123498e-04\n",
      "   5.63364461e-05  5.31513420e-06]\n",
      " [-1.10366397e-03 -1.28138746e-03  5.84462706e-04  1.51728876e-03\n",
      "  -9.28665556e-04 -1.08766250e-06 -6.32478750e-06 -4.88207181e-04\n",
      "  -5.36906125e-05  1.85052119e-03  2.64639945e-05  5.23343376e-05\n",
      "   2.90478948e-03 -2.93528398e-04 -6.73219467e-04  1.12410280e-04\n",
      "   6.66853927e-04 -7.41912921e-04  6.54428410e-04  1.82529448e-04\n",
      "  -8.42274817e-04 -4.70810585e-04]\n",
      " [-1.24076656e-03  5.65801644e-04  1.46379669e-03 -9.71804806e-04\n",
      "  -3.00589375e-05 -4.47041938e-05 -4.72778650e-04 -1.52939375e-06\n",
      "   1.80312091e-03 -1.14456187e-03 -1.15424712e-06 -1.50031508e-06\n",
      "  -2.93528398e-04  2.87236067e-03 -2.51507796e-04 -6.50902082e-04\n",
      "   8.94800865e-05  6.64815392e-04 -7.01661536e-04  6.36734168e-04\n",
      "   1.97379089e-04 -8.12342379e-04]\n",
      " [ 5.53818819e-04  1.50949011e-03 -9.60910144e-04 -1.87149125e-05\n",
      "  -3.10803812e-05 -4.47481281e-04  3.04095125e-05  1.92945684e-03\n",
      "  -1.06236231e-03 -1.25180091e-03  1.02564793e-04  1.11729185e-04\n",
      "  -6.73219467e-04 -2.51507796e-04  2.89748730e-03 -2.90020504e-04\n",
      "  -6.74410514e-04  1.14389595e-04  6.79337387e-04 -7.39392710e-04\n",
      "   6.45258899e-04  1.52511074e-04]\n",
      " [ 1.44086194e-03 -9.88050575e-04  3.91753125e-06  1.11083125e-05\n",
      "  -4.69506387e-04 -3.28194625e-05  1.80459536e-03 -1.20060414e-03\n",
      "  -1.21702653e-03  5.50285250e-04 -6.09579343e-05 -1.00311071e-05\n",
      "   1.12410280e-04 -6.50902082e-04 -2.90020504e-04  2.86604480e-03\n",
      "  -2.65386865e-04 -6.41056600e-04  5.82225441e-05  6.83043619e-04\n",
      "  -7.59480741e-04  6.47763776e-04]\n",
      " [-9.14067144e-04  1.85686875e-06  6.55201250e-06 -4.62622425e-04\n",
      "  -1.10563500e-05  1.80031259e-03 -1.12917187e-03 -1.27624913e-03\n",
      "   5.50449413e-04  1.45229036e-03 -1.36351135e-05  4.44851902e-05\n",
      "   6.66853927e-04  8.94800865e-05 -6.74410514e-04 -2.65386865e-04\n",
      "   2.84042954e-03 -2.76802148e-04 -6.62095084e-04  1.13174664e-04\n",
      "   6.85889674e-04 -7.21041814e-04]\n",
      " [-3.73184438e-05 -8.84498125e-06 -4.95902850e-04  2.29555250e-05\n",
      "   1.78685242e-03 -1.09480084e-03 -1.21639696e-03  5.93339669e-04\n",
      "   1.40373081e-03 -9.90508275e-04  2.84631408e-05  5.53795615e-06\n",
      "  -7.41912921e-04  6.64815392e-04  1.14389595e-04 -6.41056600e-04\n",
      "  -2.76802148e-04  2.86139060e-03 -2.06558851e-04 -6.41167532e-04\n",
      "   1.07837559e-04  6.70014837e-04]\n",
      " [-1.74438625e-05 -5.04539775e-04 -2.82152687e-05  1.90245824e-03\n",
      "  -1.08484598e-03 -1.24445471e-03  5.35291087e-04  1.51236888e-03\n",
      "  -8.72840988e-04 -2.66192125e-05  2.39809807e-05  8.96182195e-05\n",
      "   6.54428410e-04 -7.01661536e-04  6.79337387e-04  5.82225441e-05\n",
      "  -6.62095084e-04 -2.06558851e-04  2.89011205e-03 -3.40416329e-04\n",
      "  -6.69221884e-04  1.13092890e-04]\n",
      " [-4.61550681e-04 -9.62711875e-06  1.92188904e-03 -1.17988171e-03\n",
      "  -1.18469269e-03  6.11596612e-04  1.44736737e-03 -9.67694063e-04\n",
      "  -1.55563000e-05 -5.47633750e-06 -7.88502219e-05  1.01123498e-04\n",
      "   1.82529448e-04  6.36734168e-04 -7.39392710e-04  6.83043619e-04\n",
      "   1.13174664e-04 -6.41167532e-04 -3.40416329e-04  2.89229293e-03\n",
      "  -2.45591220e-04 -6.56943623e-04]\n",
      " [ 4.98006250e-07  1.92936489e-03 -1.11493889e-03 -1.25831164e-03\n",
      "   5.16258500e-04  1.42331407e-03 -9.55739112e-04 -8.01751875e-06\n",
      "   2.16488750e-06 -4.45939862e-04 -4.22218004e-05  5.63364461e-05\n",
      "  -8.42274817e-04  1.97379089e-04  6.45258899e-04 -7.59480741e-04\n",
      "   6.85889674e-04  1.07837559e-04 -6.69221884e-04 -2.45591220e-04\n",
      "   2.88677838e-03 -3.01011536e-04]\n",
      " [ 1.85324929e-03 -1.16916297e-03 -1.23036418e-03  6.07627019e-04\n",
      "   1.39620730e-03 -9.48420512e-04  8.86716250e-06 -3.48497125e-05\n",
      "  -4.66324331e-04  6.16665000e-06 -2.09796031e-05  5.31513420e-06\n",
      "  -4.70810585e-04 -8.12342379e-04  1.52511074e-04  6.47763776e-04\n",
      "  -7.21041814e-04  6.70014837e-04  1.13092890e-04 -6.56943623e-04\n",
      "  -3.01011536e-04  2.83815221e-03]]\n"
     ]
    }
   ],
   "source": [
    "print(hessian)"
   ]
  },
  {
   "cell_type": "code",
   "execution_count": 34,
   "metadata": {
    "colab": {
     "base_uri": "https://localhost:8080/"
    },
    "id": "aGJpCaagU_Xs",
    "outputId": "a5f84312-d8d6-4fc2-b372-2dc3e8be46d8"
   },
   "outputs": [
    {
     "name": "stdout",
     "output_type": "stream",
     "text": [
      "[ -2.35986213  -1.29517059  -2.24486588  -0.70999689  -0.53663299\n",
      "  -1.69008875  -9.02615904  -0.90987868  -0.32906631  -1.33635112\n",
      "  -1.57963114 -11.58730242   3.28457853   2.65745649   4.67169725\n",
      "   2.39172502 -12.31326743 -24.37787111  -4.53177582   7.55787719\n",
      "   3.93810247   5.95811641]\n",
      "0.05154837396241317\n",
      "7.112960362129767e-11\n"
     ]
    }
   ],
   "source": [
    "# Use L-BFGS-B to determine a solution for both problems\n",
    "\n",
    "# Compute the optimal solution for logistic regression\n",
    "w_min, g_min, _ = fmin_l_bfgs_b(pb_part_4.fun, w, pb_part_4.grad, args=(), pgtol=1e-30, factr =1e-30)\n",
    "\n",
    "print(w_min)\n",
    "print(g_min)\n",
    "print(norm(pb_part_4.grad(w_min)))"
   ]
  },
  {
   "cell_type": "markdown",
   "metadata": {
    "id": "NbAWAWK-Cdva"
   },
   "source": [
    "### <span style=\"color:rgb(139,0,0)\"> Question 4.1</span>"
   ]
  },
  {
   "cell_type": "markdown",
   "metadata": {
    "id": "fnN0FrpNCmeA"
   },
   "source": [
    "Comparons à nouveau notre méthode de Newton sous échantillonnée à la méthode du gradient stochastique par lots sur ce problème réel de classification. \n",
    "\n",
    "Pour la comparaison :\n",
    "\n",
    "- Nous avons choisit un nombre d'epochs de *100* pour effectuer la comparaison.\n",
    "\n",
    "- Nous initialisons notre $w$ au vecteur nul de dimension d. \n",
    " \n",
    "- Nous avons choisit de tester la méthode échantillonnée avec les combinaisons de batchs suivantes $\\{(1000,1000),(40000,10000),(40000,1000)\\}$ \n",
    "où le premier élément de chaque couple correspond au $cardinal\\_s$ et le deuxième élément au $cardinal\\_sh$. L'idée derrière ces choix de batchs est de voir comment ces paramètres peuvent influencer la convergence, la précision, la variance ainsi que la complexité temporelle du modèle. \n",
    "- Nous appliquons les différentes méthodes avec comme paramètre $c=0.0001$ et $\\mu=2$ qui dans ce contexte réel ne causent pas de soucis. \n",
    "\n",
    "- À nouveau nous appliquons la méthode de gradient stochastique par lots avec comme taille de batch correspondant à celui de notre meilleur modèle et avec différents choix de pas d'apprentissage."
   ]
  },
  {
   "cell_type": "code",
   "execution_count": 36,
   "metadata": {
    "colab": {
     "base_uri": "https://localhost:8080/"
    },
    "id": "-wc49Ly2BBzx",
    "outputId": "9b58dc76-a58c-4498-d3ea-3225fd45da1d"
   },
   "outputs": [
    {
     "name": "stdout",
     "output_type": "stream",
     "text": [
      "resultat :  [ -2.41925784  -1.41235175  -2.27649112  -0.7185612   -0.61978932\n",
      "  -1.70487836  -9.32711507  -1.01913217  -0.33564423  -1.35033762\n",
      "  -1.59802244 -11.21734384   2.79023727   3.35529392   4.94615524\n",
      "   3.19170984 -12.42375305 -24.30420494  -4.39541732   7.36225089\n",
      "   4.17688712   5.02880194]\n"
     ]
    }
   ],
   "source": [
    "nb_epochs = 100\n",
    "w_g_1, obj_g_1, nits_g_1=globalized_subsampling_newtons_method(w, pb_part_4,w_min, 0.0001, 2, 40000,10000, n_epochs=nb_epochs,with_replace=False,verbose=False)\n",
    "print(\"resultat : \",w_g_1)"
   ]
  },
  {
   "cell_type": "code",
   "execution_count": 59,
   "metadata": {
    "colab": {
     "base_uri": "https://localhost:8080/"
    },
    "id": "41Ahz4P2DHWL",
    "outputId": "5820f5b4-9819-4e42-a85b-d5ed1c9421ef"
   },
   "outputs": [
    {
     "name": "stdout",
     "output_type": "stream",
     "text": [
      "resultat :  [ -2.24008594  -1.33522126  -2.18298001  -0.79050755  -0.57706206\n",
      "  -1.71472863  -9.04493345  -0.93556799  -0.38638729  -1.39820252\n",
      "  -1.64206885 -11.45808841   2.97198874   2.4421396    4.9710988\n",
      "   2.51655968 -12.05384312 -24.63906001  -4.45690547   7.52500262\n",
      "   3.82067734   5.94213019]\n"
     ]
    }
   ],
   "source": [
    "w_g_2, obj_g_2, nits_g_2=globalized_subsampling_newtons_method(w, pb_part_4,w_min, 0.0001, 2, 40000,1000, n_epochs=nb_epochs,with_replace=False,verbose=False)\n",
    "print(\"resultat : \",w_g_2)"
   ]
  },
  {
   "cell_type": "code",
   "execution_count": 60,
   "metadata": {
    "colab": {
     "base_uri": "https://localhost:8080/"
    },
    "id": "bloU2_5RDI8h",
    "outputId": "0e4d195f-f8c5-4b33-c136-aa30b77731f0"
   },
   "outputs": [
    {
     "name": "stderr",
     "output_type": "stream",
     "text": [
      "<ipython-input-29-ce618e2af9de>:21: RuntimeWarning: overflow encountered in exp\n",
      "  return (y_i -(1/(1+np.exp(- xiw))))**2\n"
     ]
    },
    {
     "name": "stdout",
     "output_type": "stream",
     "text": [
      "resultat :  [ -4.6832402   -1.80865901  -2.07834504  -0.52054858  -0.68684074\n",
      "  -2.42701301 -49.45148411  -1.13729333   0.14218166  -1.79718635\n",
      "  -0.96758895  -7.69284186   0.29531663   1.96161003   1.80092192\n",
      "   2.75315627  -8.78136343 -18.77007845  -0.8489903    4.42905545\n",
      "   5.83103837   3.72238552]\n"
     ]
    }
   ],
   "source": [
    "w_g_3, obj_g_3, nits_g_3=globalized_subsampling_newtons_method(w, pb_part_4,w_min, 0.0001, 2, 1000,1000, n_epochs=nb_epochs,with_replace=False,verbose=False)\n",
    "print(\"resultat : \",w_g_3)"
   ]
  },
  {
   "cell_type": "code",
   "execution_count": 63,
   "metadata": {
    "colab": {
     "base_uri": "https://localhost:8080/"
    },
    "id": "0ZNx_1EnVcvo",
    "outputId": "9456f756-ad81-4582-b053-7a5e3efdbbab"
   },
   "outputs": [
    {
     "name": "stdout",
     "output_type": "stream",
     "text": [
      "resultat :  [-1.36766005 -1.26635553 -1.45793337 -1.14011047 -1.08284243 -1.43798849\n",
      " -1.71580114 -1.18236409 -1.11416895 -1.2146015   0.02608549 -2.12515009\n",
      "  0.07045023  0.10802357  0.10626325 -0.19071424 -2.13761838 -3.34318163\n",
      " -1.48352657  0.880815    0.52547185  0.55604139]\n"
     ]
    }
   ],
   "source": [
    "w_batch_1, obj_batch_1, nits_batch_1= batch_stochastique_grad(w,pb_part_4,w_min,n_epochs=100,cardinal_s=40000,coef_mult=10,with_replace=False,verbose=False)\n",
    "print(\"resultat : \",w_batch_1)"
   ]
  },
  {
   "cell_type": "code",
   "execution_count": 64,
   "metadata": {
    "colab": {
     "base_uri": "https://localhost:8080/"
    },
    "id": "qkgUvTwyX3g0",
    "outputId": "2c417533-d4fc-4ccb-9d73-16c5475bf055"
   },
   "outputs": [
    {
     "name": "stdout",
     "output_type": "stream",
     "text": [
      "resultat :  [-1.20460756 -1.14438195 -1.27337737 -1.11941958 -1.09416022 -1.24898632\n",
      " -1.34231543 -1.13761914 -1.12138956 -1.13597556  0.22177039 -2.63503437\n",
      "  0.02149708  0.0380965   0.03961443 -0.06586116 -1.15796335 -1.76299232\n",
      " -0.80856338  0.48977773  0.25880972  0.28084187]\n"
     ]
    }
   ],
   "source": [
    "w_batch_2, obj_batch_2, nits_batch_2= batch_stochastique_grad(w,pb_part_4,w_min,n_epochs=100,cardinal_s=40000,coef_mult=5,with_replace=False,verbose=False)\n",
    "print(\"resultat : \",w_batch_2)"
   ]
  },
  {
   "cell_type": "code",
   "execution_count": 65,
   "metadata": {
    "colab": {
     "base_uri": "https://localhost:8080/"
    },
    "id": "mFKkYmfkYjBs",
    "outputId": "f887ea4e-7abb-476f-9103-9085f4eeb70d"
   },
   "outputs": [
    {
     "name": "stdout",
     "output_type": "stream",
     "text": [
      "resultat :  [-0.79252128 -0.77371518 -0.81837682 -0.78209248 -0.77447416 -0.81036674\n",
      " -0.82167818 -0.78353251 -0.78582954 -0.77888885  0.32390224 -2.19113979\n",
      " -0.00273155  0.00396661  0.00538684 -0.0092664  -0.32859374 -0.52056966\n",
      " -0.22251593  0.14547031  0.06829461  0.07467719]\n"
     ]
    }
   ],
   "source": [
    "w_batch_3, obj_batch_3, nits_batch_3= batch_stochastique_grad(w,pb_part_4,w_min,n_epochs=100,cardinal_s=40000,coef_mult=1,with_replace=False,verbose=False)\n",
    "print(\"resultat : \",w_batch_3)"
   ]
  },
  {
   "cell_type": "code",
   "execution_count": 71,
   "metadata": {
    "colab": {
     "base_uri": "https://localhost:8080/",
     "height": 373
    },
    "id": "0KZNnzFpZnuO",
    "outputId": "5bf003f7-caea-41b6-9530-7463102069a5"
   },
   "outputs": [
    {
     "data": {
      "text/plain": [
       "<matplotlib.legend.Legend at 0x7f221c1e1760>"
      ]
     },
     "execution_count": 71,
     "metadata": {},
     "output_type": "execute_result"
    },
    {
     "data": {
      "image/png": "[encoded data removed]",
      "text/plain": [
       "<Figure size 504x360 with 1 Axes>"
      ]
     },
     "metadata": {
      "needs_background": "light"
     },
     "output_type": "display_data"
    }
   ],
   "source": [
    "# In terms of objective value (logarithmic scale)\n",
    "plt.figure(figsize=(7, 5))\n",
    "plt.semilogy(obj_g_1-g_min, label=\"SN4000010000\", lw=2)\n",
    "plt.semilogy(obj_g_2-g_min, label=\"SN400001000\", lw=2)\n",
    "plt.semilogy(obj_g_3-g_min, label=\"SN10001000\", lw=2)\n",
    "plt.semilogy(obj_batch_1-g_min, label=\"BatchSG alpha = 10\", lw=2)\n",
    "plt.semilogy(obj_batch_2-g_min, label=\"BatchSG alpha = 5\", lw=2)\n",
    "plt.semilogy(obj_batch_3-g_min, label=\"BatchSG alpha = 1\", lw=2)\n",
    "plt.title(\"Convergence plot\", fontsize=16)\n",
    "plt.xlabel(\"#epochs\", fontsize=14)\n",
    "plt.ylabel(\"Objective (log scale)\", fontsize=14)\n",
    "plt.legend()"
   ]
  },
  {
   "cell_type": "markdown",
   "metadata": {
    "id": "LQGRdCanRbDn"
   },
   "source": [
    "#### Observation \n",
    "\n",
    "Nous pouvons analyser les résultats sur différents plans:\n",
    "\n",
    "- Sur le plan de la précision:\n",
    "\n",
    "À nouveau, nous constatons sur ce modèle réelle que la méthode de Newton sous-échantillonnée est fortement bruitée. Cependant, dans ce cas de figure les tailles de batches ne semblent pas vraiment influencer les variations des courbes, ont constate des variations très similaires pour les trois courbes de Newton sous-échantillonnées. \n",
    "\n",
    "Un autre point commun à ce que nous avions constaté sur les données synthétiques est que la méthode est plus performante lorsque $cardinal\\_s >> cardinal\\_sh$. \n",
    "\n",
    "Ainsi, sur le problème que nous avons définit, sur ce jeu de données réel et sur les différentes combinaisons de batchs que nous avons testées, la méthode associée à la courbe *SN400001000* est la plus proche de la fonction de valeur optimale. \n",
    "\n",
    "Si nous comparons aux méthodes de gradient stochastiques, nous voyons que même la pire combinaison de batch pour la méthode de Newton sous échantillonnée (*SN10001000*) reste en dessous de l'ensemble des courbes des gradients stochastiques. \n",
    "\n",
    "Ainsi, cela montre l'intérêt de prendre en compte l'information sur la matrice Hessienne dans les méthodes de Newton. \n",
    "\n",
    "\n",
    "- Sur le plan de la convergence:\n",
    "\n",
    "À nouveau, le comportement dans le cas réel est très proche de celui dans le cas synthétique. Bien que les courbes des méthodes de Newton sous échantillonnées soient en dessous de celles du gradient stochastique, nous constatons une stagnation de ces dernières qui semblent ne pas évoluer au fil des epochs. Celles du gradient stochastique décroient de façon très lente, il faudra un nombre extrêmement grand d'epochs pour qu'elles puissent converger. \n",
    "\n",
    "- Sur le plan de la complexité temporelle:\n",
    "\n",
    "Nous avons relevé le temps d'exécution de chaque modèle et obtenons: \n",
    "\n",
    "  *SN10001000* : 3min47s\n",
    "\n",
    "  *SN400001000* : 4min42s\n",
    "\n",
    "  *SN400001000* : 4min8s\n",
    "\n",
    "  *Méthodes gradient stochastique* : 1min20s\n",
    "\n",
    "Ainsi, en terme de complexité temporelle, les méthodes de gradient stochastique sont beaucoup plus rapide. Il s'agit d'un résultat non surprenant. Effectivement, les méthodes de gradient stochastiques ne calculent pas de matrice hessienne et n'ont pas de condition d'Armijo qui pourraient ralentir le temps d'exécution. Concernant les méthodes de Newton sous échantillonnées nous voyons que celle avec les tailles de batchs les plus petits est la plus rapide, ce qui n'était pas le cas dans les données synthétiques. \n",
    "\n",
    "Ainsi, pour conclure sur ce problème, nous pouvons dire que les méthodes de Newton sous échantillonnées semblent être plus performantes que les méthodes classiques de gradient stochastique. Elles prennent en compte l'information sur le gradient de second ordre ce qui leur permet de trouver plus rapidement la fonction de valeur optimale. Cependant, il s'agit de méthode à variance forte qui stagnent au bout d'un certain nombre d'epochs. "
   ]
  }
 ],
 "metadata": {
  "colab": {
   "provenance": []
  },
  "kernelspec": {
   "display_name": "Python 3 (ipykernel)",
   "language": "python",
   "name": "python3"
  },
  "language_info": {
   "codemirror_mode": {
    "name": "ipython",
    "version": 3
   },
   "file_extension": ".py",
   "mimetype": "text/x-python",
   "name": "python",
   "nbconvert_exporter": "python",
   "pygments_lexer": "ipython3",
   "version": "3.9.12"
  }
 },
 "nbformat": 4,
 "nbformat_minor": 1
}
